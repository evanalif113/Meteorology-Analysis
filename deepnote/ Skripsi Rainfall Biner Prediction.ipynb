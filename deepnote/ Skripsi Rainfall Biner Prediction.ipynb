{
  "cells": [
    {
      "cell_type": "code",
      "metadata": {
        "source_hash": "4d4611b0",
        "execution_start": 1737523421300,
        "execution_millis": 786,
        "execution_context_id": "a4a32681-5c8c-4335-be27-e08d964d92de",
        "cell_id": "1e5d37541c744c559f0b4231d102526c",
        "deepnote_cell_type": "code"
      },
      "source": "import pandas as pd\nimport numpy as np\nimport matplotlib.pyplot as plt\nimport seaborn as sns\nimport missingno as msno",
      "block_group": "1e5d37541c744c559f0b4231d102526c",
      "execution_count": 1,
      "outputs": [],
      "outputs_reference": null,
      "content_dependencies": null
    },
    {
      "cell_type": "code",
      "metadata": {
        "source_hash": "fafb6b96",
        "execution_start": 1737523422135,
        "execution_millis": 83,
        "execution_context_id": "a4a32681-5c8c-4335-be27-e08d964d92de",
        "cell_id": "1a5c7893d4ef479c833e9473d557b5a5",
        "deepnote_cell_type": "code"
      },
      "source": "data1 = pd.read_csv('/work/Daily_Cuaca_Kebumen.csv')",
      "block_group": "9d2b24487de14942bba9be3f87009800",
      "execution_count": 2,
      "outputs": [],
      "outputs_reference": null,
      "content_dependencies": null
    },
    {
      "cell_type": "code",
      "metadata": {
        "source_hash": "3ca8a117",
        "execution_start": 1737523422263,
        "execution_millis": 32,
        "execution_context_id": "a4a32681-5c8c-4335-be27-e08d964d92de",
        "cell_id": "b23c0147de79444bb08b5ab0dcfa1c4e",
        "deepnote_cell_type": "code"
      },
      "source": "data2 = pd.read_csv('/work/Kebumen 2023-01-01 to 2024-12-31.csv')",
      "block_group": "07fbcbe8b90a45bd8b95c1eef3147ddc",
      "execution_count": 3,
      "outputs": [],
      "outputs_reference": null,
      "content_dependencies": null
    },
    {
      "cell_type": "code",
      "metadata": {
        "source_hash": "59a88c",
        "execution_start": 1737523422346,
        "execution_millis": 2,
        "execution_context_id": "a4a32681-5c8c-4335-be27-e08d964d92de",
        "cell_id": "e674e6d92e594856b06c75c2a117ed50",
        "deepnote_cell_type": "code"
      },
      "source": "data1.tail(10)",
      "block_group": "dacb6f6e4f814581bddf5d3e939ba198",
      "execution_count": 4,
      "outputs": [],
      "outputs_reference": null,
      "content_dependencies": null
    },
    {
      "cell_type": "code",
      "metadata": {
        "source_hash": "c03fc85b",
        "execution_start": 1737523422389,
        "execution_millis": 1,
        "execution_context_id": "a4a32681-5c8c-4335-be27-e08d964d92de",
        "cell_id": "1b6adeeb64e945d9843f128b873ff6ee",
        "deepnote_cell_type": "code"
      },
      "source": "data2.tail(10)",
      "block_group": "224b97a7d2214e299e04cce845507432",
      "execution_count": 5,
      "outputs": [],
      "outputs_reference": null,
      "content_dependencies": null
    },
    {
      "cell_type": "code",
      "metadata": {
        "source_hash": "6493e981",
        "execution_start": 1737523422436,
        "execution_millis": 23,
        "deepnote_table_state": {
          "sortBy": [],
          "filters": [],
          "pageSize": 10,
          "pageIndex": 1712,
          "columnOrder": [
            "name",
            "datetime",
            "tempmax",
            "tempmin",
            "temp",
            "feelslikemax",
            "feelslikemin",
            "feelslike",
            "dew",
            "humidity",
            "precip",
            "precipprob",
            "precipcover",
            "preciptype",
            "snow",
            "snowdepth",
            "windgust",
            "windspeed",
            "winddir",
            "sealevelpressure",
            "cloudcover",
            "visibility",
            "solarradiation",
            "solarenergy",
            "uvindex",
            "severerisk",
            "sunrise",
            "sunset",
            "moonphase",
            "conditions",
            "description",
            "icon",
            "stations"
          ],
          "hiddenColumnIds": [],
          "columnDisplayNames": [],
          "conditionalFilters": [],
          "cellFormattingRules": [],
          "wrappedTextColumnIds": []
        },
        "execution_context_id": "a4a32681-5c8c-4335-be27-e08d964d92de",
        "deepnote_table_loading": false,
        "cell_id": "afe955ed220241d2a200c24c70a51c73",
        "deepnote_cell_type": "code"
      },
      "source": "data3 = pd.concat([data1, data2], ignore_index=True)\n\ndata3",
      "block_group": "f87b437f0db44c7bb3f9c00d2ebd8953",
      "execution_count": 6,
      "outputs": [],
      "outputs_reference": null,
      "content_dependencies": null
    },
    {
      "cell_type": "code",
      "metadata": {
        "source_hash": "5a82d9b6",
        "execution_start": 1737523422508,
        "execution_millis": 6913,
        "execution_context_id": "a4a32681-5c8c-4335-be27-e08d964d92de",
        "cell_id": "59333308dc3242e7a631dd543e5ef9c6",
        "deepnote_cell_type": "code"
      },
      "source": "# Menyimpan DataFrame ke file Excel\ndata3.to_excel('data 1978 - 2024.xlsx', index=False)",
      "block_group": "f6444ce0cecb4d51a582ad3d8ca1e306",
      "execution_count": 7,
      "outputs": [],
      "outputs_reference": null,
      "content_dependencies": null
    },
    {
      "cell_type": "code",
      "metadata": {
        "source_hash": "4191db40",
        "execution_start": 1737523429471,
        "execution_millis": 20,
        "execution_context_id": "a4a32681-5c8c-4335-be27-e08d964d92de",
        "cell_id": "33daa4a8f34d4104aa9762a5ed0885ac",
        "deepnote_cell_type": "code"
      },
      "source": "data3.describe()",
      "block_group": "07a63265f26a4649936b7d31ff3cf7f1",
      "execution_count": 8,
      "outputs": [],
      "outputs_reference": null,
      "content_dependencies": null
    },
    {
      "cell_type": "code",
      "metadata": {
        "source_hash": "a8ca1e81",
        "execution_start": 1737523429535,
        "execution_millis": 66,
        "execution_context_id": "a4a32681-5c8c-4335-be27-e08d964d92de",
        "cell_id": "56fa02ca9d924faf9b368824ecc828cf",
        "deepnote_cell_type": "code"
      },
      "source": "msno.matrix(data3)",
      "block_group": "ebb32a5ad25c4dcab40afd8e7c47a9b9",
      "execution_count": 9,
      "outputs": [],
      "outputs_reference": null,
      "content_dependencies": null
    },
    {
      "cell_type": "code",
      "metadata": {
        "source_hash": "43da320c",
        "execution_start": 1737523430288,
        "execution_millis": 0,
        "execution_context_id": "a4a32681-5c8c-4335-be27-e08d964d92de",
        "cell_id": "5ae154af9cdb445293ea7a5115d1d165",
        "deepnote_cell_type": "code"
      },
      "source": "data3.info()",
      "block_group": "597103fb19d54807812ccb62b803fb87",
      "execution_count": 10,
      "outputs": [],
      "outputs_reference": null,
      "content_dependencies": null
    },
    {
      "cell_type": "code",
      "metadata": {
        "source_hash": "11e69a3f",
        "execution_start": 1737523430335,
        "execution_millis": 17,
        "deepnote_table_state": {
          "sortBy": [],
          "filters": [],
          "pageSize": 100,
          "pageIndex": 1,
          "columnOrder": [
            "name",
            "datetime",
            "tempmax",
            "tempmin",
            "temp",
            "feelslikemax",
            "feelslikemin",
            "feelslike",
            "dew",
            "humidity",
            "precip",
            "precipprob",
            "precipcover",
            "preciptype",
            "snow",
            "snowdepth",
            "windgust",
            "windspeed",
            "winddir",
            "sealevelpressure",
            "cloudcover",
            "visibility",
            "solarradiation",
            "solarenergy",
            "uvindex",
            "severerisk",
            "sunrise",
            "sunset",
            "moonphase",
            "conditions",
            "description",
            "icon"
          ],
          "hiddenColumnIds": [],
          "columnDisplayNames": [],
          "conditionalFilters": [],
          "cellFormattingRules": [],
          "wrappedTextColumnIds": []
        },
        "execution_context_id": "a4a32681-5c8c-4335-be27-e08d964d92de",
        "deepnote_table_loading": false,
        "cell_id": "44c021eaf2fe4c978d56c2d6bdb574df",
        "deepnote_cell_type": "code"
      },
      "source": "data3",
      "block_group": "16af4a468d094df6842f712372d304f8",
      "execution_count": 11,
      "outputs": [],
      "outputs_reference": null,
      "content_dependencies": null
    },
    {
      "cell_type": "code",
      "metadata": {
        "source_hash": "cb714ca6",
        "execution_start": 1737523430399,
        "execution_millis": 0,
        "execution_context_id": "a4a32681-5c8c-4335-be27-e08d964d92de",
        "cell_id": "e2a40e0d077b41a6b35c6d12bcd73408",
        "deepnote_cell_type": "code"
      },
      "source": "data3['datetime'] = pd.to_datetime(data3['datetime'])",
      "block_group": "103d2ec1d1f246a88b2dfe3c44c77c26",
      "execution_count": 12,
      "outputs": [],
      "outputs_reference": null,
      "content_dependencies": null
    },
    {
      "cell_type": "code",
      "metadata": {
        "source_hash": "165bb4c9",
        "execution_start": 1737523430447,
        "execution_millis": 1,
        "execution_context_id": "a4a32681-5c8c-4335-be27-e08d964d92de",
        "cell_id": "ddce146df55e4486a91d0e0b5067c396",
        "deepnote_cell_type": "code"
      },
      "source": "data3.isnull().sum()",
      "block_group": "328e627d4e63452e95ba70a0ddc7bde5",
      "execution_count": 13,
      "outputs": [],
      "outputs_reference": null,
      "content_dependencies": null
    },
    {
      "cell_type": "markdown",
      "metadata": {
        "formattedRanges": [],
        "cell_id": "3b0401816a354f4f8ad2052e9c79a68b",
        "deepnote_cell_type": "text-cell-h1"
      },
      "source": "# Penyaringan Data",
      "block_group": "449f74b1180b43b19175f1c4a89ccb43"
    },
    {
      "cell_type": "code",
      "metadata": {
        "source_hash": "8e89a375",
        "execution_start": 1737523430495,
        "execution_millis": 1,
        "execution_context_id": "a4a32681-5c8c-4335-be27-e08d964d92de",
        "cell_id": "660e35d13a6446399a201c7e0f656243",
        "deepnote_cell_type": "code"
      },
      "source": "# Pilih kolom yang diinginkan\nselected_columns = [\n    'datetime',\n    'tempmax', \n    'tempmin', \n    'temp',  \n    'humidity', \n    'precip', \n    'sealevelpressure',\n    'windspeed',\n    'winddir',\n    'precipprob'\n]\n\n# Membuat DataFrame baru hanya dengan kolom yang dipilih\ndata_filtered = data3[selected_columns]\n\n# Menampilkan DataFrame hasil seleksi\nprint(data_filtered.head())",
      "block_group": "796db843907d49b08d6099c7f38855a8",
      "execution_count": 14,
      "outputs": [],
      "outputs_reference": null,
      "content_dependencies": null
    },
    {
      "cell_type": "code",
      "metadata": {
        "source_hash": "9f4e11f5",
        "execution_start": 1737523430544,
        "execution_millis": 8,
        "execution_context_id": "a4a32681-5c8c-4335-be27-e08d964d92de",
        "cell_id": "0268bf92687f41dfbf1d62f938a7f3dd",
        "deepnote_cell_type": "code"
      },
      "source": "data_filtered",
      "block_group": "dba53670d32542188abae149249a7876",
      "execution_count": 15,
      "outputs": [],
      "outputs_reference": null,
      "content_dependencies": null
    },
    {
      "cell_type": "code",
      "metadata": {
        "source_hash": "27ac7ad9",
        "execution_start": 1737523430596,
        "execution_millis": 6227,
        "execution_context_id": "a4a32681-5c8c-4335-be27-e08d964d92de",
        "cell_id": "ca43e81de07540ebb947edab4baee44b",
        "deepnote_cell_type": "code"
      },
      "source": "data_filtered.plot(\n    y=[\n    'tempmax', \n    'tempmin', \n    'temp',  \n    'humidity', \n    'precip', \n    'sealevelpressure',\n    'windspeed',\n    'winddir',\n    'precipprob'\n    ],\n    subplots=True, figsize=(10, 15))\nplt.show()\n\nfor column in ['tempmax', 'tempmin', 'temp', 'humidity', 'precip', 'sealevelpressure', 'windspeed', 'winddir', 'precipprob']:\n    sns.histplot(data_filtered[column], kde=True)\n    plt.title(f'Distribution of {column}')\n    plt.show()",
      "block_group": "dbca04a77dc44939ac2eb30c6279684c",
      "execution_count": 16,
      "outputs": [],
      "outputs_reference": null,
      "content_dependencies": null
    },
    {
      "cell_type": "markdown",
      "metadata": {
        "formattedRanges": [],
        "cell_id": "f70969890a6847aa8d844b9244e04f8e",
        "deepnote_cell_type": "text-cell-h1"
      },
      "source": "# Pembersihan Data - Bagian Null Value",
      "block_group": "38347584307f4151bdb0aa4f01a354b1"
    },
    {
      "cell_type": "code",
      "metadata": {
        "source_hash": "6095a65d",
        "execution_start": 1737523436871,
        "execution_millis": 5580,
        "execution_context_id": "a4a32681-5c8c-4335-be27-e08d964d92de",
        "cell_id": "47ac68d8726745278a473f6937ad7e2a",
        "deepnote_cell_type": "code"
      },
      "source": "import pandas as pd\nimport matplotlib.pyplot as plt\nfrom sklearn.impute import KNNImputer\n\n# Daftar kolom yang akan digunakan\ncolumns_to_clean = [\n    'tempmax', \n    'tempmin', \n    'temp',  \n    'humidity', \n    'precip', \n    'sealevelpressure',\n    'windspeed',\n    'winddir'\n]\n\n# Inisialisasi KNN Imputer\nknn_imputer = KNNImputer(n_neighbors=5, weights=\"uniform\")  # Menggunakan 5 tetangga terdekat\n\n# Mengganti NaN dengan KNN Imputer dan menyimpan hasil ke DataFrame baru\ndata3_cleaned = data_filtered.copy()\ndata3_cleaned[columns_to_clean] = knn_imputer.fit_transform(data_filtered[columns_to_clean])\n\n# Visualisasi data setelah menggantikan NaN\ndata3_cleaned.plot(\n    y=columns_to_clean,\n    subplots=True,\n    figsize=(10, 15),\n    title='Data Setelah Imputasi dengan KNN'\n)\nplt.show()\n",
      "block_group": "d3a37e1e3fbd492a9bd166c9532671d7",
      "execution_count": 17,
      "outputs": [],
      "outputs_reference": null,
      "content_dependencies": null
    },
    {
      "cell_type": "code",
      "metadata": {
        "source_hash": "5ac66faa",
        "execution_start": 1737523442495,
        "execution_millis": 1,
        "execution_context_id": "a4a32681-5c8c-4335-be27-e08d964d92de",
        "cell_id": "46e88a933b4b4dfeb8f397a2e2a71300",
        "deepnote_cell_type": "code"
      },
      "source": "# Mengganti nilai NaN di kolom 'precipprob' dengan 0\ndata3_cleaned['precipprob'] = data3_cleaned['precipprob'].fillna(0)",
      "block_group": "f990ed0d5da64894958c80c0bfc0f212",
      "execution_count": 18,
      "outputs": [],
      "outputs_reference": null,
      "content_dependencies": null
    },
    {
      "cell_type": "code",
      "metadata": {
        "source_hash": "38d6150d",
        "execution_start": 1737523442544,
        "execution_millis": 0,
        "execution_context_id": "a4a32681-5c8c-4335-be27-e08d964d92de",
        "cell_id": "264f3526fa2b41edbc86507d9dd1d4fd",
        "deepnote_cell_type": "code"
      },
      "source": "data3_cleaned.isnull().sum()",
      "block_group": "89c2ace239c94359858c9d600edbb299",
      "execution_count": 19,
      "outputs": [],
      "outputs_reference": null,
      "content_dependencies": null
    },
    {
      "cell_type": "code",
      "metadata": {
        "source_hash": "5c4d173a",
        "execution_start": 1737523442595,
        "execution_millis": 6489,
        "execution_context_id": "a4a32681-5c8c-4335-be27-e08d964d92de",
        "cell_id": "b4ef32fd6bdb413a93c80be7332eafe1",
        "deepnote_cell_type": "code"
      },
      "source": "# Daftar kolom yang akan divisualisasikan\ncolumns = ['tempmax', 'tempmin', 'temp',  'humidity', 'precip', \n           'sealevelpressure', 'windspeed', 'winddir', 'precipprob']\n\n# Loop untuk membuat histogram dan boxplot\nfor column in columns:\n    # Histogram\n    plt.figure(figsize=(10, 5))\n    sns.histplot(data3_cleaned[column], kde=True, color='blue')\n    plt.title(f'Distribution of {column} (Histogram)')\n    plt.xlabel(column)\n    plt.ylabel('Frequency')\n    plt.show()\n    \n    # Boxplot\n    plt.figure(figsize=(10, 5))\n    sns.boxplot(x=data3_cleaned[column], color='orange')\n    plt.title(f'Distribution of {column} (Boxplot)')\n    plt.xlabel(column)\n    plt.show()",
      "block_group": "d7471193855f488994c650ec4ed77b4e",
      "execution_count": 20,
      "outputs": [],
      "outputs_reference": null,
      "content_dependencies": null
    },
    {
      "cell_type": "markdown",
      "metadata": {
        "formattedRanges": [],
        "cell_id": "d4be75bbf4e94b89b3059b135bd2c09f",
        "deepnote_cell_type": "text-cell-h1"
      },
      "source": "# Pembersihan Data - Bagian Outliers ",
      "block_group": "60d349a5389d4335ac8ab35b1f920c0a"
    },
    {
      "cell_type": "code",
      "metadata": {
        "source_hash": "af1e3d3b",
        "execution_start": 1737523449132,
        "execution_millis": 0,
        "execution_context_id": "a4a32681-5c8c-4335-be27-e08d964d92de",
        "cell_id": "68ab595ce6e14614baf8f857ef80a2bd",
        "deepnote_cell_type": "code"
      },
      "source": "import numpy as np\nimport pandas as pd\n\n# Salin data asli\ndata_fix = data3_cleaned.copy()\n\n# Daftar kolom yang akan dibersihkan dari outlier\ncolumns_to_clean = [\n    'tempmax', \n    'tempmin', \n    'temp', \n    'humidity',                 \n    'sealevelpressure', \n    'windspeed'\n]\n\n# Fungsi untuk mengganti outlier menggunakan IQR\ndef replace_outliers_with_iqr(df, column):\n    Q1 = df[column].quantile(0.25)  # Kuartil 1\n    Q3 = df[column].quantile(0.75)  # Kuartil 3\n    IQR = Q3 - Q1  # Interquartile Range\n    lower_bound = Q1 - 1.5 * IQR  # Batas bawah\n    upper_bound = Q3 + 1.5 * IQR  # Batas atas\n\n    # Identifikasi outliers\n    outliers = (df[column] < lower_bound) | (df[column] > upper_bound)\n\n    # Ganti outliers dengan median kolom\n    median_value = df[column].median()\n    df.loc[outliers, column] = median_value\n\n# Terapkan IQR pada setiap kolom dalam daftar\nfor column in columns_to_clean:\n    replace_outliers_with_iqr(data_fix, column)\n\n# Tampilkan data yang telah dibersihkan\nprint(\"Data setelah menggantikan outliers menggunakan IQR:\")\nprint(data_fix.head(10))\n",
      "block_group": "5a9c0e24816b44dd8678d1cb262625ae",
      "execution_count": 21,
      "outputs": [],
      "outputs_reference": null,
      "content_dependencies": null
    },
    {
      "cell_type": "code",
      "metadata": {
        "source_hash": "cebdec0b",
        "execution_start": 1737523449179,
        "execution_millis": 1473,
        "execution_context_id": "a4a32681-5c8c-4335-be27-e08d964d92de",
        "cell_id": "11590530a8c2407ea0018ba84817f415",
        "deepnote_cell_type": "code"
      },
      "source": "# Visualisasi data setelah menggantikan NaN\ndata_fix.plot(\n    subplots=True,\n    figsize=(10, 15),\n    title='Data setelah pembersihan Outlier'\n)\nplt.show()",
      "block_group": "11fb735c5955400ea1264823168af298",
      "execution_count": 22,
      "outputs": [],
      "outputs_reference": null,
      "content_dependencies": null
    },
    {
      "cell_type": "code",
      "metadata": {
        "source_hash": "a593fd42",
        "execution_start": 1737523450699,
        "execution_millis": 5989,
        "execution_context_id": "a4a32681-5c8c-4335-be27-e08d964d92de",
        "cell_id": "bff743ba2ec1424891d2b4dbca911db0",
        "deepnote_cell_type": "code"
      },
      "source": "# Daftar kolom yang akan divisualisasikan\ncolumns = ['tempmax', 'tempmin', 'temp', 'humidity', 'precip', \n           'sealevelpressure', 'windspeed', 'winddir', 'precipprob']\n\n# Loop untuk membuat histogram dan boxplot\nfor column in columns:\n    # Histogram\n    plt.figure(figsize=(10, 5))\n    sns.histplot(data_fix[column], kde=True, color='blue')\n    plt.title(f'Distribution of {column} (Histogram)')\n    plt.xlabel(column)\n    plt.ylabel('Frequency')\n    plt.show()\n    \n    # Boxplot\n    plt.figure(figsize=(10, 5))\n    sns.boxplot(x=data_fix[column], color='orange')\n    plt.title(f'Distribution of {column} (Boxplot)')\n    plt.xlabel(column)\n    plt.show()",
      "block_group": "c3a85e42819049e08089cfc7d6be9c94",
      "execution_count": 23,
      "outputs": [],
      "outputs_reference": null,
      "content_dependencies": null
    },
    {
      "cell_type": "code",
      "metadata": {
        "source_hash": "8e68c5f8",
        "execution_start": 1737523456735,
        "execution_millis": 273,
        "execution_context_id": "a4a32681-5c8c-4335-be27-e08d964d92de",
        "cell_id": "a53bf40087bf4045854ab038dcd8e6be",
        "deepnote_cell_type": "code"
      },
      "source": "# Memilih hanya kolom yang diinginkan\nselected_columns = [\n    'tempmax', \n    'tempmin', \n    'temp',  \n    'humidity', \n    'precip', \n    'sealevelpressure',\n    'windspeed'\n\n]\n\n# Menghitung matriks korelasi hanya untuk kolom yang dipilih\ncorrmat = data_fix[selected_columns].corr()\n\n# Menentukan palet warna untuk heatmap\ncmap = sns.color_palette(\"RdBu\", as_cmap=True)\n\n# Membuat heatmap dengan ukuran yang sesuai\nplt.figure(figsize=(12,12))\nsns.heatmap(corrmat, cmap=cmap, annot=True, square=True)\nplt.title('Korelasi Heatmap antar Variabel')\nplt.show()",
      "block_group": "b4330727b2644d06b6c6ae2f96a9e309",
      "execution_count": 24,
      "outputs": [],
      "outputs_reference": null,
      "content_dependencies": null
    },
    {
      "cell_type": "markdown",
      "metadata": {
        "formattedRanges": [],
        "cell_id": "dcd45d9cd8214965ae9bd273d32df2d4",
        "deepnote_cell_type": "text-cell-h1"
      },
      "source": "# Data Preproses - Membuat Target (Y)",
      "block_group": "a20c3573ef6c422ea697c6b00c1a8194"
    },
    {
      "cell_type": "code",
      "metadata": {
        "source_hash": "f50afb43",
        "execution_start": 1737523457055,
        "execution_millis": 0,
        "execution_context_id": "a4a32681-5c8c-4335-be27-e08d964d92de",
        "cell_id": "ffa49d1e2666492c8e30b36c64822993",
        "deepnote_cell_type": "code"
      },
      "source": "# Rename the column 'precipprob' to 'precipToday'\ndata_fix.rename(columns={'precipprob': 'precipToday'}, inplace=True)",
      "block_group": "cf48684255f84e93b0656a10516bd5d2",
      "execution_count": 25,
      "outputs": [],
      "outputs_reference": null,
      "content_dependencies": null
    },
    {
      "cell_type": "code",
      "metadata": {
        "source_hash": "164f5ad3",
        "execution_start": 1737523457103,
        "execution_millis": 1,
        "execution_context_id": "a4a32681-5c8c-4335-be27-e08d964d92de",
        "cell_id": "55f79e50f24c48bb94048db56614d61c",
        "deepnote_cell_type": "code"
      },
      "source": "# Menambahkan kolom klasifikasi precip\ndef classify_precip(value):\n    if 0 <= value <=0.1:\n        return 'No Rain'\n    elif 0.1 <= value <= 19.9:\n        return 'Light'\n    elif 20.0 <= value <= 49.9:\n        return 'Medium'\n    elif 50.0 <= value <= 99.9:\n        return 'Heavy'\n    elif value >= 100.0:\n        return 'Extrem'\n    else:\n        return 'Unknown'  # Untuk nilai yang tidak masuk dalam range\n\n# Terapkan klasifikasi ke kolom precip\ndata_fix['precip_class_Today'] = data_fix['precip'].apply(classify_precip)",
      "block_group": "7773206256e041bea83b6d257aecb767",
      "execution_count": 26,
      "outputs": [],
      "outputs_reference": null,
      "content_dependencies": null
    },
    {
      "cell_type": "markdown",
      "metadata": {
        "formattedRanges": [],
        "cell_id": "280cc09c580a4f8c801d5d968fe5ae45",
        "deepnote_cell_type": "text-cell-h3"
      },
      "source": "### Penggeseran Kolom biner hujan",
      "block_group": "1d4f7bc992a543be9193c4b23a78edb5"
    },
    {
      "cell_type": "code",
      "metadata": {
        "source_hash": "3ab6c5dd",
        "execution_start": 1737523457151,
        "execution_millis": 0,
        "execution_context_id": "a4a32681-5c8c-4335-be27-e08d964d92de",
        "cell_id": "45b7678c47cd459ea71c7a872ca4afd3",
        "deepnote_cell_type": "code"
      },
      "source": "# Geser kolom\ndata_fix['precipTomorrow'] = data_fix['precipToday'].shift(-1)\n\n# Isi nilai NaN dengan median\nfill_value = data_fix['precipToday'].median()\ndata_fix['precipTomorrow']= data_fix['precipTomorrow'].fillna(fill_value)",
      "block_group": "827897dc488b452aa177b6c5f207db70",
      "execution_count": 27,
      "outputs": [],
      "outputs_reference": null,
      "content_dependencies": null
    },
    {
      "cell_type": "code",
      "metadata": {
        "source_hash": "5ad019f0",
        "execution_start": 1737523457199,
        "execution_millis": 0,
        "execution_context_id": "a4a32681-5c8c-4335-be27-e08d964d92de",
        "cell_id": "9425d97f516844eb94d9849148fc8715",
        "deepnote_cell_type": "code"
      },
      "source": "# Geser kolom\ndata_fix['precip_class_Tomorrow'] = data_fix['precip_class_Today'].shift(-1)\n\ndata_fix['precip_class_Tomorrow']= data_fix['precip_class_Tomorrow'].fillna('No Rain')",
      "block_group": "b2f269eff3c649a38eaee1400d5a4f9c",
      "execution_count": 28,
      "outputs": [],
      "outputs_reference": null,
      "content_dependencies": null
    },
    {
      "cell_type": "code",
      "metadata": {
        "source_hash": "a37d8fb0",
        "execution_start": 1737523457252,
        "execution_millis": 3,
        "execution_context_id": "a4a32681-5c8c-4335-be27-e08d964d92de",
        "cell_id": "86d959bccce743e8be2caae7416905d1",
        "deepnote_cell_type": "code"
      },
      "source": "sns.countplot(x=data_fix[\"precip_class_Today\"])",
      "block_group": "27ee2cfe373144d899318bf0b55ab911",
      "execution_count": 29,
      "outputs": [],
      "outputs_reference": null,
      "content_dependencies": null
    },
    {
      "cell_type": "code",
      "metadata": {
        "source_hash": "ca8ecf9f",
        "execution_start": 1737523457436,
        "execution_millis": 32,
        "execution_context_id": "a4a32681-5c8c-4335-be27-e08d964d92de",
        "cell_id": "43b91137d336494d8ace840979ed9a4b",
        "deepnote_cell_type": "code"
      },
      "source": "sns.countplot(x= data_fix[\"precipToday\"])",
      "block_group": "27ee2cfe373144d899318bf0b55ab911",
      "execution_count": 30,
      "outputs": [],
      "outputs_reference": null,
      "content_dependencies": null
    },
    {
      "cell_type": "code",
      "metadata": {
        "source_hash": "a86275b5",
        "execution_start": 1737523457640,
        "execution_millis": 23,
        "execution_context_id": "a4a32681-5c8c-4335-be27-e08d964d92de",
        "cell_id": "93b5beeddd444ae99468c6b15c5811ff",
        "deepnote_cell_type": "code"
      },
      "source": "sns.countplot(x=data_fix[\"precip_class_Tomorrow\"])",
      "block_group": "0ae3b86d361d45f3a4596436ed53f19a",
      "execution_count": 31,
      "outputs": [],
      "outputs_reference": null,
      "content_dependencies": null
    },
    {
      "cell_type": "code",
      "metadata": {
        "allow_embed": false,
        "source_hash": "c79cca33",
        "execution_start": 1737523457860,
        "execution_millis": 32,
        "execution_context_id": "a4a32681-5c8c-4335-be27-e08d964d92de",
        "cell_id": "b9d83dd63f494a4d8985a94cecce562f",
        "deepnote_cell_type": "code"
      },
      "source": "sns.countplot(x= data_fix[\"precipTomorrow\"])",
      "block_group": "0ae3b86d361d45f3a4596436ed53f19a",
      "execution_count": 32,
      "outputs": [],
      "outputs_reference": null,
      "content_dependencies": null
    },
    {
      "cell_type": "code",
      "metadata": {
        "source_hash": "a8ededfd",
        "execution_start": 1737523458048,
        "execution_millis": 55156,
        "execution_context_id": "a4a32681-5c8c-4335-be27-e08d964d92de",
        "cell_id": "27421895f2ca407a847932dbaed9b434",
        "deepnote_cell_type": "code"
      },
      "source": "\n# Membuat pairplot dengan palet warna dan penyesuaian lainnya\npairplot = sns.pairplot(\n    data=data_fix,\n    vars=[\n        'tempmax', \n        'tempmin', \n        'temp', \n        'humidity', \n        'precip',\n        'sealevelpressure',\n        'windspeed'\n    ],\n    hue='precip_class_Tomorrow',  # Warna berdasarkan kategori precipprob\n    diag_kind=\"kde\",  # Kernel Density Estimation untuk distribusi diagonal\n    height=2,  # Ukuran setiap plot\n    aspect=1.2  # Rasio panjang-lebar plot\n)\n\n# Menambahkan judul untuk keseluruhan grafik\npairplot.fig.suptitle(\n    \"Pairplot of Weather Features by Precipitation Classification\",\n    y=1.02,  # Penyesuaian jarak dari grafik ke judul\n    fontsize=16\n)\n\n# Menampilkan grafik\nplt.savefig(\"Pairplot_Features.jpg\")\nplt.show()",
      "block_group": "1194efe3d2b04e8eba2858b5fa5d8941",
      "execution_count": 33,
      "outputs": [],
      "outputs_reference": null,
      "content_dependencies": null
    },
    {
      "cell_type": "code",
      "metadata": {
        "source_hash": "e8a413d6",
        "execution_start": 1737523513252,
        "execution_millis": 28,
        "deepnote_table_state": {
          "sortBy": [],
          "filters": [],
          "pageSize": 10,
          "pageIndex": 3,
          "columnOrder": [
            "datetime",
            "tempmax",
            "tempmin",
            "temp",
            "humidity",
            "precip",
            "sealevelpressure",
            "windspeed",
            "winddir",
            "precipToday",
            "precip_class_Today",
            "precipTomorrow"
          ],
          "hiddenColumnIds": [],
          "columnDisplayNames": [],
          "conditionalFilters": [],
          "cellFormattingRules": [],
          "wrappedTextColumnIds": []
        },
        "execution_context_id": "a4a32681-5c8c-4335-be27-e08d964d92de",
        "deepnote_table_loading": false,
        "cell_id": "9212ea319bf94c79958a7095a52efc6f",
        "deepnote_cell_type": "code"
      },
      "source": "data_fix",
      "block_group": "e3e659723489413aba04c421630bb5be",
      "execution_count": 34,
      "outputs": [],
      "outputs_reference": null,
      "content_dependencies": null
    },
    {
      "cell_type": "code",
      "metadata": {
        "source_hash": "99b31624",
        "execution_start": 1737523513328,
        "execution_millis": 0,
        "execution_context_id": "a4a32681-5c8c-4335-be27-e08d964d92de",
        "cell_id": "9440d9284c8140a7af21d84f9281b8b4",
        "deepnote_cell_type": "code"
      },
      "source": "data_fix.info()",
      "block_group": "0a87b27abb004c17a13ed38820b84936",
      "execution_count": 35,
      "outputs": [],
      "outputs_reference": null,
      "content_dependencies": null
    },
    {
      "cell_type": "code",
      "metadata": {
        "source_hash": "8bcb7d43",
        "execution_start": 1737523513380,
        "execution_millis": 0,
        "execution_context_id": "a4a32681-5c8c-4335-be27-e08d964d92de",
        "cell_id": "5a92b6c5b57a4bfc9e243f7752c1d834",
        "deepnote_cell_type": "code"
      },
      "source": "data_fix.describe()",
      "block_group": "01da61a43c7e415ca423f2e1d1665190",
      "execution_count": 36,
      "outputs": [],
      "outputs_reference": null,
      "content_dependencies": null
    },
    {
      "cell_type": "code",
      "metadata": {
        "source_hash": "87160dd3",
        "execution_start": 1737523513432,
        "execution_millis": 0,
        "execution_context_id": "a4a32681-5c8c-4335-be27-e08d964d92de",
        "cell_id": "88bcd44d63ce4513893e70711c04eb60",
        "deepnote_cell_type": "code"
      },
      "source": "data_fix.isna().sum()",
      "block_group": "c3e150d687ef4bf0938055eca1a8e909",
      "execution_count": 37,
      "outputs": [],
      "outputs_reference": null,
      "content_dependencies": null
    },
    {
      "cell_type": "code",
      "metadata": {
        "source_hash": "7057ed1b",
        "execution_start": 1737523513488,
        "execution_millis": 57812,
        "execution_context_id": "a4a32681-5c8c-4335-be27-e08d964d92de",
        "cell_id": "04360c3fa4594d3dab3bc101f4e5d869",
        "deepnote_cell_type": "code"
      },
      "source": "# Library Dasar\nimport matplotlib.pyplot as plt\nimport pandas as pd\nimport seaborn as sns\n\n# Model dan Algoritma\nfrom sklearn.tree import DecisionTreeClassifier\nfrom sklearn.ensemble import RandomForestClassifier\nfrom sklearn.neighbors import KNeighborsClassifier\nfrom sklearn.svm import SVC\nfrom sklearn.neural_network import MLPClassifier\n\n# Data Processing dan Evaluasi\nfrom sklearn.model_selection import train_test_split\nfrom sklearn.preprocessing import StandardScaler, label_binarize\nfrom sklearn.metrics import accuracy_score, classification_report, roc_curve, auc, confusion_matrix, ConfusionMatrixDisplay\n\n# Membagi variabel independen dan target\nX = data_fix[[\n    'temp', \n    'tempmax',\n    'tempmin',\n    'humidity',\n    'precip',\n    'sealevelpressure',\n    'windspeed'\n]]  # Variabel independen\ny = data_fix['precip_class_Tomorrow']  # Target (multiclass classification)\n\n# Membagi dataset menjadi data latih dan data uji\nX_train, X_test, y_train, y_test = train_test_split(X, y, test_size=0.2, random_state=50)\n\n# Normalisasi fitur numerik\nscaler = StandardScaler()\nX_train_scaled = scaler.fit_transform(X_train)\nX_test_scaled = scaler.transform(X_test)\n\n# Binarisasi target untuk ROC AUC multikelas\nclasses = y.unique()  # Daftar kelas\ny_train_bin = label_binarize(y_train, classes=classes)\ny_test_bin = label_binarize(y_test, classes=classes)\nn_classes = y_train_bin.shape[1]\n\n# Daftar model klasifikasi\nmodels = {\n    'Decision Tree': DecisionTreeClassifier(random_state=100),\n    'Random Forest': RandomForestClassifier(random_state=100),\n    'K-Nearest Neighbors': KNeighborsClassifier(n_neighbors=5),\n    'Support Vector Machine': SVC(probability=True, random_state=100),\n    'Neural Networks': MLPClassifier(random_state=100, max_iter=1000)\n}\n\n# Evaluasi model dan penyimpanan hasil\nresults = []\n\n# Plot ROC Curve untuk setiap model secara terpisah\nfor idx, (name, model) in enumerate(models.items()):\n    # Melatih model\n    model.fit(X_train_scaled, y_train)\n    \n    # Prediksi\n    y_pred = model.predict(X_test_scaled)\n    y_prob = model.predict_proba(X_test_scaled)  # Probabilitas untuk semua kelas\n\n    # Evaluasi performa dasar\n    accuracy = accuracy_score(y_test, y_pred)\n    report = classification_report(y_test, y_pred, output_dict=True)\n    results.append({\n        'Model': name,\n        'Accuracy': accuracy,\n        'Precision (macro avg)': report['macro avg']['precision'],\n        'Recall (macro avg)': report['macro avg']['recall'],\n        'F1-Score (macro avg)': report['macro avg']['f1-score']\n    })\n    \n    # Menampilkan Confusion Matrix\n    cm = confusion_matrix(y_test, y_pred, labels=classes)\n    disp = ConfusionMatrixDisplay(confusion_matrix=cm, display_labels=classes)\n    disp.plot(cmap='Blues', values_format='d')\n    plt.title(f'Confusion Matrix for {name}')\n    plt.show()\n    \n    # Plot ROC Curve untuk tiap kelas dalam model\n    plt.figure(figsize=(8, 6))\n    for i in range(n_classes):\n        fpr, tpr, _ = roc_curve(y_test_bin[:, i], y_prob[:, i])\n        roc_auc = auc(fpr, tpr)\n        plt.plot(\n            fpr, \n            tpr, \n            linestyle='-', \n            label=f'Class {classes[i]} (AUC = {roc_auc:.2f})')\n    \n    # Menambahkan garis diagonal sebagai referensi untuk prediksi acak\n    plt.plot([0, 1], [0, 1], color='black', linestyle='--', label='Random Prediction')\n    \n    # Pengaturan grafik ROC untuk model\n    plt.title(f'ROC Curve for {name}')\n    plt.xlabel('False Positive Rate')\n    plt.ylabel('True Positive Rate')\n    plt.legend(loc='lower right', fontsize='small')\n    plt.grid(True)\n    plt.show()\n\n# Menampilkan tabel hasil evaluasi\nresults_df = pd.DataFrame(results)\nprint(\"Hasil Evaluasi Model:\")\nprint(results_df)\n",
      "block_group": "d0323bb52c2d4ce5bd6e3e2cdd7df18c",
      "execution_count": 38,
      "outputs": [],
      "outputs_reference": null,
      "content_dependencies": null
    },
    {
      "cell_type": "code",
      "metadata": {
        "source_hash": "148b22a7",
        "execution_start": 1737523571376,
        "execution_millis": 0,
        "execution_context_id": "a4a32681-5c8c-4335-be27-e08d964d92de",
        "cell_id": "cd4eec6e76d94eb2abf919acca551aa1",
        "deepnote_cell_type": "code"
      },
      "source": "data_fix.head(10)",
      "block_group": "3c37fdb87c9f4dc088564d5c436f35d4",
      "execution_count": 39,
      "outputs": [],
      "outputs_reference": null,
      "content_dependencies": null
    },
    {
      "cell_type": "code",
      "metadata": {
        "source_hash": "921f00f0",
        "execution_start": 1737523571427,
        "execution_millis": 1,
        "execution_context_id": "a4a32681-5c8c-4335-be27-e08d964d92de",
        "cell_id": "ef41bf70e6df4d1fb609a35af3273f9d",
        "deepnote_cell_type": "code"
      },
      "source": "import pandas as pd\nimport matplotlib.pyplot as plt\n\n# Konversi kolom 'datetime' menjadi format datetime jika belum dilakukan\ndata_fix['datetime'] = pd.to_datetime(data_fix['datetime'])\n\n# Set 'datetime' sebagai index untuk analisis waktu\ndata_fix.set_index('datetime', inplace=True)\n",
      "block_group": "b3cd63c7e5014769b31d60629de03baa",
      "execution_count": 40,
      "outputs": [],
      "outputs_reference": null,
      "content_dependencies": null
    },
    {
      "cell_type": "code",
      "metadata": {
        "source_hash": "5c3ac461",
        "execution_start": 1737523571479,
        "execution_millis": 2558,
        "execution_context_id": "a4a32681-5c8c-4335-be27-e08d964d92de",
        "cell_id": "2d8173a7be2d4280bfdc661942182706",
        "deepnote_cell_type": "code"
      },
      "source": "# Menambahkan kolom satuan waktu dari variabel datetime\ndata_fix['year'] = data_fix.index.year\ndata_fix['month'] = data_fix.index.month\ndata_fix['day'] = data_fix.index.day\n\n# Agregasi curah hujan berdasarkan satuan waktu tertentu\n# Curah hujan harian\ndaily_rainfall = data_fix['precip'].resample('D').sum()\n\n# Curah hujan bulanan\nmonthly_rainfall = data_fix['precip'].resample('M').sum()\n\n# Curah hujan tahunan\nyearly_rainfall = data_fix['precip'].resample('Y').sum()\n\n# Curah hujan musiman\nseasonal_rainfall = data_fix['precip'].resample('Q').sum()\n\n# Menghitung rata-rata curah hujan per bulan (menggabungkan semua tahun)\naverage_monthly_rainfall = data_fix.groupby('month')['precip'].mean()\n\n# Menghitung rata-rata curah hujan per tahun\naverage_yearly_rainfall = data_fix.groupby('year')['precip'].mean()\n\n# Visualisasi Curah Hujan Bulanan\nplt.figure(figsize=(10, 6))\nmonthly_rainfall.plot(kind='line', color='skyblue', alpha=0.7)\nplt.title(\"Curah Hujan Bulanan\")\nplt.xlabel(\"Bulan\")\nplt.ylabel(\"Curah Hujan (mm)\")\nplt.grid(axis='y', linestyle='--', alpha=0.7)\nplt.tight_layout()\nplt.show()\n\n# Visualisasi Curah Hujan Tahunan\nplt.figure(figsize=(10, 6))\nyearly_rainfall.plot(kind='bar', color='orange', alpha=0.7)\nplt.title(\"Curah Hujan Tahunan\")\nplt.xlabel(\"Tahun\")\nplt.ylabel(\"Curah Hujan (mm)\")\nplt.grid(axis='y', linestyle='--', alpha=0.7)\nplt.tight_layout()\nplt.show()\n\n# Visualisasi Curah Hujan Musiman\nplt.figure(figsize=(10, 6))\nseasonal_rainfall.plot(kind='bar', color='purple', alpha=0.7)\nplt.title(\"Curah Hujan Musiman\")\nplt.xlabel(\"Musim\")\nplt.ylabel(\"Curah Hujan (mm)\")\nplt.grid()\nplt.tight_layout()\nplt.show()\n\n# Visualisasi rata-rata curah hujan per bulan\nplt.figure(figsize=(10, 6))\naverage_monthly_rainfall.plot(kind='bar', color='dodgerblue', alpha=0.8)\nplt.title(\"Rata-rata Curah Hujan Bulanan\")\nplt.xlabel(\"Bulan\")\nplt.ylabel(\"Rata-rata Curah Hujan (mm)\")\nplt.xticks(ticks=range(12), labels=['Jan', 'Feb', 'Mar', 'Apr', 'May', 'Jun', 'Jul', 'Aug', 'Sep', 'Oct', 'Nov', 'Dec'])\nplt.grid(axis='y', linestyle='--', alpha=0.7)\nplt.tight_layout()\nplt.show()\n\n# Visualisasi rata-rata curah hujan per tahun\nplt.figure(figsize=(10, 6))\naverage_yearly_rainfall.plot(kind='bar', color='green', alpha=0.8)\nplt.title(\"Rata-rata Curah Hujan Tahunan\")\nplt.xlabel(\"Tahun\")\nplt.ylabel(\"Rata-rata Curah Hujan (mm)\")\nplt.grid(axis='y', linestyle='--', alpha=0.7)\nplt.tight_layout()\nplt.show()",
      "block_group": "51f5f103bd3a4c18aa521c325cdd42d2",
      "execution_count": 41,
      "outputs": [],
      "outputs_reference": null,
      "content_dependencies": null
    },
    {
      "cell_type": "markdown",
      "source": "<a style='text-decoration:none;line-height:16px;display:flex;color:#5B5B62;padding:10px;justify-content:end;' href='https://deepnote.com?utm_source=created-in-deepnote-cell&projectId=200afad5-8991-4e20-8a55-8751c7aff3b5' target=\"_blank\">\n<img alt='Created in deepnote.com' style='display:inline;max-height:16px;margin:0px;margin-right:7.5px;' src='data:image/svg+xml;base64,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' > </img>\nCreated in <span style='font-weight:600;margin-left:4px;'>Deepnote</span></a>",
      "metadata": {
        "created_in_deepnote_cell": true,
        "deepnote_cell_type": "markdown"
      }
    }
  ],
  "nbformat": 4,
  "nbformat_minor": 0,
  "metadata": {
    "deepnote_notebook_id": "4555e642627e4fdd877f8a6ec8ee0aff"
  }
}