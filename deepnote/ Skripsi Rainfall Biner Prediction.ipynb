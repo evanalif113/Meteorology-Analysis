{
  "cells": [
    {
      "cell_type": "code",
      "execution_count": 1,
      "metadata": {
        "cell_id": "1e5d37541c744c559f0b4231d102526c",
        "deepnote_cell_type": "code",
        "execution_context_id": "a4a32681-5c8c-4335-be27-e08d964d92de",
        "execution_millis": 786,
        "execution_start": 1737523421300,
        "source_hash": "4d4611b0"
      },
      "outputs": [],
      "source": [
        "import pandas as pd\n",
        "import numpy as np\n",
        "import matplotlib.pyplot as plt\n",
        "import seaborn as sns\n",
        "import missingno as msno"
      ]
    },
    {
      "cell_type": "code",
      "execution_count": 2,
      "metadata": {
        "cell_id": "1a5c7893d4ef479c833e9473d557b5a5",
        "deepnote_cell_type": "code",
        "execution_context_id": "a4a32681-5c8c-4335-be27-e08d964d92de",
        "execution_millis": 83,
        "execution_start": 1737523422135,
        "source_hash": "fafb6b96"
      },
      "outputs": [
        {
          "ename": "FileNotFoundError",
          "evalue": "[Errno 2] No such file or directory: '/work/Daily_Cuaca_Kebumen.csv'",
          "output_type": "error",
          "traceback": [
            "\u001b[1;31m---------------------------------------------------------------------------\u001b[0m",
            "\u001b[1;31mFileNotFoundError\u001b[0m                         Traceback (most recent call last)",
            "Cell \u001b[1;32mIn[2], line 1\u001b[0m\n\u001b[1;32m----> 1\u001b[0m data1 \u001b[38;5;241m=\u001b[39m \u001b[43mpd\u001b[49m\u001b[38;5;241;43m.\u001b[39;49m\u001b[43mread_csv\u001b[49m\u001b[43m(\u001b[49m\u001b[38;5;124;43m'\u001b[39;49m\u001b[38;5;124;43m/work/Daily_Cuaca_Kebumen.csv\u001b[39;49m\u001b[38;5;124;43m'\u001b[39;49m\u001b[43m)\u001b[49m\n",
            "File \u001b[1;32md:\\conda_env\\panel\\Lib\\site-packages\\pandas\\io\\parsers\\readers.py:1026\u001b[0m, in \u001b[0;36mread_csv\u001b[1;34m(filepath_or_buffer, sep, delimiter, header, names, index_col, usecols, dtype, engine, converters, true_values, false_values, skipinitialspace, skiprows, skipfooter, nrows, na_values, keep_default_na, na_filter, verbose, skip_blank_lines, parse_dates, infer_datetime_format, keep_date_col, date_parser, date_format, dayfirst, cache_dates, iterator, chunksize, compression, thousands, decimal, lineterminator, quotechar, quoting, doublequote, escapechar, comment, encoding, encoding_errors, dialect, on_bad_lines, delim_whitespace, low_memory, memory_map, float_precision, storage_options, dtype_backend)\u001b[0m\n\u001b[0;32m   1013\u001b[0m kwds_defaults \u001b[38;5;241m=\u001b[39m _refine_defaults_read(\n\u001b[0;32m   1014\u001b[0m     dialect,\n\u001b[0;32m   1015\u001b[0m     delimiter,\n\u001b[1;32m   (...)\u001b[0m\n\u001b[0;32m   1022\u001b[0m     dtype_backend\u001b[38;5;241m=\u001b[39mdtype_backend,\n\u001b[0;32m   1023\u001b[0m )\n\u001b[0;32m   1024\u001b[0m kwds\u001b[38;5;241m.\u001b[39mupdate(kwds_defaults)\n\u001b[1;32m-> 1026\u001b[0m \u001b[38;5;28;01mreturn\u001b[39;00m \u001b[43m_read\u001b[49m\u001b[43m(\u001b[49m\u001b[43mfilepath_or_buffer\u001b[49m\u001b[43m,\u001b[49m\u001b[43m \u001b[49m\u001b[43mkwds\u001b[49m\u001b[43m)\u001b[49m\n",
            "File \u001b[1;32md:\\conda_env\\panel\\Lib\\site-packages\\pandas\\io\\parsers\\readers.py:620\u001b[0m, in \u001b[0;36m_read\u001b[1;34m(filepath_or_buffer, kwds)\u001b[0m\n\u001b[0;32m    617\u001b[0m _validate_names(kwds\u001b[38;5;241m.\u001b[39mget(\u001b[38;5;124m\"\u001b[39m\u001b[38;5;124mnames\u001b[39m\u001b[38;5;124m\"\u001b[39m, \u001b[38;5;28;01mNone\u001b[39;00m))\n\u001b[0;32m    619\u001b[0m \u001b[38;5;66;03m# Create the parser.\u001b[39;00m\n\u001b[1;32m--> 620\u001b[0m parser \u001b[38;5;241m=\u001b[39m \u001b[43mTextFileReader\u001b[49m\u001b[43m(\u001b[49m\u001b[43mfilepath_or_buffer\u001b[49m\u001b[43m,\u001b[49m\u001b[43m \u001b[49m\u001b[38;5;241;43m*\u001b[39;49m\u001b[38;5;241;43m*\u001b[39;49m\u001b[43mkwds\u001b[49m\u001b[43m)\u001b[49m\n\u001b[0;32m    622\u001b[0m \u001b[38;5;28;01mif\u001b[39;00m chunksize \u001b[38;5;129;01mor\u001b[39;00m iterator:\n\u001b[0;32m    623\u001b[0m     \u001b[38;5;28;01mreturn\u001b[39;00m parser\n",
            "File \u001b[1;32md:\\conda_env\\panel\\Lib\\site-packages\\pandas\\io\\parsers\\readers.py:1620\u001b[0m, in \u001b[0;36mTextFileReader.__init__\u001b[1;34m(self, f, engine, **kwds)\u001b[0m\n\u001b[0;32m   1617\u001b[0m     \u001b[38;5;28mself\u001b[39m\u001b[38;5;241m.\u001b[39moptions[\u001b[38;5;124m\"\u001b[39m\u001b[38;5;124mhas_index_names\u001b[39m\u001b[38;5;124m\"\u001b[39m] \u001b[38;5;241m=\u001b[39m kwds[\u001b[38;5;124m\"\u001b[39m\u001b[38;5;124mhas_index_names\u001b[39m\u001b[38;5;124m\"\u001b[39m]\n\u001b[0;32m   1619\u001b[0m \u001b[38;5;28mself\u001b[39m\u001b[38;5;241m.\u001b[39mhandles: IOHandles \u001b[38;5;241m|\u001b[39m \u001b[38;5;28;01mNone\u001b[39;00m \u001b[38;5;241m=\u001b[39m \u001b[38;5;28;01mNone\u001b[39;00m\n\u001b[1;32m-> 1620\u001b[0m \u001b[38;5;28mself\u001b[39m\u001b[38;5;241m.\u001b[39m_engine \u001b[38;5;241m=\u001b[39m \u001b[38;5;28;43mself\u001b[39;49m\u001b[38;5;241;43m.\u001b[39;49m\u001b[43m_make_engine\u001b[49m\u001b[43m(\u001b[49m\u001b[43mf\u001b[49m\u001b[43m,\u001b[49m\u001b[43m \u001b[49m\u001b[38;5;28;43mself\u001b[39;49m\u001b[38;5;241;43m.\u001b[39;49m\u001b[43mengine\u001b[49m\u001b[43m)\u001b[49m\n",
            "File \u001b[1;32md:\\conda_env\\panel\\Lib\\site-packages\\pandas\\io\\parsers\\readers.py:1880\u001b[0m, in \u001b[0;36mTextFileReader._make_engine\u001b[1;34m(self, f, engine)\u001b[0m\n\u001b[0;32m   1878\u001b[0m     \u001b[38;5;28;01mif\u001b[39;00m \u001b[38;5;124m\"\u001b[39m\u001b[38;5;124mb\u001b[39m\u001b[38;5;124m\"\u001b[39m \u001b[38;5;129;01mnot\u001b[39;00m \u001b[38;5;129;01min\u001b[39;00m mode:\n\u001b[0;32m   1879\u001b[0m         mode \u001b[38;5;241m+\u001b[39m\u001b[38;5;241m=\u001b[39m \u001b[38;5;124m\"\u001b[39m\u001b[38;5;124mb\u001b[39m\u001b[38;5;124m\"\u001b[39m\n\u001b[1;32m-> 1880\u001b[0m \u001b[38;5;28mself\u001b[39m\u001b[38;5;241m.\u001b[39mhandles \u001b[38;5;241m=\u001b[39m \u001b[43mget_handle\u001b[49m\u001b[43m(\u001b[49m\n\u001b[0;32m   1881\u001b[0m \u001b[43m    \u001b[49m\u001b[43mf\u001b[49m\u001b[43m,\u001b[49m\n\u001b[0;32m   1882\u001b[0m \u001b[43m    \u001b[49m\u001b[43mmode\u001b[49m\u001b[43m,\u001b[49m\n\u001b[0;32m   1883\u001b[0m \u001b[43m    \u001b[49m\u001b[43mencoding\u001b[49m\u001b[38;5;241;43m=\u001b[39;49m\u001b[38;5;28;43mself\u001b[39;49m\u001b[38;5;241;43m.\u001b[39;49m\u001b[43moptions\u001b[49m\u001b[38;5;241;43m.\u001b[39;49m\u001b[43mget\u001b[49m\u001b[43m(\u001b[49m\u001b[38;5;124;43m\"\u001b[39;49m\u001b[38;5;124;43mencoding\u001b[39;49m\u001b[38;5;124;43m\"\u001b[39;49m\u001b[43m,\u001b[49m\u001b[43m \u001b[49m\u001b[38;5;28;43;01mNone\u001b[39;49;00m\u001b[43m)\u001b[49m\u001b[43m,\u001b[49m\n\u001b[0;32m   1884\u001b[0m \u001b[43m    \u001b[49m\u001b[43mcompression\u001b[49m\u001b[38;5;241;43m=\u001b[39;49m\u001b[38;5;28;43mself\u001b[39;49m\u001b[38;5;241;43m.\u001b[39;49m\u001b[43moptions\u001b[49m\u001b[38;5;241;43m.\u001b[39;49m\u001b[43mget\u001b[49m\u001b[43m(\u001b[49m\u001b[38;5;124;43m\"\u001b[39;49m\u001b[38;5;124;43mcompression\u001b[39;49m\u001b[38;5;124;43m\"\u001b[39;49m\u001b[43m,\u001b[49m\u001b[43m \u001b[49m\u001b[38;5;28;43;01mNone\u001b[39;49;00m\u001b[43m)\u001b[49m\u001b[43m,\u001b[49m\n\u001b[0;32m   1885\u001b[0m \u001b[43m    \u001b[49m\u001b[43mmemory_map\u001b[49m\u001b[38;5;241;43m=\u001b[39;49m\u001b[38;5;28;43mself\u001b[39;49m\u001b[38;5;241;43m.\u001b[39;49m\u001b[43moptions\u001b[49m\u001b[38;5;241;43m.\u001b[39;49m\u001b[43mget\u001b[49m\u001b[43m(\u001b[49m\u001b[38;5;124;43m\"\u001b[39;49m\u001b[38;5;124;43mmemory_map\u001b[39;49m\u001b[38;5;124;43m\"\u001b[39;49m\u001b[43m,\u001b[49m\u001b[43m \u001b[49m\u001b[38;5;28;43;01mFalse\u001b[39;49;00m\u001b[43m)\u001b[49m\u001b[43m,\u001b[49m\n\u001b[0;32m   1886\u001b[0m \u001b[43m    \u001b[49m\u001b[43mis_text\u001b[49m\u001b[38;5;241;43m=\u001b[39;49m\u001b[43mis_text\u001b[49m\u001b[43m,\u001b[49m\n\u001b[0;32m   1887\u001b[0m \u001b[43m    \u001b[49m\u001b[43merrors\u001b[49m\u001b[38;5;241;43m=\u001b[39;49m\u001b[38;5;28;43mself\u001b[39;49m\u001b[38;5;241;43m.\u001b[39;49m\u001b[43moptions\u001b[49m\u001b[38;5;241;43m.\u001b[39;49m\u001b[43mget\u001b[49m\u001b[43m(\u001b[49m\u001b[38;5;124;43m\"\u001b[39;49m\u001b[38;5;124;43mencoding_errors\u001b[39;49m\u001b[38;5;124;43m\"\u001b[39;49m\u001b[43m,\u001b[49m\u001b[43m \u001b[49m\u001b[38;5;124;43m\"\u001b[39;49m\u001b[38;5;124;43mstrict\u001b[39;49m\u001b[38;5;124;43m\"\u001b[39;49m\u001b[43m)\u001b[49m\u001b[43m,\u001b[49m\n\u001b[0;32m   1888\u001b[0m \u001b[43m    \u001b[49m\u001b[43mstorage_options\u001b[49m\u001b[38;5;241;43m=\u001b[39;49m\u001b[38;5;28;43mself\u001b[39;49m\u001b[38;5;241;43m.\u001b[39;49m\u001b[43moptions\u001b[49m\u001b[38;5;241;43m.\u001b[39;49m\u001b[43mget\u001b[49m\u001b[43m(\u001b[49m\u001b[38;5;124;43m\"\u001b[39;49m\u001b[38;5;124;43mstorage_options\u001b[39;49m\u001b[38;5;124;43m\"\u001b[39;49m\u001b[43m,\u001b[49m\u001b[43m \u001b[49m\u001b[38;5;28;43;01mNone\u001b[39;49;00m\u001b[43m)\u001b[49m\u001b[43m,\u001b[49m\n\u001b[0;32m   1889\u001b[0m \u001b[43m\u001b[49m\u001b[43m)\u001b[49m\n\u001b[0;32m   1890\u001b[0m \u001b[38;5;28;01massert\u001b[39;00m \u001b[38;5;28mself\u001b[39m\u001b[38;5;241m.\u001b[39mhandles \u001b[38;5;129;01mis\u001b[39;00m \u001b[38;5;129;01mnot\u001b[39;00m \u001b[38;5;28;01mNone\u001b[39;00m\n\u001b[0;32m   1891\u001b[0m f \u001b[38;5;241m=\u001b[39m \u001b[38;5;28mself\u001b[39m\u001b[38;5;241m.\u001b[39mhandles\u001b[38;5;241m.\u001b[39mhandle\n",
            "File \u001b[1;32md:\\conda_env\\panel\\Lib\\site-packages\\pandas\\io\\common.py:873\u001b[0m, in \u001b[0;36mget_handle\u001b[1;34m(path_or_buf, mode, encoding, compression, memory_map, is_text, errors, storage_options)\u001b[0m\n\u001b[0;32m    868\u001b[0m \u001b[38;5;28;01melif\u001b[39;00m \u001b[38;5;28misinstance\u001b[39m(handle, \u001b[38;5;28mstr\u001b[39m):\n\u001b[0;32m    869\u001b[0m     \u001b[38;5;66;03m# Check whether the filename is to be opened in binary mode.\u001b[39;00m\n\u001b[0;32m    870\u001b[0m     \u001b[38;5;66;03m# Binary mode does not support 'encoding' and 'newline'.\u001b[39;00m\n\u001b[0;32m    871\u001b[0m     \u001b[38;5;28;01mif\u001b[39;00m ioargs\u001b[38;5;241m.\u001b[39mencoding \u001b[38;5;129;01mand\u001b[39;00m \u001b[38;5;124m\"\u001b[39m\u001b[38;5;124mb\u001b[39m\u001b[38;5;124m\"\u001b[39m \u001b[38;5;129;01mnot\u001b[39;00m \u001b[38;5;129;01min\u001b[39;00m ioargs\u001b[38;5;241m.\u001b[39mmode:\n\u001b[0;32m    872\u001b[0m         \u001b[38;5;66;03m# Encoding\u001b[39;00m\n\u001b[1;32m--> 873\u001b[0m         handle \u001b[38;5;241m=\u001b[39m \u001b[38;5;28;43mopen\u001b[39;49m\u001b[43m(\u001b[49m\n\u001b[0;32m    874\u001b[0m \u001b[43m            \u001b[49m\u001b[43mhandle\u001b[49m\u001b[43m,\u001b[49m\n\u001b[0;32m    875\u001b[0m \u001b[43m            \u001b[49m\u001b[43mioargs\u001b[49m\u001b[38;5;241;43m.\u001b[39;49m\u001b[43mmode\u001b[49m\u001b[43m,\u001b[49m\n\u001b[0;32m    876\u001b[0m \u001b[43m            \u001b[49m\u001b[43mencoding\u001b[49m\u001b[38;5;241;43m=\u001b[39;49m\u001b[43mioargs\u001b[49m\u001b[38;5;241;43m.\u001b[39;49m\u001b[43mencoding\u001b[49m\u001b[43m,\u001b[49m\n\u001b[0;32m    877\u001b[0m \u001b[43m            \u001b[49m\u001b[43merrors\u001b[49m\u001b[38;5;241;43m=\u001b[39;49m\u001b[43merrors\u001b[49m\u001b[43m,\u001b[49m\n\u001b[0;32m    878\u001b[0m \u001b[43m            \u001b[49m\u001b[43mnewline\u001b[49m\u001b[38;5;241;43m=\u001b[39;49m\u001b[38;5;124;43m\"\u001b[39;49m\u001b[38;5;124;43m\"\u001b[39;49m\u001b[43m,\u001b[49m\n\u001b[0;32m    879\u001b[0m \u001b[43m        \u001b[49m\u001b[43m)\u001b[49m\n\u001b[0;32m    880\u001b[0m     \u001b[38;5;28;01melse\u001b[39;00m:\n\u001b[0;32m    881\u001b[0m         \u001b[38;5;66;03m# Binary mode\u001b[39;00m\n\u001b[0;32m    882\u001b[0m         handle \u001b[38;5;241m=\u001b[39m \u001b[38;5;28mopen\u001b[39m(handle, ioargs\u001b[38;5;241m.\u001b[39mmode)\n",
            "\u001b[1;31mFileNotFoundError\u001b[0m: [Errno 2] No such file or directory: '/work/Daily_Cuaca_Kebumen.csv'"
          ]
        }
      ],
      "source": [
        "data1 = pd.read_csv('/work/Daily_Cuaca_Kebumen.csv')"
      ]
    },
    {
      "cell_type": "code",
      "execution_count": 3,
      "metadata": {
        "cell_id": "b23c0147de79444bb08b5ab0dcfa1c4e",
        "deepnote_cell_type": "code",
        "execution_context_id": "a4a32681-5c8c-4335-be27-e08d964d92de",
        "execution_millis": 32,
        "execution_start": 1737523422263,
        "source_hash": "3ca8a117"
      },
      "outputs": [],
      "source": [
        "data2 = pd.read_csv('/work/Kebumen 2023-01-01 to 2024-12-31.csv')"
      ]
    },
    {
      "cell_type": "code",
      "execution_count": 4,
      "metadata": {
        "cell_id": "e674e6d92e594856b06c75c2a117ed50",
        "deepnote_cell_type": "code",
        "execution_context_id": "a4a32681-5c8c-4335-be27-e08d964d92de",
        "execution_millis": 2,
        "execution_start": 1737523422346,
        "source_hash": "59a88c"
      },
      "outputs": [],
      "source": [
        "data1.tail(10)"
      ]
    },
    {
      "cell_type": "code",
      "execution_count": 5,
      "metadata": {
        "cell_id": "1b6adeeb64e945d9843f128b873ff6ee",
        "deepnote_cell_type": "code",
        "execution_context_id": "a4a32681-5c8c-4335-be27-e08d964d92de",
        "execution_millis": 1,
        "execution_start": 1737523422389,
        "source_hash": "c03fc85b"
      },
      "outputs": [],
      "source": [
        "data2.tail(10)"
      ]
    },
    {
      "cell_type": "code",
      "execution_count": 6,
      "metadata": {
        "cell_id": "afe955ed220241d2a200c24c70a51c73",
        "deepnote_cell_type": "code",
        "deepnote_table_loading": false,
        "deepnote_table_state": {
          "cellFormattingRules": [],
          "columnDisplayNames": [],
          "columnOrder": [
            "name",
            "datetime",
            "tempmax",
            "tempmin",
            "temp",
            "feelslikemax",
            "feelslikemin",
            "feelslike",
            "dew",
            "humidity",
            "precip",
            "precipprob",
            "precipcover",
            "preciptype",
            "snow",
            "snowdepth",
            "windgust",
            "windspeed",
            "winddir",
            "sealevelpressure",
            "cloudcover",
            "visibility",
            "solarradiation",
            "solarenergy",
            "uvindex",
            "severerisk",
            "sunrise",
            "sunset",
            "moonphase",
            "conditions",
            "description",
            "icon",
            "stations"
          ],
          "conditionalFilters": [],
          "filters": [],
          "hiddenColumnIds": [],
          "pageIndex": 1712,
          "pageSize": 10,
          "sortBy": [],
          "wrappedTextColumnIds": []
        },
        "execution_context_id": "a4a32681-5c8c-4335-be27-e08d964d92de",
        "execution_millis": 23,
        "execution_start": 1737523422436,
        "source_hash": "6493e981"
      },
      "outputs": [],
      "source": [
        "data3 = pd.concat([data1, data2], ignore_index=True)\n",
        "\n",
        "data3"
      ]
    },
    {
      "cell_type": "code",
      "execution_count": 7,
      "metadata": {
        "cell_id": "59333308dc3242e7a631dd543e5ef9c6",
        "deepnote_cell_type": "code",
        "execution_context_id": "a4a32681-5c8c-4335-be27-e08d964d92de",
        "execution_millis": 6913,
        "execution_start": 1737523422508,
        "source_hash": "5a82d9b6"
      },
      "outputs": [],
      "source": [
        "# Menyimpan DataFrame ke file Excel\n",
        "data3.to_excel('data 1978 - 2024.xlsx', index=False)"
      ]
    },
    {
      "cell_type": "code",
      "execution_count": 8,
      "metadata": {
        "cell_id": "33daa4a8f34d4104aa9762a5ed0885ac",
        "deepnote_cell_type": "code",
        "execution_context_id": "a4a32681-5c8c-4335-be27-e08d964d92de",
        "execution_millis": 20,
        "execution_start": 1737523429471,
        "source_hash": "4191db40"
      },
      "outputs": [],
      "source": [
        "data3.describe()"
      ]
    },
    {
      "cell_type": "code",
      "execution_count": 9,
      "metadata": {
        "cell_id": "56fa02ca9d924faf9b368824ecc828cf",
        "deepnote_cell_type": "code",
        "execution_context_id": "a4a32681-5c8c-4335-be27-e08d964d92de",
        "execution_millis": 66,
        "execution_start": 1737523429535,
        "source_hash": "a8ca1e81"
      },
      "outputs": [],
      "source": [
        "msno.matrix(data3)"
      ]
    },
    {
      "cell_type": "code",
      "execution_count": 10,
      "metadata": {
        "cell_id": "5ae154af9cdb445293ea7a5115d1d165",
        "deepnote_cell_type": "code",
        "execution_context_id": "a4a32681-5c8c-4335-be27-e08d964d92de",
        "execution_millis": 0,
        "execution_start": 1737523430288,
        "source_hash": "43da320c"
      },
      "outputs": [],
      "source": [
        "data3.info()"
      ]
    },
    {
      "cell_type": "code",
      "execution_count": 11,
      "metadata": {
        "cell_id": "44c021eaf2fe4c978d56c2d6bdb574df",
        "deepnote_cell_type": "code",
        "deepnote_table_loading": false,
        "deepnote_table_state": {
          "cellFormattingRules": [],
          "columnDisplayNames": [],
          "columnOrder": [
            "name",
            "datetime",
            "tempmax",
            "tempmin",
            "temp",
            "feelslikemax",
            "feelslikemin",
            "feelslike",
            "dew",
            "humidity",
            "precip",
            "precipprob",
            "precipcover",
            "preciptype",
            "snow",
            "snowdepth",
            "windgust",
            "windspeed",
            "winddir",
            "sealevelpressure",
            "cloudcover",
            "visibility",
            "solarradiation",
            "solarenergy",
            "uvindex",
            "severerisk",
            "sunrise",
            "sunset",
            "moonphase",
            "conditions",
            "description",
            "icon"
          ],
          "conditionalFilters": [],
          "filters": [],
          "hiddenColumnIds": [],
          "pageIndex": 1,
          "pageSize": 100,
          "sortBy": [],
          "wrappedTextColumnIds": []
        },
        "execution_context_id": "a4a32681-5c8c-4335-be27-e08d964d92de",
        "execution_millis": 17,
        "execution_start": 1737523430335,
        "source_hash": "11e69a3f"
      },
      "outputs": [],
      "source": [
        "data3"
      ]
    },
    {
      "cell_type": "code",
      "execution_count": 12,
      "metadata": {
        "cell_id": "e2a40e0d077b41a6b35c6d12bcd73408",
        "deepnote_cell_type": "code",
        "execution_context_id": "a4a32681-5c8c-4335-be27-e08d964d92de",
        "execution_millis": 0,
        "execution_start": 1737523430399,
        "source_hash": "cb714ca6"
      },
      "outputs": [],
      "source": [
        "data3['datetime'] = pd.to_datetime(data3['datetime'])"
      ]
    },
    {
      "cell_type": "code",
      "execution_count": 13,
      "metadata": {
        "cell_id": "ddce146df55e4486a91d0e0b5067c396",
        "deepnote_cell_type": "code",
        "execution_context_id": "a4a32681-5c8c-4335-be27-e08d964d92de",
        "execution_millis": 1,
        "execution_start": 1737523430447,
        "source_hash": "165bb4c9"
      },
      "outputs": [],
      "source": [
        "data3.isnull().sum()"
      ]
    },
    {
      "cell_type": "markdown",
      "metadata": {
        "cell_id": "3b0401816a354f4f8ad2052e9c79a68b",
        "deepnote_cell_type": "text-cell-h1",
        "formattedRanges": []
      },
      "source": [
        "# Penyaringan Data"
      ]
    },
    {
      "cell_type": "code",
      "execution_count": 14,
      "metadata": {
        "cell_id": "660e35d13a6446399a201c7e0f656243",
        "deepnote_cell_type": "code",
        "execution_context_id": "a4a32681-5c8c-4335-be27-e08d964d92de",
        "execution_millis": 1,
        "execution_start": 1737523430495,
        "source_hash": "8e89a375"
      },
      "outputs": [],
      "source": [
        "# Pilih kolom yang diinginkan\n",
        "selected_columns = [\n",
        "    'datetime',\n",
        "    'tempmax', \n",
        "    'tempmin', \n",
        "    'temp',  \n",
        "    'humidity', \n",
        "    'precip', \n",
        "    'sealevelpressure',\n",
        "    'windspeed',\n",
        "    'winddir',\n",
        "    'precipprob'\n",
        "]\n",
        "\n",
        "# Membuat DataFrame baru hanya dengan kolom yang dipilih\n",
        "data_filtered = data3[selected_columns]\n",
        "\n",
        "# Menampilkan DataFrame hasil seleksi\n",
        "print(data_filtered.head())"
      ]
    },
    {
      "cell_type": "code",
      "execution_count": 15,
      "metadata": {
        "cell_id": "0268bf92687f41dfbf1d62f938a7f3dd",
        "deepnote_cell_type": "code",
        "execution_context_id": "a4a32681-5c8c-4335-be27-e08d964d92de",
        "execution_millis": 8,
        "execution_start": 1737523430544,
        "source_hash": "9f4e11f5"
      },
      "outputs": [],
      "source": [
        "data_filtered"
      ]
    },
    {
      "cell_type": "code",
      "execution_count": 16,
      "metadata": {
        "cell_id": "ca43e81de07540ebb947edab4baee44b",
        "deepnote_cell_type": "code",
        "execution_context_id": "a4a32681-5c8c-4335-be27-e08d964d92de",
        "execution_millis": 6227,
        "execution_start": 1737523430596,
        "source_hash": "27ac7ad9"
      },
      "outputs": [],
      "source": [
        "data_filtered.plot(\n",
        "    y=[\n",
        "    'tempmax', \n",
        "    'tempmin', \n",
        "    'temp',  \n",
        "    'humidity', \n",
        "    'precip', \n",
        "    'sealevelpressure',\n",
        "    'windspeed',\n",
        "    'winddir',\n",
        "    'precipprob'\n",
        "    ],\n",
        "    subplots=True, figsize=(10, 15))\n",
        "plt.show()\n",
        "\n",
        "for column in ['tempmax', 'tempmin', 'temp', 'humidity', 'precip', 'sealevelpressure', 'windspeed', 'winddir', 'precipprob']:\n",
        "    sns.histplot(data_filtered[column], kde=True)\n",
        "    plt.title(f'Distribution of {column}')\n",
        "    plt.show()"
      ]
    },
    {
      "cell_type": "markdown",
      "metadata": {
        "cell_id": "f70969890a6847aa8d844b9244e04f8e",
        "deepnote_cell_type": "text-cell-h1",
        "formattedRanges": []
      },
      "source": [
        "# Pembersihan Data - Bagian Null Value"
      ]
    },
    {
      "cell_type": "code",
      "execution_count": 17,
      "metadata": {
        "cell_id": "47ac68d8726745278a473f6937ad7e2a",
        "deepnote_cell_type": "code",
        "execution_context_id": "a4a32681-5c8c-4335-be27-e08d964d92de",
        "execution_millis": 5580,
        "execution_start": 1737523436871,
        "source_hash": "6095a65d"
      },
      "outputs": [],
      "source": [
        "import pandas as pd\n",
        "import matplotlib.pyplot as plt\n",
        "from sklearn.impute import KNNImputer\n",
        "\n",
        "# Daftar kolom yang akan digunakan\n",
        "columns_to_clean = [\n",
        "    'tempmax', \n",
        "    'tempmin', \n",
        "    'temp',  \n",
        "    'humidity', \n",
        "    'precip', \n",
        "    'sealevelpressure',\n",
        "    'windspeed',\n",
        "    'winddir'\n",
        "]\n",
        "\n",
        "# Inisialisasi KNN Imputer\n",
        "knn_imputer = KNNImputer(n_neighbors=5, weights=\"uniform\")  # Menggunakan 5 tetangga terdekat\n",
        "\n",
        "# Mengganti NaN dengan KNN Imputer dan menyimpan hasil ke DataFrame baru\n",
        "data3_cleaned = data_filtered.copy()\n",
        "data3_cleaned[columns_to_clean] = knn_imputer.fit_transform(data_filtered[columns_to_clean])\n",
        "\n",
        "# Visualisasi data setelah menggantikan NaN\n",
        "data3_cleaned.plot(\n",
        "    y=columns_to_clean,\n",
        "    subplots=True,\n",
        "    figsize=(10, 15),\n",
        "    title='Data Setelah Imputasi dengan KNN'\n",
        ")\n",
        "plt.show()\n"
      ]
    },
    {
      "cell_type": "code",
      "execution_count": 18,
      "metadata": {
        "cell_id": "46e88a933b4b4dfeb8f397a2e2a71300",
        "deepnote_cell_type": "code",
        "execution_context_id": "a4a32681-5c8c-4335-be27-e08d964d92de",
        "execution_millis": 1,
        "execution_start": 1737523442495,
        "source_hash": "5ac66faa"
      },
      "outputs": [],
      "source": [
        "# Mengganti nilai NaN di kolom 'precipprob' dengan 0\n",
        "data3_cleaned['precipprob'] = data3_cleaned['precipprob'].fillna(0)"
      ]
    },
    {
      "cell_type": "code",
      "execution_count": 19,
      "metadata": {
        "cell_id": "264f3526fa2b41edbc86507d9dd1d4fd",
        "deepnote_cell_type": "code",
        "execution_context_id": "a4a32681-5c8c-4335-be27-e08d964d92de",
        "execution_millis": 0,
        "execution_start": 1737523442544,
        "source_hash": "38d6150d"
      },
      "outputs": [],
      "source": [
        "data3_cleaned.isnull().sum()"
      ]
    },
    {
      "cell_type": "code",
      "execution_count": 20,
      "metadata": {
        "cell_id": "b4ef32fd6bdb413a93c80be7332eafe1",
        "deepnote_cell_type": "code",
        "execution_context_id": "a4a32681-5c8c-4335-be27-e08d964d92de",
        "execution_millis": 6489,
        "execution_start": 1737523442595,
        "source_hash": "5c4d173a"
      },
      "outputs": [],
      "source": [
        "# Daftar kolom yang akan divisualisasikan\n",
        "columns = ['tempmax', 'tempmin', 'temp',  'humidity', 'precip', \n",
        "           'sealevelpressure', 'windspeed', 'winddir', 'precipprob']\n",
        "\n",
        "# Loop untuk membuat histogram dan boxplot\n",
        "for column in columns:\n",
        "    # Histogram\n",
        "    plt.figure(figsize=(10, 5))\n",
        "    sns.histplot(data3_cleaned[column], kde=True, color='blue')\n",
        "    plt.title(f'Distribution of {column} (Histogram)')\n",
        "    plt.xlabel(column)\n",
        "    plt.ylabel('Frequency')\n",
        "    plt.show()\n",
        "    \n",
        "    # Boxplot\n",
        "    plt.figure(figsize=(10, 5))\n",
        "    sns.boxplot(x=data3_cleaned[column], color='orange')\n",
        "    plt.title(f'Distribution of {column} (Boxplot)')\n",
        "    plt.xlabel(column)\n",
        "    plt.show()"
      ]
    },
    {
      "cell_type": "markdown",
      "metadata": {
        "cell_id": "d4be75bbf4e94b89b3059b135bd2c09f",
        "deepnote_cell_type": "text-cell-h1",
        "formattedRanges": []
      },
      "source": [
        "# Pembersihan Data - Bagian Outliers "
      ]
    },
    {
      "cell_type": "code",
      "execution_count": 21,
      "metadata": {
        "cell_id": "68ab595ce6e14614baf8f857ef80a2bd",
        "deepnote_cell_type": "code",
        "execution_context_id": "a4a32681-5c8c-4335-be27-e08d964d92de",
        "execution_millis": 0,
        "execution_start": 1737523449132,
        "source_hash": "af1e3d3b"
      },
      "outputs": [],
      "source": [
        "import numpy as np\n",
        "import pandas as pd\n",
        "\n",
        "# Salin data asli\n",
        "data_fix = data3_cleaned.copy()\n",
        "\n",
        "# Daftar kolom yang akan dibersihkan dari outlier\n",
        "columns_to_clean = [\n",
        "    'tempmax', \n",
        "    'tempmin', \n",
        "    'temp', \n",
        "    'humidity',                 \n",
        "    'sealevelpressure', \n",
        "    'windspeed'\n",
        "]\n",
        "\n",
        "# Fungsi untuk mengganti outlier menggunakan IQR\n",
        "def replace_outliers_with_iqr(df, column):\n",
        "    Q1 = df[column].quantile(0.25)  # Kuartil 1\n",
        "    Q3 = df[column].quantile(0.75)  # Kuartil 3\n",
        "    IQR = Q3 - Q1  # Interquartile Range\n",
        "    lower_bound = Q1 - 1.5 * IQR  # Batas bawah\n",
        "    upper_bound = Q3 + 1.5 * IQR  # Batas atas\n",
        "\n",
        "    # Identifikasi outliers\n",
        "    outliers = (df[column] < lower_bound) | (df[column] > upper_bound)\n",
        "\n",
        "    # Ganti outliers dengan median kolom\n",
        "    median_value = df[column].median()\n",
        "    df.loc[outliers, column] = median_value\n",
        "\n",
        "# Terapkan IQR pada setiap kolom dalam daftar\n",
        "for column in columns_to_clean:\n",
        "    replace_outliers_with_iqr(data_fix, column)\n",
        "\n",
        "# Tampilkan data yang telah dibersihkan\n",
        "print(\"Data setelah menggantikan outliers menggunakan IQR:\")\n",
        "print(data_fix.head(10))\n"
      ]
    },
    {
      "cell_type": "code",
      "execution_count": 22,
      "metadata": {
        "cell_id": "11590530a8c2407ea0018ba84817f415",
        "deepnote_cell_type": "code",
        "execution_context_id": "a4a32681-5c8c-4335-be27-e08d964d92de",
        "execution_millis": 1473,
        "execution_start": 1737523449179,
        "source_hash": "cebdec0b"
      },
      "outputs": [],
      "source": [
        "# Visualisasi data setelah menggantikan NaN\n",
        "data_fix.plot(\n",
        "    subplots=True,\n",
        "    figsize=(10, 15),\n",
        "    title='Data setelah pembersihan Outlier'\n",
        ")\n",
        "plt.show()"
      ]
    },
    {
      "cell_type": "code",
      "execution_count": 23,
      "metadata": {
        "cell_id": "bff743ba2ec1424891d2b4dbca911db0",
        "deepnote_cell_type": "code",
        "execution_context_id": "a4a32681-5c8c-4335-be27-e08d964d92de",
        "execution_millis": 5989,
        "execution_start": 1737523450699,
        "source_hash": "a593fd42"
      },
      "outputs": [],
      "source": [
        "# Daftar kolom yang akan divisualisasikan\n",
        "columns = ['tempmax', 'tempmin', 'temp', 'humidity', 'precip', \n",
        "           'sealevelpressure', 'windspeed', 'winddir', 'precipprob']\n",
        "\n",
        "# Loop untuk membuat histogram dan boxplot\n",
        "for column in columns:\n",
        "    # Histogram\n",
        "    plt.figure(figsize=(10, 5))\n",
        "    sns.histplot(data_fix[column], kde=True, color='blue')\n",
        "    plt.title(f'Distribution of {column} (Histogram)')\n",
        "    plt.xlabel(column)\n",
        "    plt.ylabel('Frequency')\n",
        "    plt.show()\n",
        "    \n",
        "    # Boxplot\n",
        "    plt.figure(figsize=(10, 5))\n",
        "    sns.boxplot(x=data_fix[column], color='orange')\n",
        "    plt.title(f'Distribution of {column} (Boxplot)')\n",
        "    plt.xlabel(column)\n",
        "    plt.show()"
      ]
    },
    {
      "cell_type": "code",
      "execution_count": 24,
      "metadata": {
        "cell_id": "a53bf40087bf4045854ab038dcd8e6be",
        "deepnote_cell_type": "code",
        "execution_context_id": "a4a32681-5c8c-4335-be27-e08d964d92de",
        "execution_millis": 273,
        "execution_start": 1737523456735,
        "source_hash": "8e68c5f8"
      },
      "outputs": [],
      "source": [
        "# Memilih hanya kolom yang diinginkan\n",
        "selected_columns = [\n",
        "    'tempmax', \n",
        "    'tempmin', \n",
        "    'temp',  \n",
        "    'humidity', \n",
        "    'precip', \n",
        "    'sealevelpressure',\n",
        "    'windspeed'\n",
        "\n",
        "]\n",
        "\n",
        "# Menghitung matriks korelasi hanya untuk kolom yang dipilih\n",
        "corrmat = data_fix[selected_columns].corr()\n",
        "\n",
        "# Menentukan palet warna untuk heatmap\n",
        "cmap = sns.color_palette(\"RdBu\", as_cmap=True)\n",
        "\n",
        "# Membuat heatmap dengan ukuran yang sesuai\n",
        "plt.figure(figsize=(12,12))\n",
        "sns.heatmap(corrmat, cmap=cmap, annot=True, square=True)\n",
        "plt.title('Korelasi Heatmap antar Variabel')\n",
        "plt.show()"
      ]
    },
    {
      "cell_type": "markdown",
      "metadata": {
        "cell_id": "dcd45d9cd8214965ae9bd273d32df2d4",
        "deepnote_cell_type": "text-cell-h1",
        "formattedRanges": []
      },
      "source": [
        "# Data Preproses - Membuat Target (Y)"
      ]
    },
    {
      "cell_type": "code",
      "execution_count": 25,
      "metadata": {
        "cell_id": "ffa49d1e2666492c8e30b36c64822993",
        "deepnote_cell_type": "code",
        "execution_context_id": "a4a32681-5c8c-4335-be27-e08d964d92de",
        "execution_millis": 0,
        "execution_start": 1737523457055,
        "source_hash": "f50afb43"
      },
      "outputs": [],
      "source": [
        "# Rename the column 'precipprob' to 'precipToday'\n",
        "data_fix.rename(columns={'precipprob': 'precipToday'}, inplace=True)"
      ]
    },
    {
      "cell_type": "code",
      "execution_count": 26,
      "metadata": {
        "cell_id": "55f79e50f24c48bb94048db56614d61c",
        "deepnote_cell_type": "code",
        "execution_context_id": "a4a32681-5c8c-4335-be27-e08d964d92de",
        "execution_millis": 1,
        "execution_start": 1737523457103,
        "source_hash": "164f5ad3"
      },
      "outputs": [],
      "source": [
        "# Menambahkan kolom klasifikasi precip\n",
        "def classify_precip(value):\n",
        "    if 0 <= value <=0.1:\n",
        "        return 'No Rain'\n",
        "    elif 0.1 <= value <= 19.9:\n",
        "        return 'Light'\n",
        "    elif 20.0 <= value <= 49.9:\n",
        "        return 'Medium'\n",
        "    elif 50.0 <= value <= 99.9:\n",
        "        return 'Heavy'\n",
        "    elif value >= 100.0:\n",
        "        return 'Extrem'\n",
        "    else:\n",
        "        return 'Unknown'  # Untuk nilai yang tidak masuk dalam range\n",
        "\n",
        "# Terapkan klasifikasi ke kolom precip\n",
        "data_fix['precip_class_Today'] = data_fix['precip'].apply(classify_precip)"
      ]
    },
    {
      "cell_type": "markdown",
      "metadata": {
        "cell_id": "280cc09c580a4f8c801d5d968fe5ae45",
        "deepnote_cell_type": "text-cell-h3",
        "formattedRanges": []
      },
      "source": [
        "### Penggeseran Kolom biner hujan"
      ]
    },
    {
      "cell_type": "code",
      "execution_count": 27,
      "metadata": {
        "cell_id": "45b7678c47cd459ea71c7a872ca4afd3",
        "deepnote_cell_type": "code",
        "execution_context_id": "a4a32681-5c8c-4335-be27-e08d964d92de",
        "execution_millis": 0,
        "execution_start": 1737523457151,
        "source_hash": "3ab6c5dd"
      },
      "outputs": [],
      "source": [
        "# Geser kolom\n",
        "data_fix['precipTomorrow'] = data_fix['precipToday'].shift(-1)\n",
        "\n",
        "# Isi nilai NaN dengan median\n",
        "fill_value = data_fix['precipToday'].median()\n",
        "data_fix['precipTomorrow']= data_fix['precipTomorrow'].fillna(fill_value)"
      ]
    },
    {
      "cell_type": "code",
      "execution_count": 28,
      "metadata": {
        "cell_id": "9425d97f516844eb94d9849148fc8715",
        "deepnote_cell_type": "code",
        "execution_context_id": "a4a32681-5c8c-4335-be27-e08d964d92de",
        "execution_millis": 0,
        "execution_start": 1737523457199,
        "source_hash": "5ad019f0"
      },
      "outputs": [],
      "source": [
        "# Geser kolom\n",
        "data_fix['precip_class_Tomorrow'] = data_fix['precip_class_Today'].shift(-1)\n",
        "\n",
        "data_fix['precip_class_Tomorrow']= data_fix['precip_class_Tomorrow'].fillna('No Rain')"
      ]
    },
    {
      "cell_type": "code",
      "execution_count": 29,
      "metadata": {
        "cell_id": "86d959bccce743e8be2caae7416905d1",
        "deepnote_cell_type": "code",
        "execution_context_id": "a4a32681-5c8c-4335-be27-e08d964d92de",
        "execution_millis": 3,
        "execution_start": 1737523457252,
        "source_hash": "a37d8fb0"
      },
      "outputs": [],
      "source": [
        "sns.countplot(x=data_fix[\"precip_class_Today\"])"
      ]
    },
    {
      "cell_type": "code",
      "execution_count": 30,
      "metadata": {
        "cell_id": "43b91137d336494d8ace840979ed9a4b",
        "deepnote_cell_type": "code",
        "execution_context_id": "a4a32681-5c8c-4335-be27-e08d964d92de",
        "execution_millis": 32,
        "execution_start": 1737523457436,
        "source_hash": "ca8ecf9f"
      },
      "outputs": [],
      "source": [
        "sns.countplot(x= data_fix[\"precipToday\"])"
      ]
    },
    {
      "cell_type": "code",
      "execution_count": 31,
      "metadata": {
        "cell_id": "93b5beeddd444ae99468c6b15c5811ff",
        "deepnote_cell_type": "code",
        "execution_context_id": "a4a32681-5c8c-4335-be27-e08d964d92de",
        "execution_millis": 23,
        "execution_start": 1737523457640,
        "source_hash": "a86275b5"
      },
      "outputs": [],
      "source": [
        "sns.countplot(x=data_fix[\"precip_class_Tomorrow\"])"
      ]
    },
    {
      "cell_type": "code",
      "execution_count": 32,
      "metadata": {
        "allow_embed": false,
        "cell_id": "b9d83dd63f494a4d8985a94cecce562f",
        "deepnote_cell_type": "code",
        "execution_context_id": "a4a32681-5c8c-4335-be27-e08d964d92de",
        "execution_millis": 32,
        "execution_start": 1737523457860,
        "source_hash": "c79cca33"
      },
      "outputs": [],
      "source": [
        "sns.countplot(x= data_fix[\"precipTomorrow\"])"
      ]
    },
    {
      "cell_type": "code",
      "execution_count": 33,
      "metadata": {
        "cell_id": "27421895f2ca407a847932dbaed9b434",
        "deepnote_cell_type": "code",
        "execution_context_id": "a4a32681-5c8c-4335-be27-e08d964d92de",
        "execution_millis": 55156,
        "execution_start": 1737523458048,
        "source_hash": "a8ededfd"
      },
      "outputs": [],
      "source": [
        "\n",
        "# Membuat pairplot dengan palet warna dan penyesuaian lainnya\n",
        "pairplot = sns.pairplot(\n",
        "    data=data_fix,\n",
        "    vars=[\n",
        "        'tempmax', \n",
        "        'tempmin', \n",
        "        'temp', \n",
        "        'humidity', \n",
        "        'precip',\n",
        "        'sealevelpressure',\n",
        "        'windspeed'\n",
        "    ],\n",
        "    hue='precip_class_Tomorrow',  # Warna berdasarkan kategori precipprob\n",
        "    diag_kind=\"kde\",  # Kernel Density Estimation untuk distribusi diagonal\n",
        "    height=2,  # Ukuran setiap plot\n",
        "    aspect=1.2  # Rasio panjang-lebar plot\n",
        ")\n",
        "\n",
        "# Menambahkan judul untuk keseluruhan grafik\n",
        "pairplot.fig.suptitle(\n",
        "    \"Pairplot of Weather Features by Precipitation Classification\",\n",
        "    y=1.02,  # Penyesuaian jarak dari grafik ke judul\n",
        "    fontsize=16\n",
        ")\n",
        "\n",
        "# Menampilkan grafik\n",
        "plt.savefig(\"Pairplot_Features.jpg\")\n",
        "plt.show()"
      ]
    },
    {
      "cell_type": "code",
      "execution_count": 34,
      "metadata": {
        "cell_id": "9212ea319bf94c79958a7095a52efc6f",
        "deepnote_cell_type": "code",
        "deepnote_table_loading": false,
        "deepnote_table_state": {
          "cellFormattingRules": [],
          "columnDisplayNames": [],
          "columnOrder": [
            "datetime",
            "tempmax",
            "tempmin",
            "temp",
            "humidity",
            "precip",
            "sealevelpressure",
            "windspeed",
            "winddir",
            "precipToday",
            "precip_class_Today",
            "precipTomorrow"
          ],
          "conditionalFilters": [],
          "filters": [],
          "hiddenColumnIds": [],
          "pageIndex": 3,
          "pageSize": 10,
          "sortBy": [],
          "wrappedTextColumnIds": []
        },
        "execution_context_id": "a4a32681-5c8c-4335-be27-e08d964d92de",
        "execution_millis": 28,
        "execution_start": 1737523513252,
        "source_hash": "e8a413d6"
      },
      "outputs": [],
      "source": [
        "data_fix"
      ]
    },
    {
      "cell_type": "code",
      "execution_count": 35,
      "metadata": {
        "cell_id": "9440d9284c8140a7af21d84f9281b8b4",
        "deepnote_cell_type": "code",
        "execution_context_id": "a4a32681-5c8c-4335-be27-e08d964d92de",
        "execution_millis": 0,
        "execution_start": 1737523513328,
        "source_hash": "99b31624"
      },
      "outputs": [],
      "source": [
        "data_fix.info()"
      ]
    },
    {
      "cell_type": "code",
      "execution_count": 36,
      "metadata": {
        "cell_id": "5a92b6c5b57a4bfc9e243f7752c1d834",
        "deepnote_cell_type": "code",
        "execution_context_id": "a4a32681-5c8c-4335-be27-e08d964d92de",
        "execution_millis": 0,
        "execution_start": 1737523513380,
        "source_hash": "8bcb7d43"
      },
      "outputs": [],
      "source": [
        "data_fix.describe()"
      ]
    },
    {
      "cell_type": "code",
      "execution_count": 37,
      "metadata": {
        "cell_id": "88bcd44d63ce4513893e70711c04eb60",
        "deepnote_cell_type": "code",
        "execution_context_id": "a4a32681-5c8c-4335-be27-e08d964d92de",
        "execution_millis": 0,
        "execution_start": 1737523513432,
        "source_hash": "87160dd3"
      },
      "outputs": [],
      "source": [
        "data_fix.isna().sum()"
      ]
    },
    {
      "cell_type": "code",
      "execution_count": 38,
      "metadata": {
        "cell_id": "04360c3fa4594d3dab3bc101f4e5d869",
        "deepnote_cell_type": "code",
        "execution_context_id": "a4a32681-5c8c-4335-be27-e08d964d92de",
        "execution_millis": 57812,
        "execution_start": 1737523513488,
        "source_hash": "7057ed1b"
      },
      "outputs": [],
      "source": [
        "# Library Dasar\n",
        "import matplotlib.pyplot as plt\n",
        "import pandas as pd\n",
        "import seaborn as sns\n",
        "\n",
        "# Model dan Algoritma\n",
        "from sklearn.tree import DecisionTreeClassifier\n",
        "from sklearn.ensemble import RandomForestClassifier\n",
        "from sklearn.neighbors import KNeighborsClassifier\n",
        "from sklearn.svm import SVC\n",
        "from sklearn.neural_network import MLPClassifier\n",
        "\n",
        "# Data Processing dan Evaluasi\n",
        "from sklearn.model_selection import train_test_split\n",
        "from sklearn.preprocessing import StandardScaler, label_binarize\n",
        "from sklearn.metrics import accuracy_score, classification_report, roc_curve, auc, confusion_matrix, ConfusionMatrixDisplay\n",
        "\n",
        "# Membagi variabel independen dan target\n",
        "X = data_fix[[\n",
        "    'temp', \n",
        "    'tempmax',\n",
        "    'tempmin',\n",
        "    'humidity',\n",
        "    'precip',\n",
        "    'sealevelpressure',\n",
        "    'windspeed'\n",
        "]]  # Variabel independen\n",
        "y = data_fix['precip_class_Tomorrow']  # Target (multiclass classification)\n",
        "\n",
        "# Membagi dataset menjadi data latih dan data uji\n",
        "X_train, X_test, y_train, y_test = train_test_split(X, y, test_size=0.2, random_state=50)\n",
        "\n",
        "# Normalisasi fitur numerik\n",
        "scaler = StandardScaler()\n",
        "X_train_scaled = scaler.fit_transform(X_train)\n",
        "X_test_scaled = scaler.transform(X_test)\n",
        "\n",
        "# Binarisasi target untuk ROC AUC multikelas\n",
        "classes = y.unique()  # Daftar kelas\n",
        "y_train_bin = label_binarize(y_train, classes=classes)\n",
        "y_test_bin = label_binarize(y_test, classes=classes)\n",
        "n_classes = y_train_bin.shape[1]\n",
        "\n",
        "# Daftar model klasifikasi\n",
        "models = {\n",
        "    'Decision Tree': DecisionTreeClassifier(random_state=100),\n",
        "    'Random Forest': RandomForestClassifier(random_state=100),\n",
        "    'K-Nearest Neighbors': KNeighborsClassifier(n_neighbors=5),\n",
        "    'Support Vector Machine': SVC(probability=True, random_state=100),\n",
        "    'Neural Networks': MLPClassifier(random_state=100, max_iter=1000)\n",
        "}\n",
        "\n",
        "# Evaluasi model dan penyimpanan hasil\n",
        "results = []\n",
        "\n",
        "# Plot ROC Curve untuk setiap model secara terpisah\n",
        "for idx, (name, model) in enumerate(models.items()):\n",
        "    # Melatih model\n",
        "    model.fit(X_train_scaled, y_train)\n",
        "    \n",
        "    # Prediksi\n",
        "    y_pred = model.predict(X_test_scaled)\n",
        "    y_prob = model.predict_proba(X_test_scaled)  # Probabilitas untuk semua kelas\n",
        "\n",
        "    # Evaluasi performa dasar\n",
        "    accuracy = accuracy_score(y_test, y_pred)\n",
        "    report = classification_report(y_test, y_pred, output_dict=True)\n",
        "    results.append({\n",
        "        'Model': name,\n",
        "        'Accuracy': accuracy,\n",
        "        'Precision (macro avg)': report['macro avg']['precision'],\n",
        "        'Recall (macro avg)': report['macro avg']['recall'],\n",
        "        'F1-Score (macro avg)': report['macro avg']['f1-score']\n",
        "    })\n",
        "    \n",
        "    # Menampilkan Confusion Matrix\n",
        "    cm = confusion_matrix(y_test, y_pred, labels=classes)\n",
        "    disp = ConfusionMatrixDisplay(confusion_matrix=cm, display_labels=classes)\n",
        "    disp.plot(cmap='Blues', values_format='d')\n",
        "    plt.title(f'Confusion Matrix for {name}')\n",
        "    plt.show()\n",
        "    \n",
        "    # Plot ROC Curve untuk tiap kelas dalam model\n",
        "    plt.figure(figsize=(8, 6))\n",
        "    for i in range(n_classes):\n",
        "        fpr, tpr, _ = roc_curve(y_test_bin[:, i], y_prob[:, i])\n",
        "        roc_auc = auc(fpr, tpr)\n",
        "        plt.plot(\n",
        "            fpr, \n",
        "            tpr, \n",
        "            linestyle='-', \n",
        "            label=f'Class {classes[i]} (AUC = {roc_auc:.2f})')\n",
        "    \n",
        "    # Menambahkan garis diagonal sebagai referensi untuk prediksi acak\n",
        "    plt.plot([0, 1], [0, 1], color='black', linestyle='--', label='Random Prediction')\n",
        "    \n",
        "    # Pengaturan grafik ROC untuk model\n",
        "    plt.title(f'ROC Curve for {name}')\n",
        "    plt.xlabel('False Positive Rate')\n",
        "    plt.ylabel('True Positive Rate')\n",
        "    plt.legend(loc='lower right', fontsize='small')\n",
        "    plt.grid(True)\n",
        "    plt.show()\n",
        "\n",
        "# Menampilkan tabel hasil evaluasi\n",
        "results_df = pd.DataFrame(results)\n",
        "print(\"Hasil Evaluasi Model:\")\n",
        "print(results_df)\n"
      ]
    },
    {
      "cell_type": "code",
      "execution_count": 39,
      "metadata": {
        "cell_id": "cd4eec6e76d94eb2abf919acca551aa1",
        "deepnote_cell_type": "code",
        "execution_context_id": "a4a32681-5c8c-4335-be27-e08d964d92de",
        "execution_millis": 0,
        "execution_start": 1737523571376,
        "source_hash": "148b22a7"
      },
      "outputs": [],
      "source": [
        "data_fix.head(10)"
      ]
    },
    {
      "cell_type": "code",
      "execution_count": 40,
      "metadata": {
        "cell_id": "ef41bf70e6df4d1fb609a35af3273f9d",
        "deepnote_cell_type": "code",
        "execution_context_id": "a4a32681-5c8c-4335-be27-e08d964d92de",
        "execution_millis": 1,
        "execution_start": 1737523571427,
        "source_hash": "921f00f0"
      },
      "outputs": [],
      "source": [
        "import pandas as pd\n",
        "import matplotlib.pyplot as plt\n",
        "\n",
        "# Konversi kolom 'datetime' menjadi format datetime jika belum dilakukan\n",
        "data_fix['datetime'] = pd.to_datetime(data_fix['datetime'])\n",
        "\n",
        "# Set 'datetime' sebagai index untuk analisis waktu\n",
        "data_fix.set_index('datetime', inplace=True)\n"
      ]
    },
    {
      "cell_type": "code",
      "execution_count": 41,
      "metadata": {
        "cell_id": "2d8173a7be2d4280bfdc661942182706",
        "deepnote_cell_type": "code",
        "execution_context_id": "a4a32681-5c8c-4335-be27-e08d964d92de",
        "execution_millis": 2558,
        "execution_start": 1737523571479,
        "source_hash": "5c3ac461"
      },
      "outputs": [],
      "source": [
        "# Menambahkan kolom satuan waktu dari variabel datetime\n",
        "data_fix['year'] = data_fix.index.year\n",
        "data_fix['month'] = data_fix.index.month\n",
        "data_fix['day'] = data_fix.index.day\n",
        "\n",
        "# Agregasi curah hujan berdasarkan satuan waktu tertentu\n",
        "# Curah hujan harian\n",
        "daily_rainfall = data_fix['precip'].resample('D').sum()\n",
        "\n",
        "# Curah hujan bulanan\n",
        "monthly_rainfall = data_fix['precip'].resample('M').sum()\n",
        "\n",
        "# Curah hujan tahunan\n",
        "yearly_rainfall = data_fix['precip'].resample('Y').sum()\n",
        "\n",
        "# Curah hujan musiman\n",
        "seasonal_rainfall = data_fix['precip'].resample('Q').sum()\n",
        "\n",
        "# Menghitung rata-rata curah hujan per bulan (menggabungkan semua tahun)\n",
        "average_monthly_rainfall = data_fix.groupby('month')['precip'].mean()\n",
        "\n",
        "# Menghitung rata-rata curah hujan per tahun\n",
        "average_yearly_rainfall = data_fix.groupby('year')['precip'].mean()\n",
        "\n",
        "# Visualisasi Curah Hujan Bulanan\n",
        "plt.figure(figsize=(10, 6))\n",
        "monthly_rainfall.plot(kind='line', color='skyblue', alpha=0.7)\n",
        "plt.title(\"Curah Hujan Bulanan\")\n",
        "plt.xlabel(\"Bulan\")\n",
        "plt.ylabel(\"Curah Hujan (mm)\")\n",
        "plt.grid(axis='y', linestyle='--', alpha=0.7)\n",
        "plt.tight_layout()\n",
        "plt.show()\n",
        "\n",
        "# Visualisasi Curah Hujan Tahunan\n",
        "plt.figure(figsize=(10, 6))\n",
        "yearly_rainfall.plot(kind='bar', color='orange', alpha=0.7)\n",
        "plt.title(\"Curah Hujan Tahunan\")\n",
        "plt.xlabel(\"Tahun\")\n",
        "plt.ylabel(\"Curah Hujan (mm)\")\n",
        "plt.grid(axis='y', linestyle='--', alpha=0.7)\n",
        "plt.tight_layout()\n",
        "plt.show()\n",
        "\n",
        "# Visualisasi Curah Hujan Musiman\n",
        "plt.figure(figsize=(10, 6))\n",
        "seasonal_rainfall.plot(kind='bar', color='purple', alpha=0.7)\n",
        "plt.title(\"Curah Hujan Musiman\")\n",
        "plt.xlabel(\"Musim\")\n",
        "plt.ylabel(\"Curah Hujan (mm)\")\n",
        "plt.grid()\n",
        "plt.tight_layout()\n",
        "plt.show()\n",
        "\n",
        "# Visualisasi rata-rata curah hujan per bulan\n",
        "plt.figure(figsize=(10, 6))\n",
        "average_monthly_rainfall.plot(kind='bar', color='dodgerblue', alpha=0.8)\n",
        "plt.title(\"Rata-rata Curah Hujan Bulanan\")\n",
        "plt.xlabel(\"Bulan\")\n",
        "plt.ylabel(\"Rata-rata Curah Hujan (mm)\")\n",
        "plt.xticks(ticks=range(12), labels=['Jan', 'Feb', 'Mar', 'Apr', 'May', 'Jun', 'Jul', 'Aug', 'Sep', 'Oct', 'Nov', 'Dec'])\n",
        "plt.grid(axis='y', linestyle='--', alpha=0.7)\n",
        "plt.tight_layout()\n",
        "plt.show()\n",
        "\n",
        "# Visualisasi rata-rata curah hujan per tahun\n",
        "plt.figure(figsize=(10, 6))\n",
        "average_yearly_rainfall.plot(kind='bar', color='green', alpha=0.8)\n",
        "plt.title(\"Rata-rata Curah Hujan Tahunan\")\n",
        "plt.xlabel(\"Tahun\")\n",
        "plt.ylabel(\"Rata-rata Curah Hujan (mm)\")\n",
        "plt.grid(axis='y', linestyle='--', alpha=0.7)\n",
        "plt.tight_layout()\n",
        "plt.show()"
      ]
    },
    {
      "cell_type": "markdown",
      "metadata": {
        "created_in_deepnote_cell": true,
        "deepnote_cell_type": "markdown"
      },
      "source": [
        "<a style='text-decoration:none;line-height:16px;display:flex;color:#5B5B62;padding:10px;justify-content:end;' href='https://deepnote.com?utm_source=created-in-deepnote-cell&projectId=200afad5-8991-4e20-8a55-8751c7aff3b5' target=\"_blank\">\n",
        "<img alt='Created in deepnote.com' style='display:inline;max-height:16px;margin:0px;margin-right:7.5px;' src='data:image/svg+xml;base64,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' > </img>\n",
        "Created in <span style='font-weight:600;margin-left:4px;'>Deepnote</span></a>"
      ]
    }
  ],
  "metadata": {
    "deepnote_notebook_id": "4555e642627e4fdd877f8a6ec8ee0aff",
    "kernelspec": {
      "display_name": "panel",
      "language": "python",
      "name": "python3"
    },
    "language_info": {
      "codemirror_mode": {
        "name": "ipython",
        "version": 3
      },
      "file_extension": ".py",
      "mimetype": "text/x-python",
      "name": "python",
      "nbconvert_exporter": "python",
      "pygments_lexer": "ipython3",
      "version": "3.13.2"
    }
  },
  "nbformat": 4,
  "nbformat_minor": 0
}
