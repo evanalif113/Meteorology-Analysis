{
  "cells": [
    {
      "cell_type": "code",
      "metadata": {
        "source_hash": "69e8d370",
        "execution_start": 1740276288108,
        "execution_millis": 1067,
        "execution_context_id": "584b16f7-9fdd-4599-b5a3-ca9941cab21c",
        "deepnote_app_block_visible": true,
        "deepnote_app_is_code_hidden": true,
        "cell_id": "1bcb6f6665f4459498cb139415520579",
        "deepnote_cell_type": "code"
      },
      "source": "# Import Meteostat library and dependencies\nimport pandas as pd\nimport seaborn as sns\nfrom datetime import datetime\nimport matplotlib.pyplot as plt\nfrom meteostat import Stations, Point, Daily, Hourly",
      "block_group": "1bcb6f6665f4459498cb139415520579",
      "execution_count": 1,
      "outputs": [],
      "outputs_reference": null,
      "content_dependencies": null
    },
    {
      "cell_type": "code",
      "metadata": {
        "source_hash": "2ae446ad",
        "execution_start": 1740276289225,
        "execution_millis": 0,
        "execution_context_id": "584b16f7-9fdd-4599-b5a3-ca9941cab21c",
        "deepnote_app_block_visible": true,
        "cell_id": "96ead1e9d5134dd7be6674d4422b419f",
        "deepnote_cell_type": "code"
      },
      "source": "# Fungsi untuk meminta input dari pengguna untuk rentang waktu\ndef get_date_input(prompt):\n    return datetime.strptime(input(prompt), \"%d-%m-%Y\")\n\n# Input dari pengguna untuk menentukan start dan end datetime\n#start = get_date_input(\"Masukkan tanggal mulai (DD-MM-YYYY): \")\n#end = get_date_input(\"Masukkan tanggal akhir (DD-MM-YYYY): \")",
      "block_group": "19c06030b8894b0c85b29973aef18e64",
      "execution_count": 2,
      "outputs": [],
      "outputs_reference": null,
      "content_dependencies": null
    },
    {
      "cell_type": "code",
      "metadata": {
        "source_hash": "2babc7d6",
        "execution_start": 1740276289273,
        "execution_millis": 480,
        "execution_context_id": "584b16f7-9fdd-4599-b5a3-ca9941cab21c",
        "deepnote_app_block_visible": true,
        "deepnote_app_is_code_hidden": true,
        "cell_id": "fb6af6a47cd34f7fb10f2a977aa9123b",
        "deepnote_cell_type": "code"
      },
      "source": "# Set seaborn theme\nsns.set(style=\"whitegrid\")\n\n# Set time period\nstart = datetime(2025,2, 1)\nend = datetime(2025, 2, 28)\n\n# Get hourly data\ndata = Hourly(96797, start, end,\"Asia/Jakarta\")\ndata = data.fetch()\n\n# Plot line chart with custom figure size\nplt.figure(figsize=(24, 8))\n\n# Plot temperature and dew point with labels\nplt.plot(data.index, data['temp'], label='Temperature (°C)')\nplt.plot(data.index, data['dwpt'], label='Dew Point (°C)')\n\n# Show the plot with seaborn styling\nplt.title('Temperature and Dew Point (2024)')\nplt.xlabel('Date')\nplt.ylabel('Temperature (°C)')\nplt.legend()  # Menambahkan legenda untuk penjelasan garis\nplt.show()",
      "block_group": "864ab52f54c14e3c87ab51275d58776d",
      "execution_count": 3,
      "outputs": [],
      "outputs_reference": null,
      "content_dependencies": null
    },
    {
      "cell_type": "code",
      "metadata": {
        "source_hash": "796a096e",
        "execution_start": 1740276289801,
        "execution_millis": 350,
        "execution_context_id": "584b16f7-9fdd-4599-b5a3-ca9941cab21c",
        "deepnote_app_block_visible": true,
        "deepnote_app_is_code_hidden": true,
        "cell_id": "d5e3435610c742a9acae1a95d19af4f3",
        "deepnote_cell_type": "code"
      },
      "source": "# Set seaborn theme\nsns.set(style=\"whitegrid\")\n\n# Atur ukuran figure yang lebih besar\nplt.figure(figsize=(24, 8))\n\n# Plot precipitation menggunakan bar chart dengan lebar yang lebih kecil\nplt.plot(data.index, data['prcp'],label='Precipitation (mm)', color='skyblue')  # width diatur ke 0.5\n\n# Set judul dan label\nplt.title('Precipitation (2024)')\nplt.xlabel('Date')\nplt.ylabel('Precipitation (mm)')\nplt.legend()  # Menambahkan legenda untuk menjelaskan variabel\n\n# Tampilkan grafik\nplt.show()\n",
      "block_group": "67442a9b76ec4395ad2ef2fa3967bd28",
      "execution_count": 4,
      "outputs": [],
      "outputs_reference": null,
      "content_dependencies": null
    },
    {
      "cell_type": "code",
      "metadata": {
        "source_hash": "2009be3f",
        "execution_start": 1740276290201,
        "execution_millis": 20,
        "execution_context_id": "584b16f7-9fdd-4599-b5a3-ca9941cab21c",
        "deepnote_app_block_visible": true,
        "cell_id": "049579d9566d4baf938215f7c3d0157e",
        "deepnote_cell_type": "code"
      },
      "source": "data.tail(10)",
      "block_group": "1a548aa7bad347fcbf0fc17f877cc1d7",
      "execution_count": 5,
      "outputs": [],
      "outputs_reference": null,
      "content_dependencies": null
    },
    {
      "cell_type": "code",
      "metadata": {
        "source_hash": "e6928a8f",
        "execution_start": 1740276290269,
        "execution_millis": 1,
        "deepnote_table_state": {
          "sortBy": [],
          "filters": [],
          "pageSize": 50,
          "pageIndex": 10,
          "columnOrder": [
            "temp",
            "dwpt",
            "rhum",
            "prcp",
            "snow",
            "wdir",
            "wspd",
            "wpgt",
            "pres",
            "tsun",
            "coco"
          ],
          "hiddenColumnIds": [],
          "columnDisplayNames": [],
          "conditionalFilters": [],
          "cellFormattingRules": [],
          "wrappedTextColumnIds": []
        },
        "execution_context_id": "584b16f7-9fdd-4599-b5a3-ca9941cab21c",
        "deepnote_table_loading": false,
        "cell_id": "eda96c05c35643e6a54eeaf88de56856",
        "deepnote_cell_type": "code"
      },
      "source": "data",
      "block_group": "09006385157748f3bf0f9bffde0e23ff",
      "execution_count": 6,
      "outputs": [],
      "outputs_reference": null,
      "content_dependencies": null
    },
    {
      "cell_type": "code",
      "metadata": {
        "source_hash": "22e80048",
        "execution_start": 1740276290321,
        "execution_millis": 2095,
        "execution_context_id": "584b16f7-9fdd-4599-b5a3-ca9941cab21c",
        "deepnote_app_block_visible": true,
        "deepnote_app_is_code_hidden": true,
        "cell_id": "369110ac470e49529cc69d5a55636ef7",
        "deepnote_cell_type": "code"
      },
      "source": "# Set seaborn theme\nsns.set_theme(style=\"whitegrid\")\n\n# Set time period for a single month, e.g., October 2024\nstart = datetime(2025, 2, 1)\nend = datetime(2025, 2, 28)\n\n# Get hourly data and calculate daily average temperature for the specified month\ndata = Hourly(96805, start, end, \"Asia/Jakarta\").fetch()\ndata['date'] = data.index.date  # Konversi indeks ke tanggal untuk pengelompokan harian\ndata['day'] = data.index.day\ndata['hour'] = data.index.hour\n\n# Menghitung rata-rata suhu setiap jam dalam sehari untuk setiap hari di bulan tersebut\ntemperature_pivot = data.pivot_table(index='day', columns='hour', values='temp')\n\n# Mengatur ukuran grafik\nf, ax = plt.subplots(figsize=(24, 16))\n\n# Membuat heatmap dengan anotasi nilai di setiap sel\nsns.heatmap(temperature_pivot, \n            annot=True, \n            fmt=\".1f\", \n            linewidths=.5, \n            ax=ax, \n            cmap=\"coolwarm\",\n            cbar_kws={'label': 'Temperature (°C)'})\n\n# Memberi label pada sumbu\nax.set_xlabel('Hour (UTC+7)')\nax.set_ylabel('Day')\nax.set_title('Hourly Temperature Heatmap')\n\n# Menampilkan heatmap\nplt.savefig(\"Temp_month_Meteostat.jpg\")\nplt.show()\n",
      "block_group": "4f399de100e24a42b7a485a40855585d",
      "execution_count": 7,
      "outputs": [],
      "outputs_reference": null,
      "content_dependencies": null
    },
    {
      "cell_type": "code",
      "metadata": {
        "source_hash": "6317338f",
        "execution_start": 1740276292465,
        "execution_millis": 1181,
        "execution_context_id": "584b16f7-9fdd-4599-b5a3-ca9941cab21c",
        "deepnote_app_block_visible": true,
        "deepnote_app_is_code_hidden": true,
        "cell_id": "2d0e61c0902c4c45bb6635bac321cc89",
        "deepnote_cell_type": "code"
      },
      "source": "\n# Menghitung rata-rata suhu setiap jam dalam sehari untuk setiap hari di bulan tersebut\nhumidity_pivot = data.pivot_table(index='day', columns='hour', values='rhum')\n\n# Mengatur ukuran grafik\nf, ax = plt.subplots(figsize=(24, 16))\n\n# Membuat heatmap dengan anotasi nilai di setiap sel\nsns.heatmap(humidity_pivot, \n            annot=True, \n            fmt=\".1f\", \n            linewidths=.5, \n            ax=ax, \n            cmap=\"Blues\",\n            cbar_kws={'label': 'Humidity (Rh%)'})\n\n# Memberi label pada sumbu\nax.set_xlabel('Hour (UTC+7)')\nax.set_ylabel('Day')\nax.set_title('Hourly Humidity Heatmap (October 2024)')\n\n# Menampilkan heatmap\nplt.show()",
      "block_group": "ebc92fed373a4850b4b9c61ec06dd61f",
      "execution_count": 8,
      "outputs": [],
      "outputs_reference": null,
      "content_dependencies": null
    },
    {
      "cell_type": "code",
      "metadata": {
        "source_hash": "eb6f00fd",
        "execution_start": 1740276293700,
        "execution_millis": 1296,
        "execution_context_id": "584b16f7-9fdd-4599-b5a3-ca9941cab21c",
        "deepnote_app_block_visible": true,
        "deepnote_app_is_code_hidden": true,
        "cell_id": "5d7f4adbfdf24ff0b06de9546d1f1756",
        "deepnote_cell_type": "code"
      },
      "source": "\n# Menghitung rata-rata suhu setiap jam dalam sehari untuk setiap hari di bulan tersebut\npress_pivot = data.pivot_table(index='day', columns='hour', values='pres')\n\n# Mengatur ukuran grafik\nf, ax = plt.subplots(figsize=(24, 16))\n\n# Membuat heatmap dengan anotasi nilai di setiap sel\nsns.heatmap(press_pivot, \n            annot=True, \n            fmt=\".1f\", \n            linewidths=.5, \n            ax=ax, \n            cmap=\"viridis\",\n            cbar_kws={'label': 'Atmospheric Pressure (hPa'})\n\n# Memberi label pada sumbu\nax.set_xlabel('Hour (UTC+7)')\nax.set_ylabel('Day')\nax.set_title('Hourly Pressure Heatmap (October 2024)')\n\n# Menampilkan heatmap\nplt.show()",
      "block_group": "81422d208a6c46b2a8f8fefb684061a1",
      "execution_count": 9,
      "outputs": [],
      "outputs_reference": null,
      "content_dependencies": null
    },
    {
      "cell_type": "code",
      "metadata": {
        "source_hash": "d99cc54c",
        "execution_start": 1740276295053,
        "execution_millis": 1044,
        "execution_context_id": "584b16f7-9fdd-4599-b5a3-ca9941cab21c",
        "deepnote_app_block_visible": true,
        "cell_id": "b74820562d0d4a1982689843970e916c",
        "deepnote_cell_type": "code"
      },
      "source": "\n# Menghitung rata-rata suhu setiap jam dalam sehari untuk setiap hari di bulan tersebut\nrain_pivot = data.pivot_table(index='day', columns='hour', values='prcp')\n\n# Mengatur ukuran grafik\nf, ax = plt.subplots(figsize=(24, 16))\n\n# Membuat heatmap dengan anotasi nilai di setiap sel\nsns.heatmap(rain_pivot, \n            annot=True, \n            fmt=\".1f\", \n            linewidths=.5, \n            ax=ax, \n            cmap=\"Blues\",\n            cbar_kws={'label': 'Rain (mm)'})\n\n# Memberi label pada sumbu\nax.set_xlabel('Hour (UTC+7)')\nax.set_ylabel('Day')\nax.set_title('Hourly Rainfall Heatmap (October 2024)')\n\n# Menampilkan heatmap\nplt.show()",
      "block_group": "6c3fed5eff4b446fb9bbea38e950f92b",
      "execution_count": 10,
      "outputs": [],
      "outputs_reference": null,
      "content_dependencies": null
    },
    {
      "cell_type": "code",
      "metadata": {
        "source_hash": "7e6b8714",
        "execution_start": 1740276296145,
        "execution_millis": 1,
        "deepnote_table_state": {
          "sortBy": [],
          "filters": [],
          "pageSize": 100,
          "pageIndex": 0,
          "conditionalFilters": [],
          "wrappedTextColumnIds": []
        },
        "execution_context_id": "584b16f7-9fdd-4599-b5a3-ca9941cab21c",
        "deepnote_table_loading": false,
        "deepnote_app_block_visible": true,
        "cell_id": "23850f9e1b5846c9b4691b0f24eb2f8f",
        "deepnote_cell_type": "code"
      },
      "source": "data.tail(20)",
      "block_group": "1b9fb3d2a8a14f4a89efe408df29228b",
      "execution_count": 11,
      "outputs": [],
      "outputs_reference": null,
      "content_dependencies": null
    },
    {
      "cell_type": "code",
      "metadata": {
        "source_hash": "a0a947d6",
        "execution_start": 1740276296197,
        "execution_millis": 0,
        "execution_context_id": "584b16f7-9fdd-4599-b5a3-ca9941cab21c",
        "deepnote_app_block_visible": true,
        "cell_id": "314a5c927d014edc85f8733466989e00",
        "deepnote_cell_type": "code"
      },
      "source": "print(\"Finish\")",
      "block_group": "ca5dd99ca1cd43fd8a4c01b78275b04c",
      "execution_count": 12,
      "outputs": [],
      "outputs_reference": null,
      "content_dependencies": null
    },
    {
      "cell_type": "markdown",
      "source": "<a style='text-decoration:none;line-height:16px;display:flex;color:#5B5B62;padding:10px;justify-content:end;' href='https://deepnote.com?utm_source=created-in-deepnote-cell&projectId=200afad5-8991-4e20-8a55-8751c7aff3b5' target=\"_blank\">\n<img alt='Created in deepnote.com' style='display:inline;max-height:16px;margin:0px;margin-right:7.5px;' src='data:image/svg+xml;base64,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' > </img>\nCreated in <span style='font-weight:600;margin-left:4px;'>Deepnote</span></a>",
      "metadata": {
        "created_in_deepnote_cell": true,
        "deepnote_cell_type": "markdown"
      }
    }
  ],
  "nbformat": 4,
  "nbformat_minor": 0,
  "metadata": {
    "deepnote_app_clear_outputs": false,
    "deepnote_app_comments_enabled": false,
    "deepnote_app_embed_enabled": true,
    "deepnote_app_layout": "powerful-article",
    "deepnote_app_table_of_contents_enabled": false,
    "deepnote_app_execution_enabled": false,
    "deepnote_app_width": "full-width",
    "deepnote_app_run_on_input_enabled": false,
    "deepnote_app_reactivity_enabled": false,
    "deepnote_app_run_on_load_enabled": false,
    "deepnote_notebook_id": "edfa81a56c924d28914b8c9d79b973bd"
  }
}