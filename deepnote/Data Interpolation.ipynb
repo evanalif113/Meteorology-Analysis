{
  "cells": [
    {
      "cell_type": "code",
      "execution_count": null,
      "metadata": {
        "cell_id": "574dd1b156d147c09cccaf8b497a890b",
        "deepnote_cell_type": "code",
        "execution_context_id": "93379010-b705-4791-a243-0e04f3ad1bd5",
        "execution_millis": 3285,
        "execution_start": 1740280069808,
        "source_hash": "426c264b"
      },
      "outputs": [],
      "source": [
        "import firebase_admin\n",
        "from firebase_admin import credentials, db\n",
        "from datetime import datetime  # Untuk konversi timestamp ke human-readable\n",
        "import pandas as pd\n",
        "import matplotlib.pyplot as plt"
      ]
    },
    {
      "cell_type": "code",
      "execution_count": 2,
      "metadata": {
        "cell_id": "ce8ae8bb90694308b6f5cfb7ef059830",
        "deepnote_cell_type": "code",
        "execution_context_id": "93379010-b705-4791-a243-0e04f3ad1bd5",
        "execution_millis": 116,
        "execution_start": 1740280073140,
        "source_hash": "3a3123b1"
      },
      "outputs": [],
      "source": [
        "# Konfigurasi database tujuan\n",
        "dest_cred = credentials.Certificate(\"/work/staklimjerukagung-firebase-admin.json\")\n",
        "dest_app = firebase_admin.initialize_app(dest_cred, {\n",
        "    'databaseURL': 'https://staklimjerukagung-default-rtdb.asia-southeast1.firebasedatabase.app/'\n",
        "})"
      ]
    },
    {
      "cell_type": "code",
      "execution_count": 3,
      "metadata": {
        "cell_id": "95d5d2b2cace447bbf5e5092e80077a2",
        "deepnote_cell_type": "code",
        "execution_context_id": "93379010-b705-4791-a243-0e04f3ad1bd5",
        "execution_millis": 48051,
        "execution_start": 1740280073310,
        "source_hash": "982023e"
      },
      "outputs": [],
      "source": [
        "# Referensi ke data sumber\n",
        "source_ref = db.reference('/auto_weather_stat/id-03/data')\n",
        "\n",
        "# Mengambil data dari database sumber\n",
        "source_data = source_ref.get()\n",
        "\n",
        "# Mengubah data menjadi DataFrame pandas\n",
        "if source_data:\n",
        "    # Mengubah data menjadi DataFrame\n",
        "    df = pd.DataFrame.from_dict(source_data, orient='index')\n",
        "    \n",
        "    # Jika 'timestamp' sudah ada, jangan pindahkan indeks ke kolom\n",
        "    if 'timestamp' not in df.columns:\n",
        "        df.index.name = 'timestamp'  # Mengatur nama indeks\n",
        "        df.reset_index(inplace=True)  # Memindahkan indeks menjadi kolom biasa\n",
        "    \n",
        "    print(df.tail())  # Menampilkan data untuk verifikasi\n",
        "else:\n",
        "    print(\"Tidak ada data di jalur /auto_weather_stat/id-03/data.\")"
      ]
    },
    {
      "cell_type": "code",
      "execution_count": 10,
      "metadata": {
        "cell_id": "67ae91a8ec63464b97af3954200235f8",
        "deepnote_cell_type": "code",
        "execution_context_id": "93379010-b705-4791-a243-0e04f3ad1bd5",
        "execution_millis": 5,
        "execution_start": 1740280239587,
        "source_hash": "cdee9e9d"
      },
      "outputs": [],
      "source": [
        "df.tail(10)"
      ]
    },
    {
      "cell_type": "code",
      "execution_count": 5,
      "metadata": {
        "cell_id": "4e583de456454edbaaa3c402063c48bc",
        "deepnote_cell_type": "code",
        "execution_context_id": "93379010-b705-4791-a243-0e04f3ad1bd5",
        "execution_millis": 0,
        "execution_start": 1740280121721,
        "source_hash": "de1e323c"
      },
      "outputs": [],
      "source": [
        "df.info()"
      ]
    },
    {
      "cell_type": "code",
      "execution_count": 6,
      "metadata": {
        "cell_id": "e25addd6d9f340c686dfa7337fe2bb58",
        "deepnote_cell_type": "code",
        "execution_context_id": "93379010-b705-4791-a243-0e04f3ad1bd5",
        "execution_millis": 667,
        "execution_start": 1740280121772,
        "source_hash": "39390d3b"
      },
      "outputs": [],
      "source": [
        "df = df[(df['temperature'] >= 10) & \n",
        "                      (df['humidity'] >= 0) & \n",
        "                      (df['pressure'] >= 1000) & \n",
        "                      (df['dew'] >= 10) &\n",
        "                      (df['volt'] >= 0)]"
      ]
    },
    {
      "cell_type": "code",
      "execution_count": 20,
      "metadata": {
        "cell_id": "5cfab4e174aa4918b8356aea75e50be6",
        "deepnote_cell_type": "code",
        "deepnote_to_be_reexecuted": true,
        "execution_context_id": "77a0548f-005c-42ab-94f0-6fb8ba2e678d",
        "execution_millis": 286,
        "execution_start": 1740279071769,
        "source_hash": "bde17e2e"
      },
      "outputs": [],
      "source": [
        "# Membuat DataFrame awal\n",
        "data = pd.DataFrame(df)\n",
        "df['timestamp'] = pd.to_datetime(df['timestamp'])\n",
        "df.set_index('timestamp', inplace=True)\n",
        "\n",
        "# Membuat rentang waktu yang lengkap dengan interval per menit\n",
        "complete_range = pd.date_range(start=data.index.min(), end=df.index.max(), freq='T')\n",
        "\n",
        "# Reindexing dengan rentang waktu lengkap, variabel lain akan terisi NaN\n",
        "df = df.reindex(complete_range)\n",
        "\n",
        "# Menampilkan hasil\n",
        "print(df.head(15))"
      ]
    },
    {
      "cell_type": "code",
      "execution_count": 8,
      "metadata": {
        "cell_id": "08041d40b9444288ae38fd4547b39b03",
        "deepnote_cell_type": "code",
        "execution_context_id": "93379010-b705-4791-a243-0e04f3ad1bd5",
        "execution_millis": 687,
        "execution_start": 1740280222225,
        "source_hash": "f082b8f9"
      },
      "outputs": [],
      "source": [
        "# Plot line chart\n",
        "df.plot(y=['dew', 'humidity', 'pressure', 'temperature', 'volt'], subplots=True, figsize=(10, 15))\n",
        "plt.show()"
      ]
    },
    {
      "cell_type": "markdown",
      "metadata": {
        "created_in_deepnote_cell": true,
        "deepnote_cell_type": "markdown"
      },
      "source": [
        "<a style='text-decoration:none;line-height:16px;display:flex;color:#5B5B62;padding:10px;justify-content:end;' href='https://deepnote.com?utm_source=created-in-deepnote-cell&projectId=200afad5-8991-4e20-8a55-8751c7aff3b5' target=\"_blank\">\n",
        "<img alt='Created in deepnote.com' style='display:inline;max-height:16px;margin:0px;margin-right:7.5px;' src='data:image/svg+xml;base64,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' > </img>\n",
        "Created in <span style='font-weight:600;margin-left:4px;'>Deepnote</span></a>"
      ]
    }
  ],
  "metadata": {
    "deepnote_notebook_id": "a4f24fa410a74d1f8a65bb27ea911fa8",
    "language_info": {
      "name": "python"
    }
  },
  "nbformat": 4,
  "nbformat_minor": 0
}
