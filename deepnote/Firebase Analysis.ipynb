{
  "cells": [
    {
      "cell_type": "markdown",
      "metadata": {
        "formattedRanges": [],
        "cell_id": "2fda7ac10e4c4143a84a078623add657",
        "deepnote_cell_type": "text-cell-p"
      },
      "source": "",
      "block_group": "7bf378cdb94f49339a6250ac6d783984"
    },
    {
      "cell_type": "code",
      "metadata": {
        "source_hash": "876a9757",
        "execution_start": 1745428107908,
        "execution_millis": 12483,
        "execution_context_id": "24dcec45-a714-4f81-9673-bd2693be5c23",
        "deepnote_app_block_visible": true,
        "cell_id": "3769cbcd079b4dabb6a92001c1baae11",
        "deepnote_cell_type": "code"
      },
      "source": "!pip install missingno\nimport os\nimport numpy as np\nimport pandas as pd\nimport matplotlib.pyplot as plt\nimport matplotlib.dates as mdates\nimport matplotlib.animation as animation\nimport datetime\nimport seaborn as sns\nimport missingno as msno\n!pip install firebase-admin\nimport firebase_admin\nfrom firebase_admin import credentials, db\nfrom datetime import datetime  # Untuk konversi timestamp ke human-readable\nsns.set_theme(style=\"whitegrid\")\n%matplotlib inline ",
      "block_group": "fbd610535b7c4fa59e3ea2d1b78c825b",
      "execution_count": 1,
      "outputs": [],
      "outputs_reference": null,
      "content_dependencies": null
    },
    {
      "cell_type": "code",
      "metadata": {
        "source_hash": "3a3123b1",
        "execution_start": 1745428120439,
        "execution_millis": 185,
        "execution_context_id": "24dcec45-a714-4f81-9673-bd2693be5c23",
        "cell_id": "9eb6da1d3d2c4bb2b280f4c48b994282",
        "deepnote_cell_type": "code"
      },
      "source": "# Konfigurasi database tujuan\ndest_cred = credentials.Certificate(\"/work/staklimjerukagung-firebase-admin.json\")\ndest_app = firebase_admin.initialize_app(dest_cred, {\n    'databaseURL': 'https://staklimjerukagung-default-rtdb.asia-southeast1.firebasedatabase.app/'\n})",
      "block_group": "89aa0780650342a6b910416e6b9e8729",
      "execution_count": 2,
      "outputs": [],
      "outputs_reference": null,
      "content_dependencies": null
    },
    {
      "cell_type": "code",
      "metadata": {
        "source_hash": "ef9eb0b8",
        "execution_start": 1745428120679,
        "execution_millis": 58175,
        "execution_context_id": "24dcec45-a714-4f81-9673-bd2693be5c23",
        "cell_id": "f8eb5e3343fc4b3b904a2a9da64679d5",
        "deepnote_cell_type": "code"
      },
      "source": "# Referensi ke data sumber\nsource_ref = db.reference('/auto_weather_stat/id-03/data')\n\n# Mengambil data dari database sumber\nsource_data = source_ref.get()\n\n# Mengubah data menjadi DataFrame pandas\nif source_data:\n    # Mengubah data menjadi DataFrame\n    cuacaT = pd.DataFrame.from_dict(source_data, orient='index')\n    \n    # Jika 'timestamp' sudah ada, jangan pindahkan indeks ke kolom\n    if 'timestamp' not in cuacaT.columns:\n        cuacaT.index.name = 'timestamp'  # Mengatur nama indeks\n        cuacaT.reset_index(inplace=True)  # Memindahkan indeks menjadi kolom biasa\n    \n    print(cuacaT.head())  # Menampilkan data untuk verifikasi\nelse:\n    print(\"Tidak ada data di jalur /auto_weather_stat/id-03/data.\")",
      "block_group": "e897eaba182e4e9696b81d6f565a9b2b",
      "execution_count": 3,
      "outputs": [],
      "outputs_reference": null,
      "content_dependencies": null
    },
    {
      "cell_type": "code",
      "metadata": {
        "source_hash": "6952ca37",
        "execution_start": 1745428178911,
        "execution_millis": 24,
        "execution_context_id": "24dcec45-a714-4f81-9673-bd2693be5c23",
        "deepnote_app_block_visible": true,
        "cell_id": "84502c4fd24e47ff8bcdb8547b146081",
        "deepnote_cell_type": "code"
      },
      "source": "cuacaT.tail(10)",
      "block_group": "9eaef3b64382497991a088a02fb5cb12",
      "execution_count": 4,
      "outputs": [],
      "outputs_reference": null,
      "content_dependencies": null
    },
    {
      "cell_type": "code",
      "metadata": {
        "source_hash": "d8b7005c",
        "execution_start": 1745428178990,
        "execution_millis": 64,
        "execution_context_id": "24dcec45-a714-4f81-9673-bd2693be5c23",
        "deepnote_app_block_visible": true,
        "cell_id": "cb68d133491d4afaa68cc3d722b121c9",
        "deepnote_cell_type": "code"
      },
      "source": "cuacaT['timestamp']= cuacaT['timestamp'].astype(int)\ncuacaT.tail(10)",
      "block_group": "ed034989752c460aaf8b5e74dc4b6046",
      "execution_count": 5,
      "outputs": [],
      "outputs_reference": null,
      "content_dependencies": null
    },
    {
      "cell_type": "code",
      "metadata": {
        "source_hash": "34630247",
        "execution_start": 1745428179114,
        "execution_millis": 1,
        "execution_context_id": "24dcec45-a714-4f81-9673-bd2693be5c23",
        "deepnote_app_block_visible": true,
        "cell_id": "92d3bfc9e4614c419381052074d2c11b",
        "deepnote_cell_type": "code"
      },
      "source": "# Menampilkan 10 data terakhir\ncuacaT.head(10)",
      "block_group": "ec28e105a6d045d4bb298d6a62b9e5c2",
      "execution_count": 6,
      "outputs": [],
      "outputs_reference": null,
      "content_dependencies": null
    },
    {
      "cell_type": "code",
      "metadata": {
        "source_hash": "6952ca37",
        "execution_start": 1745428179170,
        "execution_millis": 1,
        "execution_context_id": "24dcec45-a714-4f81-9673-bd2693be5c23",
        "deepnote_app_block_visible": true,
        "cell_id": "73ac46f748be4b48aef59a5fd401e3b4",
        "deepnote_cell_type": "code"
      },
      "source": "cuacaT.tail(10)",
      "block_group": "5599e043a26b4aa48af3a6b5a2cdf843",
      "execution_count": 7,
      "outputs": [],
      "outputs_reference": null,
      "content_dependencies": null
    },
    {
      "cell_type": "code",
      "metadata": {
        "source_hash": "c0e03fb0",
        "execution_start": 1745428179229,
        "execution_millis": 1,
        "execution_context_id": "24dcec45-a714-4f81-9673-bd2693be5c23",
        "deepnote_app_block_visible": true,
        "cell_id": "1731b6bcd73f4f8996da183901b4e248",
        "deepnote_cell_type": "code"
      },
      "source": "# Tentukan batas bawah dan batas atas waktu yang wajar dalam format UNIX\n#start_timestamp = pd.Timestamp('2020-01-01').timestamp()  # UNIX time untuk 1 Januari 2020\n#end_timestamp = pd.Timestamp.now().timestamp()  # UNIX time saat ini\n\n# Hapus data dengan timestamp di luar rentang waktu yang wajar\n#cuacaT = cuacaT[(cuacaT['timestamp'] >= start_timestamp) & (cuacaT['timestamp'] <= end_timestamp)]",
      "block_group": "4136bc8e69694b86871605f03dc55d06",
      "execution_count": 8,
      "outputs": [],
      "outputs_reference": null,
      "content_dependencies": null
    },
    {
      "cell_type": "code",
      "metadata": {
        "source_hash": "b41d3a28",
        "execution_start": 1745428179296,
        "execution_millis": 327,
        "execution_context_id": "24dcec45-a714-4f81-9673-bd2693be5c23",
        "deepnote_app_block_visible": true,
        "cell_id": "8558ca56a01a417da08eec555f2ea882",
        "deepnote_cell_type": "code"
      },
      "source": "# Konversi timestamp ke datetime dalam format UTC\ncuacaT['timestamp'] = pd.to_datetime(cuacaT['timestamp'], unit='s', utc=True)\n\n# Mengonversi ke zona waktu WIB (Asia/Jakarta)\ncuacaT['timestamp'] = cuacaT['timestamp'].dt.tz_convert('Asia/Jakarta')",
      "block_group": "b5680ce8b7fb4fb2b536ba261a9705d2",
      "execution_count": 9,
      "outputs": [],
      "outputs_reference": null,
      "content_dependencies": null
    },
    {
      "cell_type": "code",
      "metadata": {
        "source_hash": "66cf00b0",
        "execution_start": 1745428179683,
        "execution_millis": 988,
        "execution_context_id": "24dcec45-a714-4f81-9673-bd2693be5c23",
        "deepnote_app_block_visible": true,
        "cell_id": "1b650eb2c3ca460f8901a117f2917ee6",
        "deepnote_cell_type": "code"
      },
      "source": "\n# Mengelompokkan data berdasarkan hari\ncuacaT['date'] = cuacaT['timestamp'].dt.date\ndata_per_day = cuacaT.groupby('date').size().reset_index(name='count')\n\n# Visualisasi jumlah data per hari\nplt.figure(figsize=(15, 7))\nplt.plot(data_per_day['date'], data_per_day['count'], marker='o', linestyle='-')\nplt.axhline(y=1440, color='r', linestyle='--', label='Expected Data Count (1440)')\nplt.xlabel('Tanggal')\nplt.ylabel('Jumlah Data')\nplt.title('Jumlah Data per Hari (1440 diharapkan)')\nplt.xticks(rotation=45)\nplt.grid(True)\nplt.legend()\nplt.tight_layout()\nplt.show()\n\n# Menampilkan hari-hari yang tidak memenuhi 1440 data\ndays_with_missing_data = data_per_day[data_per_day['count'] != 1440]\nprint(\"Hari dengan jumlah data yang kurang dari 1440:\")\nprint(days_with_missing_data)",
      "block_group": "e3b86a35773f41e8aae712bc7bbb4438",
      "execution_count": 10,
      "outputs": [],
      "outputs_reference": null,
      "content_dependencies": null
    },
    {
      "cell_type": "code",
      "metadata": {
        "source_hash": "6952ca37",
        "execution_start": 1745428180740,
        "execution_millis": 3,
        "execution_context_id": "24dcec45-a714-4f81-9673-bd2693be5c23",
        "deepnote_app_block_visible": true,
        "cell_id": "0a2fb375fabf4b5684c2776e66af19f4",
        "deepnote_cell_type": "code"
      },
      "source": "cuacaT.tail(10)",
      "block_group": "808f0087166342de86addaa0e30a5b31",
      "execution_count": 11,
      "outputs": [],
      "outputs_reference": null,
      "content_dependencies": null
    },
    {
      "cell_type": "code",
      "metadata": {
        "source_hash": "a7e0aa22",
        "execution_start": 1745428180799,
        "execution_millis": 13725,
        "execution_context_id": "24dcec45-a714-4f81-9673-bd2693be5c23",
        "deepnote_app_block_visible": true,
        "cell_id": "1c11bc7b6a354ee8a4081cd58ea8d312",
        "deepnote_cell_type": "code"
      },
      "source": "# Simpan DataFrame 'cuacaT' ke file CSV bernama 'Cuaca.csv'\ncuacaT.to_csv(\n#cuacaT.tail(43200).to_csv(\n    'cuaca.csv', \n    sep=',',\n    index=False,\n    #index_label='timestamp'\n)",
      "block_group": "2cb19a07ce164b48ad80608ac6639ec6",
      "execution_count": 12,
      "outputs": [],
      "outputs_reference": null,
      "content_dependencies": null
    },
    {
      "cell_type": "code",
      "metadata": {
        "source_hash": "271d66ab",
        "execution_start": 1745428194591,
        "execution_millis": 1429,
        "execution_context_id": "24dcec45-a714-4f81-9673-bd2693be5c23",
        "deepnote_app_block_visible": true,
        "cell_id": "d0def01660394d65a3799c7de64e8e92",
        "deepnote_cell_type": "code"
      },
      "source": "datacuaca = pd.read_csv(\"/work/cuaca.csv\")",
      "block_group": "2358a2ec3719484f9ad3fe6b0510a84f",
      "execution_count": 13,
      "outputs": [],
      "outputs_reference": null,
      "content_dependencies": null
    },
    {
      "cell_type": "code",
      "metadata": {
        "source_hash": "3f3d6dcb",
        "execution_start": 1745428196080,
        "execution_millis": 7479,
        "execution_context_id": "24dcec45-a714-4f81-9673-bd2693be5c23",
        "cell_id": "c6ab9cc6ceaa430791f049580a693c91",
        "deepnote_cell_type": "code"
      },
      "source": "datacuaca.plot(\n    y=[\n    'temperature', 'humidity', 'pressure', 'dew',\n    'volt'\n    ],\n    x='timestamp',\n    subplots=True, figsize=(10, 15))\nplt.show()",
      "block_group": "ff97a12f21304adc872812115ae7e4e3",
      "execution_count": 14,
      "outputs": [],
      "outputs_reference": null,
      "content_dependencies": null
    },
    {
      "cell_type": "code",
      "metadata": {
        "source_hash": "64530a0a",
        "execution_start": 1745428203619,
        "execution_millis": 220,
        "deepnote_table_state": {
          "sortBy": [],
          "filters": [],
          "pageSize": 100,
          "pageIndex": 608,
          "columnOrder": [
            "dew",
            "humidity",
            "pressure",
            "temperature",
            "volt",
            "date"
          ],
          "hiddenColumnIds": [],
          "columnDisplayNames": [],
          "conditionalFilters": [],
          "cellFormattingRules": [],
          "wrappedTextColumnIds": []
        },
        "execution_context_id": "24dcec45-a714-4f81-9673-bd2693be5c23",
        "deepnote_table_loading": false,
        "deepnote_app_block_visible": true,
        "cell_id": "0599542462eb4ac6b003c67a57948c39",
        "deepnote_cell_type": "code"
      },
      "source": "datacuaca",
      "block_group": "686a6872d33748e5806e3babd98f9c39",
      "execution_count": 15,
      "outputs": [],
      "outputs_reference": null,
      "content_dependencies": null
    },
    {
      "cell_type": "code",
      "metadata": {
        "source_hash": "80265450",
        "execution_start": 1745428205399,
        "execution_millis": 11308,
        "execution_context_id": "24dcec45-a714-4f81-9673-bd2693be5c23",
        "deepnote_app_block_visible": true,
        "cell_id": "f9a9d5094a444dacaed594b6e4d7dda6",
        "deepnote_cell_type": "code"
      },
      "source": "# Mengubah kolom 'timestamp' menjadi datetime\ndatacuaca['timestamp'] = pd.to_datetime(datacuaca['timestamp'])\n\n# Mengurutkan data berdasarkan 'timestamp'\ndatacuaca = datacuaca.sort_values(by='timestamp')\n\n# Menambahkan kolom 'hour', 'minute', 'day', 'month', dan 'year' dari 'timestamp'\ndatacuaca['hour'] = datacuaca['timestamp'].dt.hour\ndatacuaca['minute'] = datacuaca['timestamp'].dt.minute\ndatacuaca['day'] = datacuaca['timestamp'].dt.day\ndatacuaca['month'] = datacuaca['timestamp'].dt.month\ndatacuaca['year'] = datacuaca['timestamp'].dt.year\n\n",
      "block_group": "e9a82bbd4c87456ab46384121eca6cad",
      "execution_count": 16,
      "outputs": [],
      "outputs_reference": null,
      "content_dependencies": null
    },
    {
      "cell_type": "code",
      "metadata": {
        "source_hash": "7de13b12",
        "execution_start": 1745428216759,
        "execution_millis": 23341,
        "execution_context_id": "24dcec45-a714-4f81-9673-bd2693be5c23",
        "cell_id": "930cd8dc41394efea08a5ed5c5576789",
        "deepnote_cell_type": "code"
      },
      "source": "# Simpan DataFrame 'cuacaT' ke file CSV bernama 'Cuaca.csv'\ndatacuaca.to_csv(\n#cuacaT.tail(43200).to_csv(\n    'datacuaca.csv', \n    sep=',',\n    index=False,\n    #index_label='timestamp'\n)",
      "block_group": "72f151e460894981b74407fdc2bf37f4",
      "execution_count": 17,
      "outputs": [],
      "outputs_reference": null,
      "content_dependencies": null
    },
    {
      "cell_type": "code",
      "metadata": {
        "source_hash": "a3bd674c",
        "execution_start": 1745428240175,
        "execution_millis": 103,
        "execution_context_id": "24dcec45-a714-4f81-9673-bd2693be5c23",
        "cell_id": "859f7b48c670452e9da83913e8cc5a71",
        "deepnote_cell_type": "code"
      },
      "source": "# Menghapus data yang memiliki nilai kurang dari 0 pada kolom tertentu (misalnya suhu, kelembapan, tekanan, dll)\n# Gantilah nama kolom sesuai dengan nama kolom pada DataFrame Anda\ndatacuaca = datacuaca[(datacuaca['temperature'] >= 10) & \n                      (datacuaca['humidity'] >= 0) & \n                      (datacuaca['pressure'] >= 1000) & \n                      (datacuaca['dew'] >= 10) &\n                      (datacuaca['volt'] >= 0)]\n\n# Tampilkan hasil\ndatacuaca",
      "block_group": "696c93c246a843fbb2f664e0fab6aa38",
      "execution_count": 18,
      "outputs": [],
      "outputs_reference": null,
      "content_dependencies": null
    },
    {
      "cell_type": "code",
      "metadata": {
        "source_hash": "6b6bf090",
        "execution_start": 1745428240339,
        "execution_millis": 5983,
        "execution_context_id": "24dcec45-a714-4f81-9673-bd2693be5c23",
        "cell_id": "e4e0588493b44b0786d8faf802518ef0",
        "deepnote_cell_type": "code"
      },
      "source": "datacuaca.plot(\n    y=[\n    'temperature', 'humidity', 'pressure', 'dew',\n    'volt'\n    ],\n    subplots=True, figsize=(10, 15))\nplt.show()",
      "block_group": "d22828d5f1034f5da02c77c5ca30ecfc",
      "execution_count": 19,
      "outputs": [],
      "outputs_reference": null,
      "content_dependencies": null
    },
    {
      "cell_type": "code",
      "metadata": {
        "source_hash": "252a4c57",
        "execution_start": 1745428246370,
        "execution_millis": 1429,
        "execution_context_id": "24dcec45-a714-4f81-9673-bd2693be5c23",
        "deepnote_app_block_visible": true,
        "cell_id": "e1febe4e2fde40988abdcee4e1ac33c3",
        "deepnote_cell_type": "code"
      },
      "source": "# Pilih tahun\nselected_year = 2024\ndatacuaca_filtered = datacuaca[datacuaca['year'] == selected_year]\n\n# Mengelompokkan data berdasarkan 'month' dan 'day', menghitung rata-rata suhu\ndatacuaca_grouped = datacuaca_filtered.groupby(['month', 'day']).agg({'temperature': 'mean'}).reset_index()\n\n# Pivot dataframe untuk membuat format yang sesuai dengan heatmap (sumbu X: hari, sumbu Y: bulan)\ntemperature_pivot = datacuaca_grouped.pivot(index='month', columns='day', values='temperature')\n\n# Visualisasi heatmap menggunakan seaborn\nsns.set_theme()\n\n# Mengatur ukuran grafik\nf, ax = plt.subplots(figsize=(20, 10))\n\n# Membuat heatmap dengan anotasi nilai di setiap sel\nsns.heatmap(temperature_pivot, annot=True, fmt=\".1f\", linewidths=0.5, ax=ax, cmap=\"coolwarm\")\n\n# Memberi label pada sumbu\nax.set_xlabel('Day (UTC+7)')\nax.set_ylabel('Month')\nax.set_title(f'Average Daily Temperature Heatmap ({selected_year})')\n\n# Menampilkan heatmap\nplt.show()\n",
      "block_group": "67f84552c3704ee68dc3771b0289eb4f",
      "execution_count": 20,
      "outputs": [],
      "outputs_reference": null,
      "content_dependencies": null
    },
    {
      "cell_type": "code",
      "metadata": {
        "source_hash": "dfa0d7e0",
        "execution_start": 1745428247850,
        "execution_millis": 74551,
        "execution_context_id": "24dcec45-a714-4f81-9673-bd2693be5c23",
        "deepnote_app_block_visible": true,
        "cell_id": "30bc3eab7da440a082c71f6fc19eedcc",
        "deepnote_cell_type": "code"
      },
      "source": "# Mengonversi kolom 'timestamp' menjadi datetime jika belum\ndatacuaca['timestamp'] = pd.to_datetime(datacuaca['timestamp'])\n\nmonth_names = ['January', 'February', 'March', 'April', 'May', 'June', 'July', 'August', 'September','October', 'November', 'December']\n\n# Menentukan rentang bulan dari Januari hingga Desember\nmonths = range(1, 13)  # Bulan 1 hingga 12\n\n# Mengatur ukuran grafik untuk menampung semua heatmap\nfig, axs = plt.subplots(4, 3, figsize=(60, 45))\naxs = axs.flatten()  # Meratakan array subplot untuk iterasi yang lebih mudah\n\n# Looping untuk setiap bulan\nfor month in months:\n    # Filter data untuk bulan tertentu\n    monthly_data = datacuaca[(datacuaca['timestamp'].dt.year == 2024) & (datacuaca['timestamp'].dt.month == month)]\n\n    # Mengurutkan data berdasarkan 'timestamp'\n    monthly_data = monthly_data.sort_values(by='timestamp')\n\n    # Menambahkan kolom 'day' dan 'hour' dari 'timestamp'\n    monthly_data['day'] = monthly_data['timestamp'].dt.day\n    monthly_data['hour'] = monthly_data['timestamp'].dt.hour\n\n    # Mengelompokkan data berdasarkan 'day' dan 'hour', dan menghitung rata-rata suhu\n    datacuaca_grouped = monthly_data.groupby(['day', 'hour']).agg({'temperature': 'mean'}).reset_index()\n\n    # Pivot dataframe untuk membuat format yang sesuai dengan heatmap\n    temperature_pivot = datacuaca_grouped.pivot(index='day', columns='hour', values='temperature')\n\n    # Membuat heatmap untuk bulan tersebut\n    sns.heatmap(temperature_pivot, annot=True, fmt=\".1f\", linewidths=0.5, ax=axs[month-1], cmap=\"coolwarm\")\n    \n    # Memberi judul pada heatmap\n    axs[month-1].set_title(f'Temperature Heatmap for {month_names[month-1]} 2024')\n    axs[month-1].set_xlabel('Hour of Day (UTC+7)')\n    axs[month-1].set_ylabel('Day of Month')\n\n# Mengatur layout\nplt.tight_layout()\n\n# Menampilkan heatmaps\nplt.savefig(\"Heatmap_month.jpg\")\nplt.show()\n\n",
      "block_group": "d715860289c146f185380d4d53546fa7",
      "execution_count": 21,
      "outputs": [],
      "outputs_reference": null,
      "content_dependencies": null
    },
    {
      "cell_type": "code",
      "metadata": {
        "source_hash": "a6ec85e4",
        "execution_start": 1745428322429,
        "execution_millis": 27,
        "execution_context_id": "24dcec45-a714-4f81-9673-bd2693be5c23",
        "deepnote_app_block_visible": true,
        "cell_id": "f66b4cbf38fa495ead5416ed590ec723",
        "deepnote_cell_type": "code"
      },
      "source": "pilih_tahun = 2025\npilih_bulan = 4",
      "block_group": "a6cb7f1ea7a5452ca0bf83153e81e8ee",
      "execution_count": 22,
      "outputs": [],
      "outputs_reference": null,
      "content_dependencies": null
    },
    {
      "cell_type": "code",
      "metadata": {
        "source_hash": "3038578",
        "execution_start": 1745428322551,
        "execution_millis": 3446,
        "execution_context_id": "24dcec45-a714-4f81-9673-bd2693be5c23",
        "deepnote_app_block_visible": true,
        "cell_id": "d114134a80f344ddb39e7d847fe9addb",
        "deepnote_cell_type": "code"
      },
      "source": "# Mengonversi kolom 'timestamp' menjadi datetime jika belum\ndatacuaca['timestamp'] = pd.to_datetime(datacuaca['timestamp'])\n\n# Filter data untuk bulan Tertentu\ndatacuaca_month = datacuaca[(datacuaca['timestamp'].dt.year == pilih_tahun) & (datacuaca['timestamp'].dt.month == pilih_bulan)]\n\n# Mengurutkan data berdasarkan 'timestamp'\ndatacuaca_month = datacuaca_month.sort_values(by='timestamp')\n\n# Menambahkan kolom 'day' dan 'hour' dari 'timestamp'\ndatacuaca_month['day'] = datacuaca_month['timestamp'].dt.day\ndatacuaca_month['hour'] = datacuaca_month['timestamp'].dt.hour\n\n# Mengelompokkan data berdasarkan 'day' dan 'hour', dan menghitung rata-rata suhu\ndatacuaca_grouped = datacuaca_month.groupby(['day', 'hour']).agg({'temperature': 'mean'}).reset_index()\n\n# Pivot dataframe untuk membuat format yang sesuai dengan heatmap\ntemperature_pivot = datacuaca_grouped.pivot(index='day', columns='hour', values='temperature')\n\n# Visualisasi heatmap menggunakan seaborn\nsns.set_theme()\n\n# Mengatur ukuran grafik\nf, ax = plt.subplots(figsize=(24, 16))\n\n# Membuat heatmap dengan anotasi nilai di setiap sel\nsns.heatmap(temperature_pivot, annot=True, fmt=\".1f\", linewidths=.5, ax=ax, cmap=\"coolwarm\")\n\n# Memberi label pada sumbu\nax.set_xlabel('Hour of Day (UTC+7)')\nax.set_ylabel('Day of Month')\n\n# Menampilkan heatmap\nplt.savefig(\"Temp_month\" + \"_\" + str(pilih_tahun) + \"_\" + str(pilih_bulan) + \".jpg\")\nplt.show()\n\n",
      "block_group": "862580fe9dc0478ca4eb139c6e5641e4",
      "execution_count": 23,
      "outputs": [],
      "outputs_reference": null,
      "content_dependencies": null
    },
    {
      "cell_type": "code",
      "metadata": {
        "source_hash": "b409fb2e",
        "execution_start": 1745428326050,
        "execution_millis": 1734,
        "execution_context_id": "24dcec45-a714-4f81-9673-bd2693be5c23",
        "deepnote_app_block_visible": true,
        "cell_id": "e6923135b2114d4ba7005f5712460f2b",
        "deepnote_cell_type": "code"
      },
      "source": "# Mengonversi kolom 'timestamp' menjadi datetime jika belum\ndatacuaca['timestamp'] = pd.to_datetime(datacuaca['timestamp'])\n\n# Filter data untuk bulan Tertentu\ndatacuaca_month = datacuaca[(datacuaca['timestamp'].dt.year == pilih_tahun) & (datacuaca['timestamp'].dt.month == pilih_bulan)]\n\n# Mengurutkan data berdasarkan 'timestamp'\ndatacuaca_month = datacuaca_month.sort_values(by='timestamp')\n\n# Menambahkan kolom 'day' dan 'hour' dari 'timestamp'\ndatacuaca_month['day'] = datacuaca_month['timestamp'].dt.day\ndatacuaca_month['hour'] = datacuaca_month['timestamp'].dt.hour\n\n# Mengelompokkan data berdasarkan 'day' dan 'hour', dan menghitung rata-rata suhu\ndatacuaca_grouped = datacuaca_month.groupby(['day', 'hour']).agg({'humidity': 'mean'}).reset_index()\n\n# Pivot dataframe untuk membuat format yang sesuai dengan heatmap\nhumidity_pivot = datacuaca_grouped.pivot(index='day', columns='hour', values='humidity')\n\n# Visualisasi heatmap menggunakan seaborn\nsns.set_theme()\n\n# Mengatur ukuran grafik\nf, ax = plt.subplots(figsize=(24, 16))\n\n# Membuat heatmap dengan anotasi nilai di setiap sel\nsns.heatmap(humidity_pivot, annot=True, fmt=\".1f\", linewidths=.5, ax=ax, cmap=\"Blues\")\n\n# Memberi label pada sumbu\nax.set_xlabel('Hour of Day (UTC+7)')\nax.set_ylabel('Day of Month')\n\n# Menampilkan heatmap\nplt.show()",
      "block_group": "9da1baf05d90442fbe18ecce6e1ecc67",
      "execution_count": 24,
      "outputs": [],
      "outputs_reference": null,
      "content_dependencies": null
    },
    {
      "cell_type": "code",
      "metadata": {
        "source_hash": "f802a86e",
        "execution_start": 1745428327843,
        "execution_millis": 432,
        "execution_context_id": "24dcec45-a714-4f81-9673-bd2693be5c23",
        "deepnote_app_block_visible": true,
        "cell_id": "0a411a777a234e3dafd423203a1cc082",
        "deepnote_cell_type": "code"
      },
      "source": "# Mengonversi kolom 'timestamp' menjadi datetime jika belum\ndatacuaca['timestamp'] = pd.to_datetime(datacuaca['timestamp'])\n\n# Filter data untuk bulan Tertentu\ndatacuaca_month = datacuaca[(datacuaca['timestamp'].dt.year == pilih_tahun) & (datacuaca['timestamp'].dt.month == pilih_bulan)]\n\n# Mengurutkan data berdasarkan 'timestamp'\ndatacuaca_month = datacuaca_month.sort_values(by='timestamp')\n\n# Menambahkan kolom 'day' dan 'hour' dari 'timestamp'\ndatacuaca_month['day'] = datacuaca_month['timestamp'].dt.day\ndatacuaca_month['hour'] = datacuaca_month['timestamp'].dt.hour\n\n# Mengelompokkan data berdasarkan 'day' dan 'hour', dan menghitung rata-rata suhu\ndatacuaca_grouped = datacuaca_month.groupby(['day', 'hour']).agg({'pressure': 'mean'}).reset_index()\n\n# Pivot dataframe untuk membuat format yang sesuai dengan heatmap\npressure_pivot = datacuaca_grouped.pivot(index='day', columns='hour', values='pressure')\n\n# Visualisasi heatmap menggunakan seaborn\nsns.set_theme()\n\n# Mengatur ukuran grafik\nf, ax = plt.subplots(figsize=(24, 16))\n\n# Membuat heatmap dengan anotasi nilai di setiap sel\nsns.heatmap(pressure_pivot, annot=True, fmt=\".1f\", linewidths=.5, ax=ax, cmap=\"viridis\")\n\n# Memberi label pada sumbu\nax.set_xlabel('Hour of Day (UTC+7)')\nax.set_ylabel('Day of Month')\n\n# Menampilkan heatmap",
      "block_group": "b1491c12f1444c8a914fc3fbc3a86615",
      "execution_count": 25,
      "outputs": [],
      "outputs_reference": null,
      "content_dependencies": null
    },
    {
      "cell_type": "code",
      "metadata": {
        "source_hash": "4f0d213c",
        "execution_start": 1745428329912,
        "execution_millis": 433,
        "execution_context_id": "24dcec45-a714-4f81-9673-bd2693be5c23",
        "deepnote_app_block_visible": true,
        "cell_id": "6021852da8194eddaf90d2e7d13b25f3",
        "deepnote_cell_type": "code"
      },
      "source": "# Mengonversi kolom 'timestamp' menjadi datetime jika belum\ndatacuaca['timestamp'] = pd.to_datetime(datacuaca['timestamp'])\n\n# Filter data untuk bulan Tertentu\ndatacuaca_month = datacuaca[(datacuaca['timestamp'].dt.year == pilih_tahun) & (datacuaca['timestamp'].dt.month == pilih_bulan)]\n\n# Mengurutkan data berdasarkan 'timestamp'\ndatacuaca_month = datacuaca_month.sort_values(by='timestamp')\n\n# Menambahkan kolom 'day' dan 'hour' dari 'timestamp'\ndatacuaca_month['day'] = datacuaca_month['timestamp'].dt.day\ndatacuaca_month['hour'] = datacuaca_month['timestamp'].dt.hour\n\n# Mengelompokkan data berdasarkan 'day' dan 'hour', dan menghitung rata-rata suhu\ndatacuaca_grouped = datacuaca_month.groupby(['day', 'hour']).agg({'dew': 'mean'}).reset_index()\n\n# Pivot dataframe untuk membuat format yang sesuai dengan heatmap\ndew_pivot = datacuaca_grouped.pivot(index='day', columns='hour', values='dew')\n\n# Visualisasi heatmap menggunakan seaborn\nsns.set_theme()\n\n# Mengatur ukuran grafik\nf, ax = plt.subplots(figsize=(24, 16))\n\n# Membuat heatmap dengan anotasi nilai di setiap sel\nsns.heatmap(dew_pivot, annot=True, fmt=\".1f\", linewidths=.5, ax=ax, cmap=\"coolwarm\")\n\n# Memberi label pada sumbu\nax.set_xlabel('Hour of Day (UTC+7)')\nax.set_ylabel('Day of Month')\n\n# Menampilkan heatmap",
      "block_group": "36cd5e19cbfc46bc9cc4dc154670b0c9",
      "execution_count": 26,
      "outputs": [],
      "outputs_reference": null,
      "content_dependencies": null
    },
    {
      "cell_type": "code",
      "metadata": {
        "source_hash": "b623e53d",
        "execution_start": 1745428331920,
        "execution_millis": 0,
        "execution_context_id": "24dcec45-a714-4f81-9673-bd2693be5c23",
        "cell_id": "f294aa284d4f49579375e7b88d9d14cc",
        "deepnote_cell_type": "code"
      },
      "source": "",
      "block_group": "90a060686dce443d83ec3811f1e5bfdb",
      "execution_count": 26,
      "outputs": [],
      "outputs_reference": null,
      "content_dependencies": null
    },
    {
      "cell_type": "markdown",
      "source": "<a style='text-decoration:none;line-height:16px;display:flex;color:#5B5B62;padding:10px;justify-content:end;' href='https://deepnote.com?utm_source=created-in-deepnote-cell&projectId=200afad5-8991-4e20-8a55-8751c7aff3b5' target=\"_blank\">\n<img alt='Created in deepnote.com' style='display:inline;max-height:16px;margin:0px;margin-right:7.5px;' src='data:image/svg+xml;base64,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' > </img>\nCreated in <span style='font-weight:600;margin-left:4px;'>Deepnote</span></a>",
      "metadata": {
        "created_in_deepnote_cell": true,
        "deepnote_cell_type": "markdown"
      }
    }
  ],
  "nbformat": 4,
  "nbformat_minor": 0,
  "metadata": {
    "deepnote_app_layout": "powerful-article",
    "deepnote_app_reactivity_enabled": true,
    "deepnote_app_run_on_load_enabled": true,
    "deepnote_notebook_id": "9215391101864d27b154732897d1c8d6"
  }
}