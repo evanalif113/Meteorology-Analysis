{
  "cells": [
    {
      "cell_type": "markdown",
      "metadata": {
        "cell_id": "2fda7ac10e4c4143a84a078623add657",
        "deepnote_cell_type": "text-cell-p",
        "formattedRanges": []
      },
      "source": []
    },
    {
      "cell_type": "code",
      "execution_count": null,
      "metadata": {
        "cell_id": "3769cbcd079b4dabb6a92001c1baae11",
        "deepnote_app_block_visible": true,
        "deepnote_cell_type": "code",
        "execution_context_id": "24dcec45-a714-4f81-9673-bd2693be5c23",
        "execution_millis": 12483,
        "execution_start": 1745428107908,
        "source_hash": "876a9757"
      },
      "outputs": [],
      "source": [
        "import os\n",
        "import numpy as np\n",
        "import pandas as pd\n",
        "import matplotlib.pyplot as plt\n",
        "import matplotlib.dates as mdates\n",
        "import matplotlib.animation as animation\n",
        "import datetime\n",
        "import seaborn as sns\n",
        "import missingno as msno\n",
        "import firebase_admin\n",
        "from firebase_admin import credentials, db\n",
        "from datetime import datetime  # Untuk konversi timestamp ke human-readable\n",
        "sns.set_theme(style=\"whitegrid\")\n",
        "%matplotlib inline "
      ]
    },
    {
      "cell_type": "code",
      "execution_count": 2,
      "metadata": {
        "cell_id": "9eb6da1d3d2c4bb2b280f4c48b994282",
        "deepnote_cell_type": "code",
        "execution_context_id": "24dcec45-a714-4f81-9673-bd2693be5c23",
        "execution_millis": 185,
        "execution_start": 1745428120439,
        "source_hash": "3a3123b1"
      },
      "outputs": [],
      "source": [
        "# Konfigurasi database tujuan\n",
        "dest_cred = credentials.Certificate(\"/work/staklimjerukagung-firebase-admin.json\")\n",
        "dest_app = firebase_admin.initialize_app(dest_cred, {\n",
        "    'databaseURL': 'https://staklimjerukagung-default-rtdb.asia-southeast1.firebasedatabase.app/'\n",
        "})"
      ]
    },
    {
      "cell_type": "code",
      "execution_count": 3,
      "metadata": {
        "cell_id": "f8eb5e3343fc4b3b904a2a9da64679d5",
        "deepnote_cell_type": "code",
        "execution_context_id": "24dcec45-a714-4f81-9673-bd2693be5c23",
        "execution_millis": 58175,
        "execution_start": 1745428120679,
        "source_hash": "ef9eb0b8"
      },
      "outputs": [],
      "source": [
        "# Referensi ke data sumber\n",
        "source_ref = db.reference('/auto_weather_stat/id-03/data')\n",
        "\n",
        "# Mengambil data dari database sumber\n",
        "source_data = source_ref.get()\n",
        "\n",
        "# Mengubah data menjadi DataFrame pandas\n",
        "if source_data:\n",
        "    # Mengubah data menjadi DataFrame\n",
        "    cuacaT = pd.DataFrame.from_dict(source_data, orient='index')\n",
        "    \n",
        "    # Jika 'timestamp' sudah ada, jangan pindahkan indeks ke kolom\n",
        "    if 'timestamp' not in cuacaT.columns:\n",
        "        cuacaT.index.name = 'timestamp'  # Mengatur nama indeks\n",
        "        cuacaT.reset_index(inplace=True)  # Memindahkan indeks menjadi kolom biasa\n",
        "    \n",
        "    print(cuacaT.head())  # Menampilkan data untuk verifikasi\n",
        "else:\n",
        "    print(\"Tidak ada data di jalur /auto_weather_stat/id-03/data.\")"
      ]
    },
    {
      "cell_type": "code",
      "execution_count": 4,
      "metadata": {
        "cell_id": "84502c4fd24e47ff8bcdb8547b146081",
        "deepnote_app_block_visible": true,
        "deepnote_cell_type": "code",
        "execution_context_id": "24dcec45-a714-4f81-9673-bd2693be5c23",
        "execution_millis": 24,
        "execution_start": 1745428178911,
        "source_hash": "6952ca37"
      },
      "outputs": [],
      "source": [
        "cuacaT.tail(10)"
      ]
    },
    {
      "cell_type": "code",
      "execution_count": 5,
      "metadata": {
        "cell_id": "cb68d133491d4afaa68cc3d722b121c9",
        "deepnote_app_block_visible": true,
        "deepnote_cell_type": "code",
        "execution_context_id": "24dcec45-a714-4f81-9673-bd2693be5c23",
        "execution_millis": 64,
        "execution_start": 1745428178990,
        "source_hash": "d8b7005c"
      },
      "outputs": [],
      "source": [
        "cuacaT['timestamp']= cuacaT['timestamp'].astype(int)\n",
        "cuacaT.tail(10)"
      ]
    },
    {
      "cell_type": "code",
      "execution_count": 6,
      "metadata": {
        "cell_id": "92d3bfc9e4614c419381052074d2c11b",
        "deepnote_app_block_visible": true,
        "deepnote_cell_type": "code",
        "execution_context_id": "24dcec45-a714-4f81-9673-bd2693be5c23",
        "execution_millis": 1,
        "execution_start": 1745428179114,
        "source_hash": "34630247"
      },
      "outputs": [],
      "source": [
        "# Menampilkan 10 data terakhir\n",
        "cuacaT.head(10)"
      ]
    },
    {
      "cell_type": "code",
      "execution_count": 7,
      "metadata": {
        "cell_id": "73ac46f748be4b48aef59a5fd401e3b4",
        "deepnote_app_block_visible": true,
        "deepnote_cell_type": "code",
        "execution_context_id": "24dcec45-a714-4f81-9673-bd2693be5c23",
        "execution_millis": 1,
        "execution_start": 1745428179170,
        "source_hash": "6952ca37"
      },
      "outputs": [],
      "source": [
        "cuacaT.tail(10)"
      ]
    },
    {
      "cell_type": "code",
      "execution_count": 8,
      "metadata": {
        "cell_id": "1731b6bcd73f4f8996da183901b4e248",
        "deepnote_app_block_visible": true,
        "deepnote_cell_type": "code",
        "execution_context_id": "24dcec45-a714-4f81-9673-bd2693be5c23",
        "execution_millis": 1,
        "execution_start": 1745428179229,
        "source_hash": "c0e03fb0"
      },
      "outputs": [],
      "source": [
        "# Tentukan batas bawah dan batas atas waktu yang wajar dalam format UNIX\n",
        "#start_timestamp = pd.Timestamp('2020-01-01').timestamp()  # UNIX time untuk 1 Januari 2020\n",
        "#end_timestamp = pd.Timestamp.now().timestamp()  # UNIX time saat ini\n",
        "\n",
        "# Hapus data dengan timestamp di luar rentang waktu yang wajar\n",
        "#cuacaT = cuacaT[(cuacaT['timestamp'] >= start_timestamp) & (cuacaT['timestamp'] <= end_timestamp)]"
      ]
    },
    {
      "cell_type": "code",
      "execution_count": 9,
      "metadata": {
        "cell_id": "8558ca56a01a417da08eec555f2ea882",
        "deepnote_app_block_visible": true,
        "deepnote_cell_type": "code",
        "execution_context_id": "24dcec45-a714-4f81-9673-bd2693be5c23",
        "execution_millis": 327,
        "execution_start": 1745428179296,
        "source_hash": "b41d3a28"
      },
      "outputs": [],
      "source": [
        "# Konversi timestamp ke datetime dalam format UTC\n",
        "cuacaT['timestamp'] = pd.to_datetime(cuacaT['timestamp'], unit='s', utc=True)\n",
        "\n",
        "# Mengonversi ke zona waktu WIB (Asia/Jakarta)\n",
        "cuacaT['timestamp'] = cuacaT['timestamp'].dt.tz_convert('Asia/Jakarta')"
      ]
    },
    {
      "cell_type": "code",
      "execution_count": 10,
      "metadata": {
        "cell_id": "1b650eb2c3ca460f8901a117f2917ee6",
        "deepnote_app_block_visible": true,
        "deepnote_cell_type": "code",
        "execution_context_id": "24dcec45-a714-4f81-9673-bd2693be5c23",
        "execution_millis": 988,
        "execution_start": 1745428179683,
        "source_hash": "66cf00b0"
      },
      "outputs": [],
      "source": [
        "\n",
        "# Mengelompokkan data berdasarkan hari\n",
        "cuacaT['date'] = cuacaT['timestamp'].dt.date\n",
        "data_per_day = cuacaT.groupby('date').size().reset_index(name='count')\n",
        "\n",
        "# Visualisasi jumlah data per hari\n",
        "plt.figure(figsize=(15, 7))\n",
        "plt.plot(data_per_day['date'], data_per_day['count'], marker='o', linestyle='-')\n",
        "plt.axhline(y=1440, color='r', linestyle='--', label='Expected Data Count (1440)')\n",
        "plt.xlabel('Tanggal')\n",
        "plt.ylabel('Jumlah Data')\n",
        "plt.title('Jumlah Data per Hari (1440 diharapkan)')\n",
        "plt.xticks(rotation=45)\n",
        "plt.grid(True)\n",
        "plt.legend()\n",
        "plt.tight_layout()\n",
        "plt.show()\n",
        "\n",
        "# Menampilkan hari-hari yang tidak memenuhi 1440 data\n",
        "days_with_missing_data = data_per_day[data_per_day['count'] != 1440]\n",
        "print(\"Hari dengan jumlah data yang kurang dari 1440:\")\n",
        "print(days_with_missing_data)"
      ]
    },
    {
      "cell_type": "code",
      "execution_count": 11,
      "metadata": {
        "cell_id": "0a2fb375fabf4b5684c2776e66af19f4",
        "deepnote_app_block_visible": true,
        "deepnote_cell_type": "code",
        "execution_context_id": "24dcec45-a714-4f81-9673-bd2693be5c23",
        "execution_millis": 3,
        "execution_start": 1745428180740,
        "source_hash": "6952ca37"
      },
      "outputs": [],
      "source": [
        "cuacaT.tail(10)"
      ]
    },
    {
      "cell_type": "code",
      "execution_count": 12,
      "metadata": {
        "cell_id": "1c11bc7b6a354ee8a4081cd58ea8d312",
        "deepnote_app_block_visible": true,
        "deepnote_cell_type": "code",
        "execution_context_id": "24dcec45-a714-4f81-9673-bd2693be5c23",
        "execution_millis": 13725,
        "execution_start": 1745428180799,
        "source_hash": "a7e0aa22"
      },
      "outputs": [],
      "source": [
        "# Simpan DataFrame 'cuacaT' ke file CSV bernama 'Cuaca.csv'\n",
        "cuacaT.to_csv(\n",
        "#cuacaT.tail(43200).to_csv(\n",
        "    'cuaca.csv', \n",
        "    sep=',',\n",
        "    index=False,\n",
        "    #index_label='timestamp'\n",
        ")"
      ]
    },
    {
      "cell_type": "code",
      "execution_count": 13,
      "metadata": {
        "cell_id": "d0def01660394d65a3799c7de64e8e92",
        "deepnote_app_block_visible": true,
        "deepnote_cell_type": "code",
        "execution_context_id": "24dcec45-a714-4f81-9673-bd2693be5c23",
        "execution_millis": 1429,
        "execution_start": 1745428194591,
        "source_hash": "271d66ab"
      },
      "outputs": [],
      "source": [
        "datacuaca = pd.read_csv(\"/work/cuaca.csv\")"
      ]
    },
    {
      "cell_type": "code",
      "execution_count": 14,
      "metadata": {
        "cell_id": "c6ab9cc6ceaa430791f049580a693c91",
        "deepnote_cell_type": "code",
        "execution_context_id": "24dcec45-a714-4f81-9673-bd2693be5c23",
        "execution_millis": 7479,
        "execution_start": 1745428196080,
        "source_hash": "3f3d6dcb"
      },
      "outputs": [],
      "source": [
        "datacuaca.plot(\n",
        "    y=[\n",
        "    'temperature', 'humidity', 'pressure', 'dew',\n",
        "    'volt'\n",
        "    ],\n",
        "    x='timestamp',\n",
        "    subplots=True, figsize=(10, 15))\n",
        "plt.show()"
      ]
    },
    {
      "cell_type": "code",
      "execution_count": 15,
      "metadata": {
        "cell_id": "0599542462eb4ac6b003c67a57948c39",
        "deepnote_app_block_visible": true,
        "deepnote_cell_type": "code",
        "deepnote_table_loading": false,
        "deepnote_table_state": {
          "cellFormattingRules": [],
          "columnDisplayNames": [],
          "columnOrder": [
            "dew",
            "humidity",
            "pressure",
            "temperature",
            "volt",
            "date"
          ],
          "conditionalFilters": [],
          "filters": [],
          "hiddenColumnIds": [],
          "pageIndex": 608,
          "pageSize": 100,
          "sortBy": [],
          "wrappedTextColumnIds": []
        },
        "execution_context_id": "24dcec45-a714-4f81-9673-bd2693be5c23",
        "execution_millis": 220,
        "execution_start": 1745428203619,
        "source_hash": "64530a0a"
      },
      "outputs": [],
      "source": [
        "datacuaca"
      ]
    },
    {
      "cell_type": "code",
      "execution_count": 16,
      "metadata": {
        "cell_id": "f9a9d5094a444dacaed594b6e4d7dda6",
        "deepnote_app_block_visible": true,
        "deepnote_cell_type": "code",
        "execution_context_id": "24dcec45-a714-4f81-9673-bd2693be5c23",
        "execution_millis": 11308,
        "execution_start": 1745428205399,
        "source_hash": "80265450"
      },
      "outputs": [],
      "source": [
        "# Mengubah kolom 'timestamp' menjadi datetime\n",
        "datacuaca['timestamp'] = pd.to_datetime(datacuaca['timestamp'])\n",
        "\n",
        "# Mengurutkan data berdasarkan 'timestamp'\n",
        "datacuaca = datacuaca.sort_values(by='timestamp')\n",
        "\n",
        "# Menambahkan kolom 'hour', 'minute', 'day', 'month', dan 'year' dari 'timestamp'\n",
        "datacuaca['hour'] = datacuaca['timestamp'].dt.hour\n",
        "datacuaca['minute'] = datacuaca['timestamp'].dt.minute\n",
        "datacuaca['day'] = datacuaca['timestamp'].dt.day\n",
        "datacuaca['month'] = datacuaca['timestamp'].dt.month\n",
        "datacuaca['year'] = datacuaca['timestamp'].dt.year\n",
        "\n"
      ]
    },
    {
      "cell_type": "code",
      "execution_count": 17,
      "metadata": {
        "cell_id": "930cd8dc41394efea08a5ed5c5576789",
        "deepnote_cell_type": "code",
        "execution_context_id": "24dcec45-a714-4f81-9673-bd2693be5c23",
        "execution_millis": 23341,
        "execution_start": 1745428216759,
        "source_hash": "7de13b12"
      },
      "outputs": [],
      "source": [
        "# Simpan DataFrame 'cuacaT' ke file CSV bernama 'Cuaca.csv'\n",
        "datacuaca.to_csv(\n",
        "#cuacaT.tail(43200).to_csv(\n",
        "    'datacuaca.csv', \n",
        "    sep=',',\n",
        "    index=False,\n",
        "    #index_label='timestamp'\n",
        ")"
      ]
    },
    {
      "cell_type": "code",
      "execution_count": 18,
      "metadata": {
        "cell_id": "859f7b48c670452e9da83913e8cc5a71",
        "deepnote_cell_type": "code",
        "execution_context_id": "24dcec45-a714-4f81-9673-bd2693be5c23",
        "execution_millis": 103,
        "execution_start": 1745428240175,
        "source_hash": "a3bd674c"
      },
      "outputs": [],
      "source": [
        "# Menghapus data yang memiliki nilai kurang dari 0 pada kolom tertentu (misalnya suhu, kelembapan, tekanan, dll)\n",
        "# Gantilah nama kolom sesuai dengan nama kolom pada DataFrame Anda\n",
        "datacuaca = datacuaca[(datacuaca['temperature'] >= 10) & \n",
        "                      (datacuaca['humidity'] >= 0) & \n",
        "                      (datacuaca['pressure'] >= 1000) & \n",
        "                      (datacuaca['dew'] >= 10) &\n",
        "                      (datacuaca['volt'] >= 0)]\n",
        "\n",
        "# Tampilkan hasil\n",
        "datacuaca"
      ]
    },
    {
      "cell_type": "code",
      "execution_count": 19,
      "metadata": {
        "cell_id": "e4e0588493b44b0786d8faf802518ef0",
        "deepnote_cell_type": "code",
        "execution_context_id": "24dcec45-a714-4f81-9673-bd2693be5c23",
        "execution_millis": 5983,
        "execution_start": 1745428240339,
        "source_hash": "6b6bf090"
      },
      "outputs": [],
      "source": [
        "datacuaca.plot(\n",
        "    y=[\n",
        "    'temperature', 'humidity', 'pressure', 'dew',\n",
        "    'volt'\n",
        "    ],\n",
        "    subplots=True, figsize=(10, 15))\n",
        "plt.show()"
      ]
    },
    {
      "cell_type": "code",
      "execution_count": 20,
      "metadata": {
        "cell_id": "e1febe4e2fde40988abdcee4e1ac33c3",
        "deepnote_app_block_visible": true,
        "deepnote_cell_type": "code",
        "execution_context_id": "24dcec45-a714-4f81-9673-bd2693be5c23",
        "execution_millis": 1429,
        "execution_start": 1745428246370,
        "source_hash": "252a4c57"
      },
      "outputs": [],
      "source": [
        "# Pilih tahun\n",
        "selected_year = 2024\n",
        "datacuaca_filtered = datacuaca[datacuaca['year'] == selected_year]\n",
        "\n",
        "# Mengelompokkan data berdasarkan 'month' dan 'day', menghitung rata-rata suhu\n",
        "datacuaca_grouped = datacuaca_filtered.groupby(['month', 'day']).agg({'temperature': 'mean'}).reset_index()\n",
        "\n",
        "# Pivot dataframe untuk membuat format yang sesuai dengan heatmap (sumbu X: hari, sumbu Y: bulan)\n",
        "temperature_pivot = datacuaca_grouped.pivot(index='month', columns='day', values='temperature')\n",
        "\n",
        "# Visualisasi heatmap menggunakan seaborn\n",
        "sns.set_theme()\n",
        "\n",
        "# Mengatur ukuran grafik\n",
        "f, ax = plt.subplots(figsize=(20, 10))\n",
        "\n",
        "# Membuat heatmap dengan anotasi nilai di setiap sel\n",
        "sns.heatmap(temperature_pivot, annot=True, fmt=\".1f\", linewidths=0.5, ax=ax, cmap=\"coolwarm\")\n",
        "\n",
        "# Memberi label pada sumbu\n",
        "ax.set_xlabel('Day (UTC+7)')\n",
        "ax.set_ylabel('Month')\n",
        "ax.set_title(f'Average Daily Temperature Heatmap ({selected_year})')\n",
        "\n",
        "# Menampilkan heatmap\n",
        "plt.show()\n"
      ]
    },
    {
      "cell_type": "code",
      "execution_count": 21,
      "metadata": {
        "cell_id": "30bc3eab7da440a082c71f6fc19eedcc",
        "deepnote_app_block_visible": true,
        "deepnote_cell_type": "code",
        "execution_context_id": "24dcec45-a714-4f81-9673-bd2693be5c23",
        "execution_millis": 74551,
        "execution_start": 1745428247850,
        "source_hash": "dfa0d7e0"
      },
      "outputs": [],
      "source": [
        "# Mengonversi kolom 'timestamp' menjadi datetime jika belum\n",
        "datacuaca['timestamp'] = pd.to_datetime(datacuaca['timestamp'])\n",
        "\n",
        "month_names = ['January', 'February', 'March', 'April', 'May', 'June', 'July', 'August', 'September','October', 'November', 'December']\n",
        "\n",
        "# Menentukan rentang bulan dari Januari hingga Desember\n",
        "months = range(1, 13)  # Bulan 1 hingga 12\n",
        "\n",
        "# Mengatur ukuran grafik untuk menampung semua heatmap\n",
        "fig, axs = plt.subplots(4, 3, figsize=(60, 45))\n",
        "axs = axs.flatten()  # Meratakan array subplot untuk iterasi yang lebih mudah\n",
        "\n",
        "# Looping untuk setiap bulan\n",
        "for month in months:\n",
        "    # Filter data untuk bulan tertentu\n",
        "    monthly_data = datacuaca[(datacuaca['timestamp'].dt.year == 2024) & (datacuaca['timestamp'].dt.month == month)]\n",
        "\n",
        "    # Mengurutkan data berdasarkan 'timestamp'\n",
        "    monthly_data = monthly_data.sort_values(by='timestamp')\n",
        "\n",
        "    # Menambahkan kolom 'day' dan 'hour' dari 'timestamp'\n",
        "    monthly_data['day'] = monthly_data['timestamp'].dt.day\n",
        "    monthly_data['hour'] = monthly_data['timestamp'].dt.hour\n",
        "\n",
        "    # Mengelompokkan data berdasarkan 'day' dan 'hour', dan menghitung rata-rata suhu\n",
        "    datacuaca_grouped = monthly_data.groupby(['day', 'hour']).agg({'temperature': 'mean'}).reset_index()\n",
        "\n",
        "    # Pivot dataframe untuk membuat format yang sesuai dengan heatmap\n",
        "    temperature_pivot = datacuaca_grouped.pivot(index='day', columns='hour', values='temperature')\n",
        "\n",
        "    # Membuat heatmap untuk bulan tersebut\n",
        "    sns.heatmap(temperature_pivot, annot=True, fmt=\".1f\", linewidths=0.5, ax=axs[month-1], cmap=\"coolwarm\")\n",
        "    \n",
        "    # Memberi judul pada heatmap\n",
        "    axs[month-1].set_title(f'Temperature Heatmap for {month_names[month-1]} 2024')\n",
        "    axs[month-1].set_xlabel('Hour of Day (UTC+7)')\n",
        "    axs[month-1].set_ylabel('Day of Month')\n",
        "\n",
        "# Mengatur layout\n",
        "plt.tight_layout()\n",
        "\n",
        "# Menampilkan heatmaps\n",
        "plt.savefig(\"Heatmap_month.jpg\")\n",
        "plt.show()\n",
        "\n"
      ]
    },
    {
      "cell_type": "code",
      "execution_count": 22,
      "metadata": {
        "cell_id": "f66b4cbf38fa495ead5416ed590ec723",
        "deepnote_app_block_visible": true,
        "deepnote_cell_type": "code",
        "execution_context_id": "24dcec45-a714-4f81-9673-bd2693be5c23",
        "execution_millis": 27,
        "execution_start": 1745428322429,
        "source_hash": "a6ec85e4"
      },
      "outputs": [],
      "source": [
        "pilih_tahun = 2025\n",
        "pilih_bulan = 4"
      ]
    },
    {
      "cell_type": "code",
      "execution_count": 23,
      "metadata": {
        "cell_id": "d114134a80f344ddb39e7d847fe9addb",
        "deepnote_app_block_visible": true,
        "deepnote_cell_type": "code",
        "execution_context_id": "24dcec45-a714-4f81-9673-bd2693be5c23",
        "execution_millis": 3446,
        "execution_start": 1745428322551,
        "source_hash": "3038578"
      },
      "outputs": [],
      "source": [
        "# Mengonversi kolom 'timestamp' menjadi datetime jika belum\n",
        "datacuaca['timestamp'] = pd.to_datetime(datacuaca['timestamp'])\n",
        "\n",
        "# Filter data untuk bulan Tertentu\n",
        "datacuaca_month = datacuaca[(datacuaca['timestamp'].dt.year == pilih_tahun) & (datacuaca['timestamp'].dt.month == pilih_bulan)]\n",
        "\n",
        "# Mengurutkan data berdasarkan 'timestamp'\n",
        "datacuaca_month = datacuaca_month.sort_values(by='timestamp')\n",
        "\n",
        "# Menambahkan kolom 'day' dan 'hour' dari 'timestamp'\n",
        "datacuaca_month['day'] = datacuaca_month['timestamp'].dt.day\n",
        "datacuaca_month['hour'] = datacuaca_month['timestamp'].dt.hour\n",
        "\n",
        "# Mengelompokkan data berdasarkan 'day' dan 'hour', dan menghitung rata-rata suhu\n",
        "datacuaca_grouped = datacuaca_month.groupby(['day', 'hour']).agg({'temperature': 'mean'}).reset_index()\n",
        "\n",
        "# Pivot dataframe untuk membuat format yang sesuai dengan heatmap\n",
        "temperature_pivot = datacuaca_grouped.pivot(index='day', columns='hour', values='temperature')\n",
        "\n",
        "# Visualisasi heatmap menggunakan seaborn\n",
        "sns.set_theme()\n",
        "\n",
        "# Mengatur ukuran grafik\n",
        "f, ax = plt.subplots(figsize=(24, 16))\n",
        "\n",
        "# Membuat heatmap dengan anotasi nilai di setiap sel\n",
        "sns.heatmap(temperature_pivot, annot=True, fmt=\".1f\", linewidths=.5, ax=ax, cmap=\"coolwarm\")\n",
        "\n",
        "# Memberi label pada sumbu\n",
        "ax.set_xlabel('Hour of Day (UTC+7)')\n",
        "ax.set_ylabel('Day of Month')\n",
        "\n",
        "# Menampilkan heatmap\n",
        "plt.savefig(\"Temp_month\" + \"_\" + str(pilih_tahun) + \"_\" + str(pilih_bulan) + \".jpg\")\n",
        "plt.show()\n",
        "\n"
      ]
    },
    {
      "cell_type": "code",
      "execution_count": 24,
      "metadata": {
        "cell_id": "e6923135b2114d4ba7005f5712460f2b",
        "deepnote_app_block_visible": true,
        "deepnote_cell_type": "code",
        "execution_context_id": "24dcec45-a714-4f81-9673-bd2693be5c23",
        "execution_millis": 1734,
        "execution_start": 1745428326050,
        "source_hash": "b409fb2e"
      },
      "outputs": [],
      "source": [
        "# Mengonversi kolom 'timestamp' menjadi datetime jika belum\n",
        "datacuaca['timestamp'] = pd.to_datetime(datacuaca['timestamp'])\n",
        "\n",
        "# Filter data untuk bulan Tertentu\n",
        "datacuaca_month = datacuaca[(datacuaca['timestamp'].dt.year == pilih_tahun) & (datacuaca['timestamp'].dt.month == pilih_bulan)]\n",
        "\n",
        "# Mengurutkan data berdasarkan 'timestamp'\n",
        "datacuaca_month = datacuaca_month.sort_values(by='timestamp')\n",
        "\n",
        "# Menambahkan kolom 'day' dan 'hour' dari 'timestamp'\n",
        "datacuaca_month['day'] = datacuaca_month['timestamp'].dt.day\n",
        "datacuaca_month['hour'] = datacuaca_month['timestamp'].dt.hour\n",
        "\n",
        "# Mengelompokkan data berdasarkan 'day' dan 'hour', dan menghitung rata-rata suhu\n",
        "datacuaca_grouped = datacuaca_month.groupby(['day', 'hour']).agg({'humidity': 'mean'}).reset_index()\n",
        "\n",
        "# Pivot dataframe untuk membuat format yang sesuai dengan heatmap\n",
        "humidity_pivot = datacuaca_grouped.pivot(index='day', columns='hour', values='humidity')\n",
        "\n",
        "# Visualisasi heatmap menggunakan seaborn\n",
        "sns.set_theme()\n",
        "\n",
        "# Mengatur ukuran grafik\n",
        "f, ax = plt.subplots(figsize=(24, 16))\n",
        "\n",
        "# Membuat heatmap dengan anotasi nilai di setiap sel\n",
        "sns.heatmap(humidity_pivot, annot=True, fmt=\".1f\", linewidths=.5, ax=ax, cmap=\"Blues\")\n",
        "\n",
        "# Memberi label pada sumbu\n",
        "ax.set_xlabel('Hour of Day (UTC+7)')\n",
        "ax.set_ylabel('Day of Month')\n",
        "\n",
        "# Menampilkan heatmap\n",
        "plt.show()"
      ]
    },
    {
      "cell_type": "code",
      "execution_count": 25,
      "metadata": {
        "cell_id": "0a411a777a234e3dafd423203a1cc082",
        "deepnote_app_block_visible": true,
        "deepnote_cell_type": "code",
        "execution_context_id": "24dcec45-a714-4f81-9673-bd2693be5c23",
        "execution_millis": 432,
        "execution_start": 1745428327843,
        "source_hash": "f802a86e"
      },
      "outputs": [],
      "source": [
        "# Mengonversi kolom 'timestamp' menjadi datetime jika belum\n",
        "datacuaca['timestamp'] = pd.to_datetime(datacuaca['timestamp'])\n",
        "\n",
        "# Filter data untuk bulan Tertentu\n",
        "datacuaca_month = datacuaca[(datacuaca['timestamp'].dt.year == pilih_tahun) & (datacuaca['timestamp'].dt.month == pilih_bulan)]\n",
        "\n",
        "# Mengurutkan data berdasarkan 'timestamp'\n",
        "datacuaca_month = datacuaca_month.sort_values(by='timestamp')\n",
        "\n",
        "# Menambahkan kolom 'day' dan 'hour' dari 'timestamp'\n",
        "datacuaca_month['day'] = datacuaca_month['timestamp'].dt.day\n",
        "datacuaca_month['hour'] = datacuaca_month['timestamp'].dt.hour\n",
        "\n",
        "# Mengelompokkan data berdasarkan 'day' dan 'hour', dan menghitung rata-rata suhu\n",
        "datacuaca_grouped = datacuaca_month.groupby(['day', 'hour']).agg({'pressure': 'mean'}).reset_index()\n",
        "\n",
        "# Pivot dataframe untuk membuat format yang sesuai dengan heatmap\n",
        "pressure_pivot = datacuaca_grouped.pivot(index='day', columns='hour', values='pressure')\n",
        "\n",
        "# Visualisasi heatmap menggunakan seaborn\n",
        "sns.set_theme()\n",
        "\n",
        "# Mengatur ukuran grafik\n",
        "f, ax = plt.subplots(figsize=(24, 16))\n",
        "\n",
        "# Membuat heatmap dengan anotasi nilai di setiap sel\n",
        "sns.heatmap(pressure_pivot, annot=True, fmt=\".1f\", linewidths=.5, ax=ax, cmap=\"viridis\")\n",
        "\n",
        "# Memberi label pada sumbu\n",
        "ax.set_xlabel('Hour of Day (UTC+7)')\n",
        "ax.set_ylabel('Day of Month')\n",
        "\n",
        "# Menampilkan heatmap"
      ]
    },
    {
      "cell_type": "code",
      "execution_count": 26,
      "metadata": {
        "cell_id": "6021852da8194eddaf90d2e7d13b25f3",
        "deepnote_app_block_visible": true,
        "deepnote_cell_type": "code",
        "execution_context_id": "24dcec45-a714-4f81-9673-bd2693be5c23",
        "execution_millis": 433,
        "execution_start": 1745428329912,
        "source_hash": "4f0d213c"
      },
      "outputs": [],
      "source": [
        "# Mengonversi kolom 'timestamp' menjadi datetime jika belum\n",
        "datacuaca['timestamp'] = pd.to_datetime(datacuaca['timestamp'])\n",
        "\n",
        "# Filter data untuk bulan Tertentu\n",
        "datacuaca_month = datacuaca[(datacuaca['timestamp'].dt.year == pilih_tahun) & (datacuaca['timestamp'].dt.month == pilih_bulan)]\n",
        "\n",
        "# Mengurutkan data berdasarkan 'timestamp'\n",
        "datacuaca_month = datacuaca_month.sort_values(by='timestamp')\n",
        "\n",
        "# Menambahkan kolom 'day' dan 'hour' dari 'timestamp'\n",
        "datacuaca_month['day'] = datacuaca_month['timestamp'].dt.day\n",
        "datacuaca_month['hour'] = datacuaca_month['timestamp'].dt.hour\n",
        "\n",
        "# Mengelompokkan data berdasarkan 'day' dan 'hour', dan menghitung rata-rata suhu\n",
        "datacuaca_grouped = datacuaca_month.groupby(['day', 'hour']).agg({'dew': 'mean'}).reset_index()\n",
        "\n",
        "# Pivot dataframe untuk membuat format yang sesuai dengan heatmap\n",
        "dew_pivot = datacuaca_grouped.pivot(index='day', columns='hour', values='dew')\n",
        "\n",
        "# Visualisasi heatmap menggunakan seaborn\n",
        "sns.set_theme()\n",
        "\n",
        "# Mengatur ukuran grafik\n",
        "f, ax = plt.subplots(figsize=(24, 16))\n",
        "\n",
        "# Membuat heatmap dengan anotasi nilai di setiap sel\n",
        "sns.heatmap(dew_pivot, annot=True, fmt=\".1f\", linewidths=.5, ax=ax, cmap=\"coolwarm\")\n",
        "\n",
        "# Memberi label pada sumbu\n",
        "ax.set_xlabel('Hour of Day (UTC+7)')\n",
        "ax.set_ylabel('Day of Month')\n",
        "\n",
        "# Menampilkan heatmap"
      ]
    },
    {
      "cell_type": "code",
      "execution_count": 26,
      "metadata": {
        "cell_id": "f294aa284d4f49579375e7b88d9d14cc",
        "deepnote_cell_type": "code",
        "execution_context_id": "24dcec45-a714-4f81-9673-bd2693be5c23",
        "execution_millis": 0,
        "execution_start": 1745428331920,
        "source_hash": "b623e53d"
      },
      "outputs": [],
      "source": []
    },
    {
      "cell_type": "markdown",
      "metadata": {
        "created_in_deepnote_cell": true,
        "deepnote_cell_type": "markdown"
      },
      "source": [
        "<a style='text-decoration:none;line-height:16px;display:flex;color:#5B5B62;padding:10px;justify-content:end;' href='https://deepnote.com?utm_source=created-in-deepnote-cell&projectId=200afad5-8991-4e20-8a55-8751c7aff3b5' target=\"_blank\">\n",
        "<img alt='Created in deepnote.com' style='display:inline;max-height:16px;margin:0px;margin-right:7.5px;' src='data:image/svg+xml;base64,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' > </img>\n",
        "Created in <span style='font-weight:600;margin-left:4px;'>Deepnote</span></a>"
      ]
    }
  ],
  "metadata": {
    "deepnote_app_layout": "powerful-article",
    "deepnote_app_reactivity_enabled": true,
    "deepnote_app_run_on_load_enabled": true,
    "deepnote_notebook_id": "9215391101864d27b154732897d1c8d6",
    "language_info": {
      "name": "python"
    }
  },
  "nbformat": 4,
  "nbformat_minor": 0
}
