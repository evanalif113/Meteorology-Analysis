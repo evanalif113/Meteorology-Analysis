{
  "cells": [
    {
      "cell_type": "code",
      "metadata": {
        "source_hash": "7a7ac4cd",
        "execution_start": 1744182928723,
        "execution_millis": 2663,
        "execution_context_id": "6d3da842-344c-4dc1-9204-46968ccf545a",
        "cell_id": "239a2b0740ad4b2a91abd5acb6c2efbe",
        "deepnote_cell_type": "code"
      },
      "source": "!pip install firebase-admin\nimport firebase_admin\nfrom firebase_admin import credentials, db\nfrom datetime import datetime  # Untuk konversi timestamp ke human-readable\nimport pandas as pd",
      "block_group": "239a2b0740ad4b2a91abd5acb6c2efbe",
      "execution_count": 1,
      "outputs": [],
      "outputs_reference": null,
      "content_dependencies": null
    },
    {
      "cell_type": "code",
      "metadata": {
        "source_hash": "35f77015",
        "execution_start": 1744182931434,
        "execution_millis": 156,
        "execution_context_id": "6d3da842-344c-4dc1-9204-46968ccf545a",
        "cell_id": "09ac3ae27f4f48aa89ec6f92b3fde7d6",
        "deepnote_cell_type": "code"
      },
      "source": "# Konfigurasi database sumber\nsource_cred = credentials.Certificate(\"/work/database-sensor-iklim-litbang-firebase-admin.json\")\nfirebase_admin.initialize_app(source_cred, {\n    'databaseURL': 'https://database-sensor-iklim-litbang-default-rtdb.asia-southeast1.firebasedatabase.app/'\n})",
      "block_group": "8dd9d1409d624e9ca17809ae527920a4",
      "execution_count": 2,
      "outputs": [],
      "outputs_reference": null,
      "content_dependencies": null
    },
    {
      "cell_type": "code",
      "metadata": {
        "source_hash": "8bc15b1f",
        "execution_start": 1744182931634,
        "execution_millis": 10692,
        "execution_context_id": "6d3da842-344c-4dc1-9204-46968ccf545a",
        "cell_id": "560d1d5d829f48059de01b2f8b1154a8",
        "deepnote_cell_type": "code"
      },
      "source": "# Referensi ke data sumber\nsource_ref = db.reference('/auto_weather_stat/id-05/data')\n\n# Mengambil data dari database sumber\nsource_data = source_ref.get()\n\n# Mengubah data menjadi DataFrame pandas\nif source_data:\n    # Mengubah data menjadi DataFrame\n    df = pd.DataFrame.from_dict(source_data, orient='index')\n    \n    # Jika 'timestamp' sudah ada, jangan pindahkan indeks ke kolom\n    if 'timestamp' not in df.columns:\n        df.index.name = 'timestamp'  # Mengatur nama indeks\n        df.reset_index(inplace=True)  # Memindahkan indeks menjadi kolom biasa\n    \n    print(df.head())  # Menampilkan data untuk verifikasi\nelse:\n    print(\"Tidak ada data di databse sumber.\")",
      "block_group": "a6f2843c64ab4802a9146adcdd12fd33",
      "execution_count": 3,
      "outputs": [],
      "outputs_reference": null,
      "content_dependencies": null
    },
    {
      "cell_type": "code",
      "metadata": {
        "source_hash": "f30f989a",
        "execution_start": 1744182942404,
        "execution_millis": 1,
        "execution_context_id": "6d3da842-344c-4dc1-9204-46968ccf545a",
        "cell_id": "5f389d5148e54800ae4ef15f524ebd3d",
        "deepnote_cell_type": "code"
      },
      "source": "df.head(10)",
      "block_group": "2a0de005cd1544ffb1bdee4bc31db732",
      "execution_count": 4,
      "outputs": [],
      "outputs_reference": null,
      "content_dependencies": null
    },
    {
      "cell_type": "code",
      "metadata": {
        "source_hash": "109a0657",
        "execution_start": 1744182942474,
        "execution_millis": 1,
        "execution_context_id": "6d3da842-344c-4dc1-9204-46968ccf545a",
        "cell_id": "eaad0c201d554ec486b131c76644db22",
        "deepnote_cell_type": "code"
      },
      "source": "# Input readable date\nstart_readable_date = \"08-04-2025 00:00:00\"  # Format: DD-MM-YYYY HH:MM:SS\nend_readable_date = \"08-04-2025 09:00:00\"  # Format: DD-MM-YYYY HH:MM:SS\n\n# Convert readable date to Unix timestamp\nstart_timestamp = int(datetime.strptime(start_readable_date, \"%d-%m-%Y %H:%M:%S\").timestamp())\nprint(start_timestamp)\n# end_timestamp = int(datetime.now().timestamp())  # Current time in Unix timestamp\nend_timestamp = int(datetime.strptime(end_readable_date, \"%d-%m-%Y %H:%M:%S\").timestamp())\nprint(end_timestamp)\n# Filter data berdasarkan rentang waktu dengan validasi kunci\nfiltered_data = {\n    key: value\n    for key, value in source_data.items()\n    if key.isdigit() and start_timestamp <= int(key) <= end_timestamp\n}",
      "block_group": "37bb43fdec5e457a89677cfde75dd17b",
      "execution_count": 5,
      "outputs": [],
      "outputs_reference": null,
      "content_dependencies": null
    },
    {
      "cell_type": "code",
      "metadata": {
        "source_hash": "10beb08b",
        "execution_start": 1744182942524,
        "execution_millis": 138,
        "execution_context_id": "6d3da842-344c-4dc1-9204-46968ccf545a",
        "cell_id": "c64acd6dd5e74c6a85c3999de8975d6a",
        "deepnote_cell_type": "code"
      },
      "source": "# Konfigurasi database tujuan\ndest_cred = credentials.Certificate(\"/work/staklimjerukagung-firebase-admin.json\")\ndest_app = firebase_admin.initialize_app(dest_cred, {\n    'databaseURL': 'https://staklimjerukagung-default-rtdb.asia-southeast1.firebasedatabase.app/'\n}, name='destination')",
      "block_group": "ae108d4e0b28499fb0cc09673296d950",
      "execution_count": 6,
      "outputs": [],
      "outputs_reference": null,
      "content_dependencies": null
    },
    {
      "cell_type": "code",
      "metadata": {
        "source_hash": "abd6cfd",
        "execution_start": 1744182942714,
        "execution_millis": 0,
        "execution_context_id": "6d3da842-344c-4dc1-9204-46968ccf545a",
        "cell_id": "c6363488561240b6aab9fba034859134",
        "deepnote_cell_type": "code"
      },
      "source": "# Referensi ke data tujuan\ndest_ref = db.reference('/auto_weather_stat/id-03/data', app=dest_app)",
      "block_group": "17a8f4aaef4f40008d4ba3a9ca867646",
      "execution_count": 7,
      "outputs": [],
      "outputs_reference": null,
      "content_dependencies": null
    },
    {
      "cell_type": "code",
      "metadata": {
        "source_hash": "ac55fc9b",
        "execution_start": 1744182942774,
        "execution_millis": 1838,
        "execution_context_id": "6d3da842-344c-4dc1-9204-46968ccf545a",
        "cell_id": "01e1ca64957145bf8d711255e0f39988",
        "deepnote_cell_type": "code"
      },
      "source": "# Memindahkan data yang telah difilter ke database tujuan\nif filtered_data:\n    dest_ref.update(filtered_data)\n    print(\"Data berhasil dipindahkan ke /auto_weather_stat/id-03 di database tujuan.\")\nelse:\n    print(\"Tidak ada data dalam rentang waktu yang ditentukan.\")",
      "block_group": "eb1b0789c6ac44a3bac4454659a0409a",
      "execution_count": 8,
      "outputs": [],
      "outputs_reference": null,
      "content_dependencies": null
    },
    {
      "cell_type": "markdown",
      "source": "<a style='text-decoration:none;line-height:16px;display:flex;color:#5B5B62;padding:10px;justify-content:end;' href='https://deepnote.com?utm_source=created-in-deepnote-cell&projectId=200afad5-8991-4e20-8a55-8751c7aff3b5' target=\"_blank\">\n<img alt='Created in deepnote.com' style='display:inline;max-height:16px;margin:0px;margin-right:7.5px;' src='data:image/svg+xml;base64,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' > </img>\nCreated in <span style='font-weight:600;margin-left:4px;'>Deepnote</span></a>",
      "metadata": {
        "created_in_deepnote_cell": true,
        "deepnote_cell_type": "markdown"
      }
    }
  ],
  "nbformat": 4,
  "nbformat_minor": 0,
  "metadata": {
    "deepnote_persisted_session": {
      "createdAt": "2025-04-08T19:31:22.843Z"
    },
    "deepnote_notebook_id": "6fb4bd078c5f4d19930805c5d4bdafc2"
  }
}