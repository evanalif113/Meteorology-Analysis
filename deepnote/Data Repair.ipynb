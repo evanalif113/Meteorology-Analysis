{
  "cells": [
    {
      "cell_type": "code",
      "execution_count": 2,
      "metadata": {
        "cell_id": "239a2b0740ad4b2a91abd5acb6c2efbe",
        "deepnote_cell_type": "code",
        "execution_context_id": "6d3da842-344c-4dc1-9204-46968ccf545a",
        "execution_millis": 2663,
        "execution_start": 1744182928723,
        "source_hash": "7a7ac4cd"
      },
      "outputs": [],
      "source": [
        "import firebase_admin\n",
        "from firebase_admin import credentials, db\n",
        "from datetime import datetime  # Untuk konversi timestamp ke human-readable\n",
        "import pandas as pd"
      ]
    },
    {
      "cell_type": "code",
      "execution_count": 2,
      "metadata": {
        "cell_id": "09ac3ae27f4f48aa89ec6f92b3fde7d6",
        "deepnote_cell_type": "code",
        "execution_context_id": "6d3da842-344c-4dc1-9204-46968ccf545a",
        "execution_millis": 156,
        "execution_start": 1744182931434,
        "source_hash": "35f77015"
      },
      "outputs": [],
      "source": [
        "# Konfigurasi database sumber\n",
        "source_cred = credentials.Certificate(\"/work/database-sensor-iklim-litbang-firebase-admin.json\")\n",
        "firebase_admin.initialize_app(source_cred, {\n",
        "    'databaseURL': 'https://database-sensor-iklim-litbang-default-rtdb.asia-southeast1.firebasedatabase.app/'\n",
        "})"
      ]
    },
    {
      "cell_type": "code",
      "execution_count": 3,
      "metadata": {
        "cell_id": "560d1d5d829f48059de01b2f8b1154a8",
        "deepnote_cell_type": "code",
        "execution_context_id": "6d3da842-344c-4dc1-9204-46968ccf545a",
        "execution_millis": 10692,
        "execution_start": 1744182931634,
        "source_hash": "8bc15b1f"
      },
      "outputs": [],
      "source": [
        "# Referensi ke data sumber\n",
        "source_ref = db.reference('/auto_weather_stat/id-05/data')\n",
        "\n",
        "# Mengambil data dari database sumber\n",
        "source_data = source_ref.get()\n",
        "\n",
        "# Mengubah data menjadi DataFrame pandas\n",
        "if source_data:\n",
        "    # Mengubah data menjadi DataFrame\n",
        "    df = pd.DataFrame.from_dict(source_data, orient='index')\n",
        "    \n",
        "    # Jika 'timestamp' sudah ada, jangan pindahkan indeks ke kolom\n",
        "    if 'timestamp' not in df.columns:\n",
        "        df.index.name = 'timestamp'  # Mengatur nama indeks\n",
        "        df.reset_index(inplace=True)  # Memindahkan indeks menjadi kolom biasa\n",
        "    \n",
        "    print(df.head())  # Menampilkan data untuk verifikasi\n",
        "else:\n",
        "    print(\"Tidak ada data di databse sumber.\")"
      ]
    },
    {
      "cell_type": "code",
      "execution_count": 4,
      "metadata": {
        "cell_id": "5f389d5148e54800ae4ef15f524ebd3d",
        "deepnote_cell_type": "code",
        "execution_context_id": "6d3da842-344c-4dc1-9204-46968ccf545a",
        "execution_millis": 1,
        "execution_start": 1744182942404,
        "source_hash": "f30f989a"
      },
      "outputs": [],
      "source": [
        "df.head(10)"
      ]
    },
    {
      "cell_type": "code",
      "execution_count": null,
      "metadata": {
        "cell_id": "eaad0c201d554ec486b131c76644db22",
        "deepnote_cell_type": "code",
        "execution_context_id": "6d3da842-344c-4dc1-9204-46968ccf545a",
        "execution_millis": 1,
        "execution_start": 1744182942474,
        "source_hash": "109a0657"
      },
      "outputs": [
        {
          "ename": "NameError",
          "evalue": "name 'datetime' is not defined",
          "output_type": "error",
          "traceback": [
            "\u001b[1;31m---------------------------------------------------------------------------\u001b[0m",
            "\u001b[1;31mNameError\u001b[0m                                 Traceback (most recent call last)",
            "Cell \u001b[1;32mIn[1], line 6\u001b[0m\n\u001b[0;32m      3\u001b[0m end_readable_date \u001b[38;5;241m=\u001b[39m \u001b[38;5;124m\"\u001b[39m\u001b[38;5;124m08-04-2025 09:00:00\u001b[39m\u001b[38;5;124m\"\u001b[39m  \u001b[38;5;66;03m# Format: DD-MM-YYYY HH:MM:SS\u001b[39;00m\n\u001b[0;32m      5\u001b[0m \u001b[38;5;66;03m# Convert readable date to Unix timestamp\u001b[39;00m\n\u001b[1;32m----> 6\u001b[0m start_timestamp \u001b[38;5;241m=\u001b[39m \u001b[38;5;28mstr\u001b[39m(\u001b[43mdatetime\u001b[49m\u001b[38;5;241m.\u001b[39mstrptime(start_readable_date, \u001b[38;5;124m\"\u001b[39m\u001b[38;5;132;01m%d\u001b[39;00m\u001b[38;5;124m-\u001b[39m\u001b[38;5;124m%\u001b[39m\u001b[38;5;124mm-\u001b[39m\u001b[38;5;124m%\u001b[39m\u001b[38;5;124mY \u001b[39m\u001b[38;5;124m%\u001b[39m\u001b[38;5;124mH:\u001b[39m\u001b[38;5;124m%\u001b[39m\u001b[38;5;124mM:\u001b[39m\u001b[38;5;124m%\u001b[39m\u001b[38;5;124mS\u001b[39m\u001b[38;5;124m\"\u001b[39m)\u001b[38;5;241m.\u001b[39mtimestamp())\n\u001b[0;32m      7\u001b[0m \u001b[38;5;28mprint\u001b[39m(start_timestamp)\n\u001b[0;32m      8\u001b[0m \u001b[38;5;66;03m# end_timestamp = int(datetime.now().timestamp())  # Current time in Unix timestamp\u001b[39;00m\n",
            "\u001b[1;31mNameError\u001b[0m: name 'datetime' is not defined"
          ]
        }
      ],
      "source": [
        "# Input readable date\n",
        "start_readable_date = \"08-04-2025 00:00:00\"  # Format: DD-MM-YYYY HH:MM:SS\n",
        "end_readable_date = \"08-04-2025 09:00:00\"  # Format: DD-MM-YYYY HH:MM:SS\n",
        "\n",
        "# Convert readable date to Unix timestamp\n",
        "start_timestamp = int(datetime.strptime(start_readable_date, \"%d-%m-%Y %H:%M:%S\").timestamp())\n",
        "print(start_timestamp)\n",
        "# end_timestamp = int(datetime.now().timestamp())  # Current time in Unix timestamp\n",
        "end_timestamp = int(datetime.strptime(end_readable_date, \"%d-%m-%Y %H:%M:%S\").timestamp())\n",
        "print(end_timestamp)\n",
        "# Filter data berdasarkan rentang waktu dengan validasi kunci\n",
        "filtered_data = {\n",
        "    key: value\n",
        "    for key, value in source_data.items()\n",
        "    if key.isdigit() and start_timestamp <= int(key) <= end_timestamp\n",
        "}"
      ]
    },
    {
      "cell_type": "code",
      "execution_count": 6,
      "metadata": {
        "cell_id": "c64acd6dd5e74c6a85c3999de8975d6a",
        "deepnote_cell_type": "code",
        "execution_context_id": "6d3da842-344c-4dc1-9204-46968ccf545a",
        "execution_millis": 138,
        "execution_start": 1744182942524,
        "source_hash": "10beb08b"
      },
      "outputs": [],
      "source": [
        "# Konfigurasi database tujuan\n",
        "dest_cred = credentials.Certificate(\"/work/staklimjerukagung-firebase-admin.json\")\n",
        "dest_app = firebase_admin.initialize_app(dest_cred, {\n",
        "    'databaseURL': 'https://staklimjerukagung-default-rtdb.asia-southeast1.firebasedatabase.app/'\n",
        "}, name='destination')"
      ]
    },
    {
      "cell_type": "code",
      "execution_count": 7,
      "metadata": {
        "cell_id": "c6363488561240b6aab9fba034859134",
        "deepnote_cell_type": "code",
        "execution_context_id": "6d3da842-344c-4dc1-9204-46968ccf545a",
        "execution_millis": 0,
        "execution_start": 1744182942714,
        "source_hash": "abd6cfd"
      },
      "outputs": [],
      "source": [
        "# Referensi ke data tujuan\n",
        "dest_ref = db.reference('/auto_weather_stat/id-03/data', app=dest_app)"
      ]
    },
    {
      "cell_type": "code",
      "execution_count": 8,
      "metadata": {
        "cell_id": "01e1ca64957145bf8d711255e0f39988",
        "deepnote_cell_type": "code",
        "execution_context_id": "6d3da842-344c-4dc1-9204-46968ccf545a",
        "execution_millis": 1838,
        "execution_start": 1744182942774,
        "source_hash": "ac55fc9b"
      },
      "outputs": [],
      "source": [
        "# Memindahkan data yang telah difilter ke database tujuan\n",
        "if filtered_data:\n",
        "    dest_ref.update(filtered_data)\n",
        "    print(\"Data berhasil dipindahkan ke /auto_weather_stat/id-03 di database tujuan.\")\n",
        "else:\n",
        "    print(\"Tidak ada data dalam rentang waktu yang ditentukan.\")"
      ]
    },
    {
      "cell_type": "markdown",
      "metadata": {
        "created_in_deepnote_cell": true,
        "deepnote_cell_type": "markdown"
      },
      "source": [
        "<a style='text-decoration:none;line-height:16px;display:flex;color:#5B5B62;padding:10px;justify-content:end;' href='https://deepnote.com?utm_source=created-in-deepnote-cell&projectId=200afad5-8991-4e20-8a55-8751c7aff3b5' target=\"_blank\">\n",
        "<img alt='Created in deepnote.com' style='display:inline;max-height:16px;margin:0px;margin-right:7.5px;' src='data:image/svg+xml;base64,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' > </img>\n",
        "Created in <span style='font-weight:600;margin-left:4px;'>Deepnote</span></a>"
      ]
    }
  ],
  "metadata": {
    "deepnote_notebook_id": "6fb4bd078c5f4d19930805c5d4bdafc2",
    "deepnote_persisted_session": {
      "createdAt": "2025-04-08T19:31:22.843Z"
    },
    "kernelspec": {
      "display_name": "panel",
      "language": "python",
      "name": "python3"
    },
    "language_info": {
      "codemirror_mode": {
        "name": "ipython",
        "version": 3
      },
      "file_extension": ".py",
      "mimetype": "text/x-python",
      "name": "python",
      "nbconvert_exporter": "python",
      "pygments_lexer": "ipython3",
      "version": "3.13.2"
    }
  },
  "nbformat": 4,
  "nbformat_minor": 0
}
