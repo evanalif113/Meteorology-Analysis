{
  "cells": [
    {
      "cell_type": "markdown",
      "metadata": {
        "formattedRanges": [],
        "cell_id": "1ee6632cf54347da8426fb9b598c3ca5",
        "deepnote_cell_type": "text-cell-p"
      },
      "source": "",
      "block_group": "7bf378cdb94f49339a6250ac6d783984"
    },
    {
      "cell_type": "code",
      "metadata": {
        "source_hash": "5bc33d65",
        "execution_start": 1732030221119,
        "execution_millis": 3630,
        "execution_context_id": "7c40cd57-a012-4b20-b236-31be83374999",
        "deepnote_app_block_visible": true,
        "cell_id": "b81aae0d985341869ca58aa70ebb6a1b",
        "deepnote_cell_type": "code"
      },
      "source": "!pip install missingno\nimport os\nimport numpy as np\nimport pandas as pd\nimport matplotlib.pyplot as plt\nimport matplotlib.dates as mdates\nimport matplotlib.animation as animation\nimport datetime\nimport seaborn as sns\nimport missingno as msno\nsns.set_theme(style=\"whitegrid\")\n%matplotlib inline ",
      "block_group": "fbd610535b7c4fa59e3ea2d1b78c825b",
      "execution_count": 1,
      "outputs": [],
      "outputs_reference": null,
      "content_dependencies": null
    },
    {
      "cell_type": "code",
      "metadata": {
        "source_hash": "7138b126",
        "execution_start": 1732030224803,
        "execution_millis": 13166,
        "execution_context_id": "7c40cd57-a012-4b20-b236-31be83374999",
        "deepnote_app_block_visible": true,
        "cell_id": "c160560a0daf422dbad3f79f29e8557e",
        "deepnote_cell_type": "code"
      },
      "source": "cuaca = pd.read_json(\"https://database-sensor-iklim-litbang-default-rtdb.asia-southeast1.firebasedatabase.app/auto_weather_stat/id-02/data.json\")\n#geomagnetik = pd.read_json(\"https://staklimjerukagung-default-rtdb.asia-southeast1.firebasedatabase.app/geomagnetic_stat/id-01/data.json\")",
      "block_group": "2403a116062545dcaba4ebf76a48d39b",
      "execution_count": 2,
      "outputs": [],
      "outputs_reference": null,
      "content_dependencies": null
    },
    {
      "cell_type": "code",
      "metadata": {
        "source_hash": "28b00b28",
        "execution_start": 1732030238023,
        "execution_millis": 1,
        "execution_context_id": "5253aea3-7312-495b-8a15-ede2fe226ecb",
        "deepnote_app_block_visible": true,
        "cell_id": "23e0ec79642b4859b6479cd23b21b8d8",
        "deepnote_cell_type": "code"
      },
      "source": "cuacaT=cuaca.transpose()\ncuacaT.tail(10)",
      "block_group": "9eaef3b64382497991a088a02fb5cb12",
      "execution_count": 3,
      "outputs": [],
      "outputs_reference": null,
      "content_dependencies": null
    },
    {
      "cell_type": "code",
      "metadata": {
        "source_hash": "268dd9c1",
        "execution_start": 1732030238071,
        "execution_millis": 2,
        "execution_context_id": "5253aea3-7312-495b-8a15-ede2fe226ecb",
        "deepnote_app_block_visible": true,
        "cell_id": "e0a68b5e497e49a98fcd659c518f37b2",
        "deepnote_cell_type": "code"
      },
      "source": "cuacaT.describe()",
      "block_group": "1885e97fc9cc408b9c8ca9036093cf77",
      "execution_count": 4,
      "outputs": [],
      "outputs_reference": null,
      "content_dependencies": null
    },
    {
      "cell_type": "code",
      "metadata": {
        "source_hash": "d8b7005c",
        "execution_start": 1732030238123,
        "execution_millis": 1,
        "execution_context_id": "5253aea3-7312-495b-8a15-ede2fe226ecb",
        "deepnote_app_block_visible": true,
        "cell_id": "5514e5331adf45c2bf0774083959129c",
        "deepnote_cell_type": "code"
      },
      "source": "cuacaT['timestamp']= cuacaT['timestamp'].astype(int)\ncuacaT.tail(10)",
      "block_group": "ed034989752c460aaf8b5e74dc4b6046",
      "execution_count": 5,
      "outputs": [],
      "outputs_reference": null,
      "content_dependencies": null
    },
    {
      "cell_type": "code",
      "metadata": {
        "source_hash": "34630247",
        "execution_start": 1732030238175,
        "execution_millis": 2,
        "execution_context_id": "5253aea3-7312-495b-8a15-ede2fe226ecb",
        "deepnote_app_block_visible": true,
        "cell_id": "2af2107ca57545c59b0ae8138da9d4b6",
        "deepnote_cell_type": "code"
      },
      "source": "# Menampilkan 10 data terakhir\ncuacaT.head(10)",
      "block_group": "ec28e105a6d045d4bb298d6a62b9e5c2",
      "execution_count": 6,
      "outputs": [],
      "outputs_reference": null,
      "content_dependencies": null
    },
    {
      "cell_type": "code",
      "metadata": {
        "source_hash": "707ed8a",
        "execution_start": 1732030238227,
        "execution_millis": 2,
        "deepnote_table_state": {
          "sortBy": [],
          "filters": [],
          "pageSize": 100,
          "pageIndex": 0,
          "conditionalFilters": [],
          "wrappedTextColumnIds": []
        },
        "execution_context_id": "5253aea3-7312-495b-8a15-ede2fe226ecb",
        "deepnote_table_loading": false,
        "deepnote_app_block_visible": true,
        "cell_id": "5a6146939617448ebcc71d407ec4e867",
        "deepnote_cell_type": "code"
      },
      "source": "cuacaT.tail(10)",
      "block_group": "5599e043a26b4aa48af3a6b5a2cdf843",
      "execution_count": 7,
      "outputs": [],
      "outputs_reference": null,
      "content_dependencies": null
    },
    {
      "cell_type": "code",
      "metadata": {
        "source_hash": "d0767f96",
        "execution_start": 1732030238279,
        "execution_millis": 1,
        "execution_context_id": "5253aea3-7312-495b-8a15-ede2fe226ecb",
        "deepnote_app_block_visible": true,
        "cell_id": "7a4ea72d84d142c288357e8cae3bfa1b",
        "deepnote_cell_type": "code"
      },
      "source": "# Tentukan batas bawah dan batas atas waktu yang wajar dalam format UNIX\nstart_timestamp = pd.Timestamp('2020-01-01').timestamp()  # UNIX time untuk 1 Januari 2020\nend_timestamp = pd.Timestamp.now().timestamp()  # UNIX time saat ini\n\n# Hapus data dengan timestamp di luar rentang waktu yang wajar\ncuacaT = cuacaT[(cuacaT['timestamp'] >= start_timestamp) & (cuacaT['timestamp'] <= end_timestamp)]",
      "block_group": "4136bc8e69694b86871605f03dc55d06",
      "execution_count": 8,
      "outputs": [],
      "outputs_reference": null,
      "content_dependencies": null
    },
    {
      "cell_type": "code",
      "metadata": {
        "source_hash": "b41d3a28",
        "execution_start": 1732030238335,
        "execution_millis": 0,
        "execution_context_id": "5253aea3-7312-495b-8a15-ede2fe226ecb",
        "deepnote_app_block_visible": true,
        "cell_id": "20edcf6de12b4799bd2fa7524987c54f",
        "deepnote_cell_type": "code"
      },
      "source": "# Konversi timestamp ke datetime dalam format UTC\ncuacaT['timestamp'] = pd.to_datetime(cuacaT['timestamp'], unit='s', utc=True)\n\n# Mengonversi ke zona waktu WIB (Asia/Jakarta)\ncuacaT['timestamp'] = cuacaT['timestamp'].dt.tz_convert('Asia/Jakarta')",
      "block_group": "b5680ce8b7fb4fb2b536ba261a9705d2",
      "execution_count": 9,
      "outputs": [],
      "outputs_reference": null,
      "content_dependencies": null
    },
    {
      "cell_type": "code",
      "metadata": {
        "source_hash": "66cf00b0",
        "execution_start": 1732030238387,
        "execution_millis": 620,
        "execution_context_id": "31eaf9cf-2e81-439e-967f-37f61dcead6b",
        "deepnote_app_block_visible": true,
        "cell_id": "85ed70155ad541cb9d4810963d85fbe4",
        "deepnote_cell_type": "code"
      },
      "source": "\n# Mengelompokkan data berdasarkan hari\ncuacaT['date'] = cuacaT['timestamp'].dt.date\ndata_per_day = cuacaT.groupby('date').size().reset_index(name='count')\n\n# Visualisasi jumlah data per hari\nplt.figure(figsize=(15, 7))\nplt.plot(data_per_day['date'], data_per_day['count'], marker='o', linestyle='-')\nplt.axhline(y=1440, color='r', linestyle='--', label='Expected Data Count (1440)')\nplt.xlabel('Tanggal')\nplt.ylabel('Jumlah Data')\nplt.title('Jumlah Data per Hari (1440 diharapkan)')\nplt.xticks(rotation=45)\nplt.grid(True)\nplt.legend()\nplt.tight_layout()\nplt.show()\n\n# Menampilkan hari-hari yang tidak memenuhi 1440 data\ndays_with_missing_data = data_per_day[data_per_day['count'] != 1440]\nprint(\"Hari dengan jumlah data yang kurang dari 1440:\")\nprint(days_with_missing_data)",
      "block_group": "e3b86a35773f41e8aae712bc7bbb4438",
      "execution_count": 10,
      "outputs": [],
      "outputs_reference": null,
      "content_dependencies": null
    },
    {
      "cell_type": "code",
      "metadata": {
        "source_hash": "6952ca37",
        "execution_start": 1732030239055,
        "execution_millis": 1,
        "execution_context_id": "5253aea3-7312-495b-8a15-ede2fe226ecb",
        "deepnote_app_block_visible": true,
        "cell_id": "0dac854b40ec4308b91120e584f0a53f",
        "deepnote_cell_type": "code"
      },
      "source": "cuacaT.tail(10)",
      "block_group": "808f0087166342de86addaa0e30a5b31",
      "execution_count": 11,
      "outputs": [],
      "outputs_reference": null,
      "content_dependencies": null
    },
    {
      "cell_type": "code",
      "metadata": {
        "source_hash": "86bf466",
        "execution_start": 1732030239107,
        "execution_millis": 684,
        "execution_context_id": "7c40cd57-a012-4b20-b236-31be83374999",
        "deepnote_app_block_visible": true,
        "cell_id": "5f77fd7aca114a40a8806361ddbf2b6a",
        "deepnote_cell_type": "code"
      },
      "source": "# Simpan DataFrame 'cuacaT' ke file CSV bernama 'Cuaca.csv'\ncuacaT.to_csv(\n#cuacaT.tail(43200).to_csv(\n    'cuaca.csv', \n    sep=',',\n    index=False,\n    index_label='timestamp'\n)",
      "block_group": "2cb19a07ce164b48ad80608ac6639ec6",
      "execution_count": 12,
      "outputs": [],
      "outputs_reference": null,
      "content_dependencies": null
    },
    {
      "cell_type": "code",
      "metadata": {
        "source_hash": "271d66ab",
        "execution_start": 1732030239839,
        "execution_millis": 98,
        "execution_context_id": "6d9d0ee0-d1bb-4c10-baa1-d5552add82a0",
        "deepnote_app_block_visible": true,
        "cell_id": "aaa1637b78bd4bbe8079a10f12666896",
        "deepnote_cell_type": "code"
      },
      "source": "datacuaca = pd.read_csv(\"/work/cuaca.csv\")",
      "block_group": "2358a2ec3719484f9ad3fe6b0510a84f",
      "execution_count": 13,
      "outputs": [],
      "outputs_reference": null,
      "content_dependencies": null
    },
    {
      "cell_type": "code",
      "metadata": {
        "source_hash": "64530a0a",
        "execution_start": 1732030239987,
        "execution_millis": 1,
        "execution_context_id": "6d9d0ee0-d1bb-4c10-baa1-d5552add82a0",
        "deepnote_app_block_visible": true,
        "cell_id": "aac336c41c944f1ea66facde438edc80",
        "deepnote_cell_type": "code"
      },
      "source": "datacuaca",
      "block_group": "fc3e0fd7f1794be38960e880b7af7d4f",
      "execution_count": 14,
      "outputs": [],
      "outputs_reference": null,
      "content_dependencies": null
    },
    {
      "cell_type": "code",
      "metadata": {
        "source_hash": "4959359",
        "execution_start": 1732030240043,
        "execution_millis": 350,
        "execution_context_id": "5253aea3-7312-495b-8a15-ede2fe226ecb",
        "deepnote_app_block_visible": true,
        "cell_id": "88caa18746d44a3babbbfdefad30adf4",
        "deepnote_cell_type": "code"
      },
      "source": "# Mengubah kolom 'timestamp' menjadi datetime\ndatacuaca['timestamp'] = pd.to_datetime(datacuaca['timestamp'])\n\n# Mengurutkan data berdasarkan 'timestamp'\ndatacuaca = datacuaca.sort_values(by='timestamp')\n\n# Menambahkan kolom 'hour', 'minute', 'day', 'month', dan 'year' dari 'timestamp'\ndatacuaca['hour'] = datacuaca['timestamp'].dt.hour\ndatacuaca['minute'] = datacuaca['timestamp'].dt.minute\ndatacuaca['day'] = datacuaca['timestamp'].dt.day\ndatacuaca['month'] = datacuaca['timestamp'].dt.month\ndatacuaca['year'] = datacuaca['timestamp'].dt.year\n\n# Menghapus data yang memiliki nilai kurang dari 0 pada kolom tertentu (misalnya suhu, kelembapan, tekanan, dll)\n# Gantilah nama kolom sesuai dengan nama kolom pada DataFrame Anda\ndatacuaca = datacuaca[(datacuaca['temperature'] >= 10) & \n                      (datacuaca['humidity'] >= 0) & \n                      (datacuaca['pressure'] >= 1000) & \n                      (datacuaca['dew'] >= 10) &\n                      (datacuaca['volt'] >= 0)]\n\n# Tampilkan hasil\nprint(datacuaca.head())",
      "block_group": "e9a82bbd4c87456ab46384121eca6cad",
      "execution_count": 15,
      "outputs": [],
      "outputs_reference": null,
      "content_dependencies": null
    },
    {
      "cell_type": "code",
      "metadata": {
        "source_hash": "26b3198d",
        "execution_start": 1732030240447,
        "execution_millis": 290,
        "execution_context_id": "7c40cd57-a012-4b20-b236-31be83374999",
        "deepnote_app_block_visible": true,
        "cell_id": "cbc83ac30aeb42f58625f255266dfc8c",
        "deepnote_cell_type": "code"
      },
      "source": "# Mengelompokkan data berdasarkan 'month' dan 'day', menghitung rata-rata suhu\ndatacuaca_grouped = datacuaca.groupby(['month', 'day']).agg({'temperature': 'mean'}).reset_index()\n\n# Pivot dataframe untuk membuat format yang sesuai dengan heatmap (sumbu X: hari, sumbu Y: bulan)\ntemperature_pivot = datacuaca_grouped.pivot(index='month', columns='day', values='temperature')\n\n# Visualisasi heatmap menggunakan seaborn\nsns.set_theme()\n\n# Mengatur ukuran grafik\nf, ax = plt.subplots(figsize=(20, 10))\n\n# Membuat heatmap dengan anotasi nilai di setiap sel\nsns.heatmap(temperature_pivot, annot=True, fmt=\".1f\", linewidths=.5, ax=ax, cmap=\"coolwarm\")\n\n# Memberi label pada sumbu\nax.set_xlabel('Day (UTC+7)')\nax.set_ylabel('Month')\n\n# Menampilkan heatmap\nplt.show()\n",
      "block_group": "67f84552c3704ee68dc3771b0289eb4f",
      "execution_count": 16,
      "outputs": [],
      "outputs_reference": null,
      "content_dependencies": null
    },
    {
      "cell_type": "code",
      "metadata": {
        "source_hash": "7224315d",
        "execution_start": 1732030240787,
        "execution_millis": 394,
        "execution_context_id": "7c40cd57-a012-4b20-b236-31be83374999",
        "deepnote_app_block_visible": true,
        "cell_id": "2ac977017b0e4de7b071ee9c5cc9c8a9",
        "deepnote_cell_type": "code"
      },
      "source": "# Mengonversi kolom 'timestamp' menjadi datetime jika belum\ndatacuaca['timestamp'] = pd.to_datetime(datacuaca['timestamp'])\n\nmonth_names = ['January', 'February', 'March', 'April', 'May', 'June', 'July', 'August', 'September','October', 'November', 'December']\n\n# Menentukan rentang bulan dari Januari hingga September\nmonths = range(1, 12)  # Bulan 1 hingga 9\n\n# Mengatur ukuran grafik untuk menampung semua heatmap\nfig, axs = plt.subplots(4, 3, figsize=(60, 45))\naxs = axs.flatten()  # Meratakan array subplot untuk iterasi yang lebih mudah\n\n# Looping untuk setiap bulan\nfor month in months:\n    # Filter data untuk bulan tertentu\n    monthly_data = datacuaca[(datacuaca['timestamp'].dt.year == 2024) & (datacuaca['timestamp'].dt.month == month)]\n\n    # Mengurutkan data berdasarkan 'timestamp'\n    monthly_data = monthly_data.sort_values(by='timestamp')\n\n    # Menambahkan kolom 'day' dan 'hour' dari 'timestamp'\n    monthly_data['day'] = monthly_data['timestamp'].dt.day\n    monthly_data['hour'] = monthly_data['timestamp'].dt.hour\n\n    # Mengelompokkan data berdasarkan 'day' dan 'hour', dan menghitung rata-rata suhu\n    datacuaca_grouped = monthly_data.groupby(['day', 'hour']).agg({'temperature': 'mean'}).reset_index()\n\n    # Pivot dataframe untuk membuat format yang sesuai dengan heatmap\n    temperature_pivot = datacuaca_grouped.pivot(index='day', columns='hour', values='temperature')\n\n    # Membuat heatmap untuk bulan tersebut\n    sns.heatmap(temperature_pivot, annot=True, fmt=\".1f\", linewidths=.5, ax=axs[month-1], cmap=\"coolwarm\")\n    \n    # Memberi judul pada heatmap\n    axs[month-1].set_title(f'Temperature Heatmap for {month_names[month-1]} 2024')\n    axs[month-1].set_xlabel('Hour of Day (UTC+7)')\n    axs[month-1].set_ylabel('Day of Month')\n\n# Mengatur layout\nplt.tight_layout()\n\n# Menampilkan heatmaps\nplt.savefig(\"Heatmap_month.jpg\")\nplt.show()\n\n",
      "block_group": "d715860289c146f185380d4d53546fa7",
      "execution_count": 17,
      "outputs": [],
      "outputs_reference": null,
      "content_dependencies": null
    },
    {
      "cell_type": "code",
      "metadata": {
        "source_hash": "6302bceb",
        "execution_start": 1731557701659,
        "execution_millis": 0,
        "execution_context_id": "6d9d0ee0-d1bb-4c10-baa1-d5552add82a0",
        "deepnote_to_be_reexecuted": true,
        "deepnote_app_block_visible": true,
        "cell_id": "678316bbd0824aa2a89f089afc9f3d3b",
        "deepnote_cell_type": "code"
      },
      "source": "pilih_tahun = 2024\npilih_bulan = 11",
      "block_group": "a6cb7f1ea7a5452ca0bf83153e81e8ee",
      "execution_count": 18,
      "outputs": [],
      "outputs_reference": null,
      "content_dependencies": null
    },
    {
      "cell_type": "code",
      "metadata": {
        "source_hash": "5e533095",
        "execution_start": 1731557701710,
        "execution_millis": 1435,
        "execution_context_id": "6d9d0ee0-d1bb-4c10-baa1-d5552add82a0",
        "deepnote_to_be_reexecuted": true,
        "deepnote_app_block_visible": true,
        "cell_id": "f2fe299aefe24ca997368551dc7718a0",
        "deepnote_cell_type": "code"
      },
      "source": "# Mengonversi kolom 'timestamp' menjadi datetime jika belum\ndatacuaca['timestamp'] = pd.to_datetime(datacuaca['timestamp'])\n\n# Filter data untuk bulan Tertentu\ndatacuaca_month = datacuaca[(datacuaca['timestamp'].dt.year == pilih_tahun) & (datacuaca['timestamp'].dt.month == pilih_bulan)]\n\n# Mengurutkan data berdasarkan 'timestamp'\ndatacuaca_month = datacuaca_month.sort_values(by='timestamp')\n\n# Menambahkan kolom 'day' dan 'hour' dari 'timestamp'\ndatacuaca_month['day'] = datacuaca_month['timestamp'].dt.day\ndatacuaca_month['hour'] = datacuaca_month['timestamp'].dt.hour\n\n# Mengelompokkan data berdasarkan 'day' dan 'hour', dan menghitung rata-rata suhu\ndatacuaca_grouped = datacuaca_month.groupby(['day', 'hour']).agg({'temperature': 'mean'}).reset_index()\n\n# Pivot dataframe untuk membuat format yang sesuai dengan heatmap\ntemperature_pivot = datacuaca_grouped.pivot(index='day', columns='hour', values='temperature')\n\n# Visualisasi heatmap menggunakan seaborn\nsns.set_theme()\n\n# Mengatur ukuran grafik\nf, ax = plt.subplots(figsize=(24, 16))\n\n# Membuat heatmap dengan anotasi nilai di setiap sel\nsns.heatmap(temperature_pivot, annot=True, fmt=\".1f\", linewidths=.5, ax=ax, cmap=\"coolwarm\")\n\n# Memberi label pada sumbu\nax.set_xlabel('Hour of Day (UTC+7)')\nax.set_ylabel('Day of Month')\n\n# Menampilkan heatmap\nplt.savefig(\"Temp_month.jpg\")\nplt.show()\n\n",
      "block_group": "862580fe9dc0478ca4eb139c6e5641e4",
      "execution_count": 19,
      "outputs": [],
      "outputs_reference": null,
      "content_dependencies": null
    },
    {
      "cell_type": "code",
      "metadata": {
        "source_hash": "b409fb2e",
        "execution_start": 1731557703198,
        "execution_millis": 784,
        "execution_context_id": "6d9d0ee0-d1bb-4c10-baa1-d5552add82a0",
        "deepnote_to_be_reexecuted": true,
        "deepnote_app_block_visible": true,
        "cell_id": "ccb124a7114c4b278b33bebd032a6147",
        "deepnote_cell_type": "code"
      },
      "source": "# Mengonversi kolom 'timestamp' menjadi datetime jika belum\ndatacuaca['timestamp'] = pd.to_datetime(datacuaca['timestamp'])\n\n# Filter data untuk bulan Tertentu\ndatacuaca_month = datacuaca[(datacuaca['timestamp'].dt.year == pilih_tahun) & (datacuaca['timestamp'].dt.month == pilih_bulan)]\n\n# Mengurutkan data berdasarkan 'timestamp'\ndatacuaca_month = datacuaca_month.sort_values(by='timestamp')\n\n# Menambahkan kolom 'day' dan 'hour' dari 'timestamp'\ndatacuaca_month['day'] = datacuaca_month['timestamp'].dt.day\ndatacuaca_month['hour'] = datacuaca_month['timestamp'].dt.hour\n\n# Mengelompokkan data berdasarkan 'day' dan 'hour', dan menghitung rata-rata suhu\ndatacuaca_grouped = datacuaca_month.groupby(['day', 'hour']).agg({'humidity': 'mean'}).reset_index()\n\n# Pivot dataframe untuk membuat format yang sesuai dengan heatmap\nhumidity_pivot = datacuaca_grouped.pivot(index='day', columns='hour', values='humidity')\n\n# Visualisasi heatmap menggunakan seaborn\nsns.set_theme()\n\n# Mengatur ukuran grafik\nf, ax = plt.subplots(figsize=(24, 16))\n\n# Membuat heatmap dengan anotasi nilai di setiap sel\nsns.heatmap(humidity_pivot, annot=True, fmt=\".1f\", linewidths=.5, ax=ax, cmap=\"Blues\")\n\n# Memberi label pada sumbu\nax.set_xlabel('Hour of Day (UTC+7)')\nax.set_ylabel('Day of Month')\n\n# Menampilkan heatmap\nplt.show()",
      "block_group": "9da1baf05d90442fbe18ecce6e1ecc67",
      "execution_count": 20,
      "outputs": [],
      "outputs_reference": null,
      "content_dependencies": null
    },
    {
      "cell_type": "code",
      "metadata": {
        "source_hash": "f802a86e",
        "execution_start": 1731557704026,
        "execution_millis": 235,
        "execution_context_id": "6d9d0ee0-d1bb-4c10-baa1-d5552add82a0",
        "deepnote_to_be_reexecuted": true,
        "deepnote_app_block_visible": true,
        "cell_id": "d3b58d89a33b4854adfd5f8eab66c633",
        "deepnote_cell_type": "code"
      },
      "source": "# Mengonversi kolom 'timestamp' menjadi datetime jika belum\ndatacuaca['timestamp'] = pd.to_datetime(datacuaca['timestamp'])\n\n# Filter data untuk bulan Tertentu\ndatacuaca_month = datacuaca[(datacuaca['timestamp'].dt.year == pilih_tahun) & (datacuaca['timestamp'].dt.month == pilih_bulan)]\n\n# Mengurutkan data berdasarkan 'timestamp'\ndatacuaca_month = datacuaca_month.sort_values(by='timestamp')\n\n# Menambahkan kolom 'day' dan 'hour' dari 'timestamp'\ndatacuaca_month['day'] = datacuaca_month['timestamp'].dt.day\ndatacuaca_month['hour'] = datacuaca_month['timestamp'].dt.hour\n\n# Mengelompokkan data berdasarkan 'day' dan 'hour', dan menghitung rata-rata suhu\ndatacuaca_grouped = datacuaca_month.groupby(['day', 'hour']).agg({'pressure': 'mean'}).reset_index()\n\n# Pivot dataframe untuk membuat format yang sesuai dengan heatmap\npressure_pivot = datacuaca_grouped.pivot(index='day', columns='hour', values='pressure')\n\n# Visualisasi heatmap menggunakan seaborn\nsns.set_theme()\n\n# Mengatur ukuran grafik\nf, ax = plt.subplots(figsize=(24, 16))\n\n# Membuat heatmap dengan anotasi nilai di setiap sel\nsns.heatmap(pressure_pivot, annot=True, fmt=\".1f\", linewidths=.5, ax=ax, cmap=\"viridis\")\n\n# Memberi label pada sumbu\nax.set_xlabel('Hour of Day (UTC+7)')\nax.set_ylabel('Day of Month')\n\n# Menampilkan heatmap",
      "block_group": "b1491c12f1444c8a914fc3fbc3a86615",
      "execution_count": 21,
      "outputs": [],
      "outputs_reference": null,
      "content_dependencies": null
    },
    {
      "cell_type": "code",
      "metadata": {
        "source_hash": "4f0d213c",
        "execution_start": 1731557705039,
        "execution_millis": 287,
        "execution_context_id": "6d9d0ee0-d1bb-4c10-baa1-d5552add82a0",
        "deepnote_to_be_reexecuted": true,
        "deepnote_app_block_visible": true,
        "cell_id": "49ca7217fc3c4ed6a83cbce6dbccdc3e",
        "deepnote_cell_type": "code"
      },
      "source": "# Mengonversi kolom 'timestamp' menjadi datetime jika belum\ndatacuaca['timestamp'] = pd.to_datetime(datacuaca['timestamp'])\n\n# Filter data untuk bulan Tertentu\ndatacuaca_month = datacuaca[(datacuaca['timestamp'].dt.year == pilih_tahun) & (datacuaca['timestamp'].dt.month == pilih_bulan)]\n\n# Mengurutkan data berdasarkan 'timestamp'\ndatacuaca_month = datacuaca_month.sort_values(by='timestamp')\n\n# Menambahkan kolom 'day' dan 'hour' dari 'timestamp'\ndatacuaca_month['day'] = datacuaca_month['timestamp'].dt.day\ndatacuaca_month['hour'] = datacuaca_month['timestamp'].dt.hour\n\n# Mengelompokkan data berdasarkan 'day' dan 'hour', dan menghitung rata-rata suhu\ndatacuaca_grouped = datacuaca_month.groupby(['day', 'hour']).agg({'dew': 'mean'}).reset_index()\n\n# Pivot dataframe untuk membuat format yang sesuai dengan heatmap\ndew_pivot = datacuaca_grouped.pivot(index='day', columns='hour', values='dew')\n\n# Visualisasi heatmap menggunakan seaborn\nsns.set_theme()\n\n# Mengatur ukuran grafik\nf, ax = plt.subplots(figsize=(24, 16))\n\n# Membuat heatmap dengan anotasi nilai di setiap sel\nsns.heatmap(dew_pivot, annot=True, fmt=\".1f\", linewidths=.5, ax=ax, cmap=\"coolwarm\")\n\n# Memberi label pada sumbu\nax.set_xlabel('Hour of Day (UTC+7)')\nax.set_ylabel('Day of Month')\n\n# Menampilkan heatmap",
      "block_group": "36cd5e19cbfc46bc9cc4dc154670b0c9",
      "execution_count": 22,
      "outputs": [],
      "outputs_reference": null,
      "content_dependencies": null
    },
    {
      "cell_type": "markdown",
      "source": "<a style='text-decoration:none;line-height:16px;display:flex;color:#5B5B62;padding:10px;justify-content:end;' href='https://deepnote.com?utm_source=created-in-deepnote-cell&projectId=200afad5-8991-4e20-8a55-8751c7aff3b5' target=\"_blank\">\n<img alt='Created in deepnote.com' style='display:inline;max-height:16px;margin:0px;margin-right:7.5px;' src='data:image/svg+xml;base64,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' > </img>\nCreated in <span style='font-weight:600;margin-left:4px;'>Deepnote</span></a>",
      "metadata": {
        "created_in_deepnote_cell": true,
        "deepnote_cell_type": "markdown"
      }
    }
  ],
  "nbformat": 4,
  "nbformat_minor": 0,
  "metadata": {
    "deepnote_persisted_session": {
      "createdAt": "2024-11-18T10:20:19.641Z"
    },
    "deepnote_app_layout": "powerful-article",
    "deepnote_app_reactivity_enabled": true,
    "deepnote_app_run_on_load_enabled": true,
    "deepnote_notebook_id": "ede4852b83f449199ffb2b4fe4be281e"
  }
}