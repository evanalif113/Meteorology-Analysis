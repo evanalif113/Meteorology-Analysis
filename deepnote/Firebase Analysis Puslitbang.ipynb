{
  "cells": [
    {
      "cell_type": "markdown",
      "metadata": {
        "cell_id": "1ee6632cf54347da8426fb9b598c3ca5",
        "deepnote_cell_type": "text-cell-p",
        "formattedRanges": []
      },
      "source": []
    },
    {
      "cell_type": "code",
      "execution_count": 1,
      "metadata": {
        "cell_id": "b81aae0d985341869ca58aa70ebb6a1b",
        "deepnote_app_block_visible": true,
        "deepnote_cell_type": "code",
        "execution_context_id": "7c40cd57-a012-4b20-b236-31be83374999",
        "execution_millis": 3630,
        "execution_start": 1732030221119,
        "source_hash": "5bc33d65"
      },
      "outputs": [],
      "source": [
        "import os\n",
        "import numpy as np\n",
        "import pandas as pd\n",
        "import matplotlib.pyplot as plt\n",
        "import matplotlib.dates as mdates\n",
        "import matplotlib.animation as animation\n",
        "import datetime\n",
        "import seaborn as sns\n",
        "import missingno as msno\n",
        "sns.set_theme(style=\"whitegrid\")\n",
        "%matplotlib inline "
      ]
    },
    {
      "cell_type": "code",
      "execution_count": null,
      "metadata": {
        "cell_id": "c160560a0daf422dbad3f79f29e8557e",
        "deepnote_app_block_visible": true,
        "deepnote_cell_type": "code",
        "execution_context_id": "7c40cd57-a012-4b20-b236-31be83374999",
        "execution_millis": 13166,
        "execution_start": 1732030224803,
        "source_hash": "7138b126"
      },
      "outputs": [],
      "source": [
        "cuaca = pd.read_json(\"https://database-sensor-iklim-litbang-default-rtdb.asia-southeast1.firebasedatabase.app/auto_weather_stat/id-02/data.json\")"
      ]
    },
    {
      "cell_type": "code",
      "execution_count": 3,
      "metadata": {
        "cell_id": "23e0ec79642b4859b6479cd23b21b8d8",
        "deepnote_app_block_visible": true,
        "deepnote_cell_type": "code",
        "execution_context_id": "5253aea3-7312-495b-8a15-ede2fe226ecb",
        "execution_millis": 1,
        "execution_start": 1732030238023,
        "source_hash": "28b00b28"
      },
      "outputs": [],
      "source": [
        "cuacaT=cuaca.transpose()\n",
        "cuacaT.tail(10)"
      ]
    },
    {
      "cell_type": "code",
      "execution_count": 4,
      "metadata": {
        "cell_id": "e0a68b5e497e49a98fcd659c518f37b2",
        "deepnote_app_block_visible": true,
        "deepnote_cell_type": "code",
        "execution_context_id": "5253aea3-7312-495b-8a15-ede2fe226ecb",
        "execution_millis": 2,
        "execution_start": 1732030238071,
        "source_hash": "268dd9c1"
      },
      "outputs": [],
      "source": [
        "cuacaT.describe()"
      ]
    },
    {
      "cell_type": "code",
      "execution_count": 5,
      "metadata": {
        "cell_id": "5514e5331adf45c2bf0774083959129c",
        "deepnote_app_block_visible": true,
        "deepnote_cell_type": "code",
        "execution_context_id": "5253aea3-7312-495b-8a15-ede2fe226ecb",
        "execution_millis": 1,
        "execution_start": 1732030238123,
        "source_hash": "d8b7005c"
      },
      "outputs": [],
      "source": [
        "cuacaT['timestamp']= cuacaT['timestamp'].astype(int)\n",
        "cuacaT.tail(10)"
      ]
    },
    {
      "cell_type": "code",
      "execution_count": 6,
      "metadata": {
        "cell_id": "2af2107ca57545c59b0ae8138da9d4b6",
        "deepnote_app_block_visible": true,
        "deepnote_cell_type": "code",
        "execution_context_id": "5253aea3-7312-495b-8a15-ede2fe226ecb",
        "execution_millis": 2,
        "execution_start": 1732030238175,
        "source_hash": "34630247"
      },
      "outputs": [],
      "source": [
        "# Menampilkan 10 data terakhir\n",
        "cuacaT.head(10)"
      ]
    },
    {
      "cell_type": "code",
      "execution_count": 7,
      "metadata": {
        "cell_id": "5a6146939617448ebcc71d407ec4e867",
        "deepnote_app_block_visible": true,
        "deepnote_cell_type": "code",
        "deepnote_table_loading": false,
        "deepnote_table_state": {
          "conditionalFilters": [],
          "filters": [],
          "pageIndex": 0,
          "pageSize": 100,
          "sortBy": [],
          "wrappedTextColumnIds": []
        },
        "execution_context_id": "5253aea3-7312-495b-8a15-ede2fe226ecb",
        "execution_millis": 2,
        "execution_start": 1732030238227,
        "source_hash": "707ed8a"
      },
      "outputs": [],
      "source": [
        "cuacaT.tail(10)"
      ]
    },
    {
      "cell_type": "code",
      "execution_count": 8,
      "metadata": {
        "cell_id": "7a4ea72d84d142c288357e8cae3bfa1b",
        "deepnote_app_block_visible": true,
        "deepnote_cell_type": "code",
        "execution_context_id": "5253aea3-7312-495b-8a15-ede2fe226ecb",
        "execution_millis": 1,
        "execution_start": 1732030238279,
        "source_hash": "d0767f96"
      },
      "outputs": [],
      "source": [
        "# Tentukan batas bawah dan batas atas waktu yang wajar dalam format UNIX\n",
        "start_timestamp = pd.Timestamp('2020-01-01').timestamp()  # UNIX time untuk 1 Januari 2020\n",
        "end_timestamp = pd.Timestamp.now().timestamp()  # UNIX time saat ini\n",
        "\n",
        "# Hapus data dengan timestamp di luar rentang waktu yang wajar\n",
        "cuacaT = cuacaT[(cuacaT['timestamp'] >= start_timestamp) & (cuacaT['timestamp'] <= end_timestamp)]"
      ]
    },
    {
      "cell_type": "code",
      "execution_count": 9,
      "metadata": {
        "cell_id": "20edcf6de12b4799bd2fa7524987c54f",
        "deepnote_app_block_visible": true,
        "deepnote_cell_type": "code",
        "execution_context_id": "5253aea3-7312-495b-8a15-ede2fe226ecb",
        "execution_millis": 0,
        "execution_start": 1732030238335,
        "source_hash": "b41d3a28"
      },
      "outputs": [],
      "source": [
        "# Konversi timestamp ke datetime dalam format UTC\n",
        "cuacaT['timestamp'] = pd.to_datetime(cuacaT['timestamp'], unit='s', utc=True)\n",
        "\n",
        "# Mengonversi ke zona waktu WIB (Asia/Jakarta)\n",
        "cuacaT['timestamp'] = cuacaT['timestamp'].dt.tz_convert('Asia/Jakarta')"
      ]
    },
    {
      "cell_type": "code",
      "execution_count": 10,
      "metadata": {
        "cell_id": "85ed70155ad541cb9d4810963d85fbe4",
        "deepnote_app_block_visible": true,
        "deepnote_cell_type": "code",
        "execution_context_id": "31eaf9cf-2e81-439e-967f-37f61dcead6b",
        "execution_millis": 620,
        "execution_start": 1732030238387,
        "source_hash": "66cf00b0"
      },
      "outputs": [],
      "source": [
        "\n",
        "# Mengelompokkan data berdasarkan hari\n",
        "cuacaT['date'] = cuacaT['timestamp'].dt.date\n",
        "data_per_day = cuacaT.groupby('date').size().reset_index(name='count')\n",
        "\n",
        "# Visualisasi jumlah data per hari\n",
        "plt.figure(figsize=(15, 7))\n",
        "plt.plot(data_per_day['date'], data_per_day['count'], marker='o', linestyle='-')\n",
        "plt.axhline(y=1440, color='r', linestyle='--', label='Expected Data Count (1440)')\n",
        "plt.xlabel('Tanggal')\n",
        "plt.ylabel('Jumlah Data')\n",
        "plt.title('Jumlah Data per Hari (1440 diharapkan)')\n",
        "plt.xticks(rotation=45)\n",
        "plt.grid(True)\n",
        "plt.legend()\n",
        "plt.tight_layout()\n",
        "plt.show()\n",
        "\n",
        "# Menampilkan hari-hari yang tidak memenuhi 1440 data\n",
        "days_with_missing_data = data_per_day[data_per_day['count'] != 1440]\n",
        "print(\"Hari dengan jumlah data yang kurang dari 1440:\")\n",
        "print(days_with_missing_data)"
      ]
    },
    {
      "cell_type": "code",
      "execution_count": 11,
      "metadata": {
        "cell_id": "0dac854b40ec4308b91120e584f0a53f",
        "deepnote_app_block_visible": true,
        "deepnote_cell_type": "code",
        "execution_context_id": "5253aea3-7312-495b-8a15-ede2fe226ecb",
        "execution_millis": 1,
        "execution_start": 1732030239055,
        "source_hash": "6952ca37"
      },
      "outputs": [],
      "source": [
        "cuacaT.tail(10)"
      ]
    },
    {
      "cell_type": "code",
      "execution_count": 12,
      "metadata": {
        "cell_id": "5f77fd7aca114a40a8806361ddbf2b6a",
        "deepnote_app_block_visible": true,
        "deepnote_cell_type": "code",
        "execution_context_id": "7c40cd57-a012-4b20-b236-31be83374999",
        "execution_millis": 684,
        "execution_start": 1732030239107,
        "source_hash": "86bf466"
      },
      "outputs": [],
      "source": [
        "# Simpan DataFrame 'cuacaT' ke file CSV bernama 'Cuaca.csv'\n",
        "cuacaT.to_csv(\n",
        "#cuacaT.tail(43200).to_csv(\n",
        "    'cuaca.csv', \n",
        "    sep=',',\n",
        "    index=False,\n",
        "    index_label='timestamp'\n",
        ")"
      ]
    },
    {
      "cell_type": "code",
      "execution_count": 13,
      "metadata": {
        "cell_id": "aaa1637b78bd4bbe8079a10f12666896",
        "deepnote_app_block_visible": true,
        "deepnote_cell_type": "code",
        "execution_context_id": "6d9d0ee0-d1bb-4c10-baa1-d5552add82a0",
        "execution_millis": 98,
        "execution_start": 1732030239839,
        "source_hash": "271d66ab"
      },
      "outputs": [],
      "source": [
        "datacuaca = pd.read_csv(\"/work/cuaca.csv\")"
      ]
    },
    {
      "cell_type": "code",
      "execution_count": 14,
      "metadata": {
        "cell_id": "aac336c41c944f1ea66facde438edc80",
        "deepnote_app_block_visible": true,
        "deepnote_cell_type": "code",
        "execution_context_id": "6d9d0ee0-d1bb-4c10-baa1-d5552add82a0",
        "execution_millis": 1,
        "execution_start": 1732030239987,
        "source_hash": "64530a0a"
      },
      "outputs": [],
      "source": [
        "datacuaca"
      ]
    },
    {
      "cell_type": "code",
      "execution_count": 15,
      "metadata": {
        "cell_id": "88caa18746d44a3babbbfdefad30adf4",
        "deepnote_app_block_visible": true,
        "deepnote_cell_type": "code",
        "execution_context_id": "5253aea3-7312-495b-8a15-ede2fe226ecb",
        "execution_millis": 350,
        "execution_start": 1732030240043,
        "source_hash": "4959359"
      },
      "outputs": [],
      "source": [
        "# Mengubah kolom 'timestamp' menjadi datetime\n",
        "datacuaca['timestamp'] = pd.to_datetime(datacuaca['timestamp'])\n",
        "\n",
        "# Mengurutkan data berdasarkan 'timestamp'\n",
        "datacuaca = datacuaca.sort_values(by='timestamp')\n",
        "\n",
        "# Menambahkan kolom 'hour', 'minute', 'day', 'month', dan 'year' dari 'timestamp'\n",
        "datacuaca['hour'] = datacuaca['timestamp'].dt.hour\n",
        "datacuaca['minute'] = datacuaca['timestamp'].dt.minute\n",
        "datacuaca['day'] = datacuaca['timestamp'].dt.day\n",
        "datacuaca['month'] = datacuaca['timestamp'].dt.month\n",
        "datacuaca['year'] = datacuaca['timestamp'].dt.year\n",
        "\n",
        "# Menghapus data yang memiliki nilai kurang dari 0 pada kolom tertentu (misalnya suhu, kelembapan, tekanan, dll)\n",
        "# Gantilah nama kolom sesuai dengan nama kolom pada DataFrame Anda\n",
        "datacuaca = datacuaca[(datacuaca['temperature'] >= 10) & \n",
        "                      (datacuaca['humidity'] >= 0) & \n",
        "                      (datacuaca['pressure'] >= 1000) & \n",
        "                      (datacuaca['dew'] >= 10) &\n",
        "                      (datacuaca['volt'] >= 0)]\n",
        "\n",
        "# Tampilkan hasil\n",
        "print(datacuaca.head())"
      ]
    },
    {
      "cell_type": "code",
      "execution_count": 16,
      "metadata": {
        "cell_id": "cbc83ac30aeb42f58625f255266dfc8c",
        "deepnote_app_block_visible": true,
        "deepnote_cell_type": "code",
        "execution_context_id": "7c40cd57-a012-4b20-b236-31be83374999",
        "execution_millis": 290,
        "execution_start": 1732030240447,
        "source_hash": "26b3198d"
      },
      "outputs": [],
      "source": [
        "# Mengelompokkan data berdasarkan 'month' dan 'day', menghitung rata-rata suhu\n",
        "datacuaca_grouped = datacuaca.groupby(['month', 'day']).agg({'temperature': 'mean'}).reset_index()\n",
        "\n",
        "# Pivot dataframe untuk membuat format yang sesuai dengan heatmap (sumbu X: hari, sumbu Y: bulan)\n",
        "temperature_pivot = datacuaca_grouped.pivot(index='month', columns='day', values='temperature')\n",
        "\n",
        "# Visualisasi heatmap menggunakan seaborn\n",
        "sns.set_theme()\n",
        "\n",
        "# Mengatur ukuran grafik\n",
        "f, ax = plt.subplots(figsize=(20, 10))\n",
        "\n",
        "# Membuat heatmap dengan anotasi nilai di setiap sel\n",
        "sns.heatmap(temperature_pivot, annot=True, fmt=\".1f\", linewidths=.5, ax=ax, cmap=\"coolwarm\")\n",
        "\n",
        "# Memberi label pada sumbu\n",
        "ax.set_xlabel('Day (UTC+7)')\n",
        "ax.set_ylabel('Month')\n",
        "\n",
        "# Menampilkan heatmap\n",
        "plt.show()\n"
      ]
    },
    {
      "cell_type": "code",
      "execution_count": 17,
      "metadata": {
        "cell_id": "2ac977017b0e4de7b071ee9c5cc9c8a9",
        "deepnote_app_block_visible": true,
        "deepnote_cell_type": "code",
        "execution_context_id": "7c40cd57-a012-4b20-b236-31be83374999",
        "execution_millis": 394,
        "execution_start": 1732030240787,
        "source_hash": "7224315d"
      },
      "outputs": [],
      "source": [
        "# Mengonversi kolom 'timestamp' menjadi datetime jika belum\n",
        "datacuaca['timestamp'] = pd.to_datetime(datacuaca['timestamp'])\n",
        "\n",
        "month_names = ['January', 'February', 'March', 'April', 'May', 'June', 'July', 'August', 'September','October', 'November', 'December']\n",
        "\n",
        "# Menentukan rentang bulan dari Januari hingga September\n",
        "months = range(1, 12)  # Bulan 1 hingga 9\n",
        "\n",
        "# Mengatur ukuran grafik untuk menampung semua heatmap\n",
        "fig, axs = plt.subplots(4, 3, figsize=(60, 45))\n",
        "axs = axs.flatten()  # Meratakan array subplot untuk iterasi yang lebih mudah\n",
        "\n",
        "# Looping untuk setiap bulan\n",
        "for month in months:\n",
        "    # Filter data untuk bulan tertentu\n",
        "    monthly_data = datacuaca[(datacuaca['timestamp'].dt.year == 2024) & (datacuaca['timestamp'].dt.month == month)]\n",
        "\n",
        "    # Mengurutkan data berdasarkan 'timestamp'\n",
        "    monthly_data = monthly_data.sort_values(by='timestamp')\n",
        "\n",
        "    # Menambahkan kolom 'day' dan 'hour' dari 'timestamp'\n",
        "    monthly_data['day'] = monthly_data['timestamp'].dt.day\n",
        "    monthly_data['hour'] = monthly_data['timestamp'].dt.hour\n",
        "\n",
        "    # Mengelompokkan data berdasarkan 'day' dan 'hour', dan menghitung rata-rata suhu\n",
        "    datacuaca_grouped = monthly_data.groupby(['day', 'hour']).agg({'temperature': 'mean'}).reset_index()\n",
        "\n",
        "    # Pivot dataframe untuk membuat format yang sesuai dengan heatmap\n",
        "    temperature_pivot = datacuaca_grouped.pivot(index='day', columns='hour', values='temperature')\n",
        "\n",
        "    # Membuat heatmap untuk bulan tersebut\n",
        "    sns.heatmap(temperature_pivot, annot=True, fmt=\".1f\", linewidths=.5, ax=axs[month-1], cmap=\"coolwarm\")\n",
        "    \n",
        "    # Memberi judul pada heatmap\n",
        "    axs[month-1].set_title(f'Temperature Heatmap for {month_names[month-1]} 2024')\n",
        "    axs[month-1].set_xlabel('Hour of Day (UTC+7)')\n",
        "    axs[month-1].set_ylabel('Day of Month')\n",
        "\n",
        "# Mengatur layout\n",
        "plt.tight_layout()\n",
        "\n",
        "# Menampilkan heatmaps\n",
        "plt.savefig(\"Heatmap_month.jpg\")\n",
        "plt.show()\n",
        "\n"
      ]
    },
    {
      "cell_type": "code",
      "execution_count": 18,
      "metadata": {
        "cell_id": "678316bbd0824aa2a89f089afc9f3d3b",
        "deepnote_app_block_visible": true,
        "deepnote_cell_type": "code",
        "deepnote_to_be_reexecuted": true,
        "execution_context_id": "6d9d0ee0-d1bb-4c10-baa1-d5552add82a0",
        "execution_millis": 0,
        "execution_start": 1731557701659,
        "source_hash": "6302bceb"
      },
      "outputs": [],
      "source": [
        "pilih_tahun = 2024\n",
        "pilih_bulan = 11"
      ]
    },
    {
      "cell_type": "code",
      "execution_count": 19,
      "metadata": {
        "cell_id": "f2fe299aefe24ca997368551dc7718a0",
        "deepnote_app_block_visible": true,
        "deepnote_cell_type": "code",
        "deepnote_to_be_reexecuted": true,
        "execution_context_id": "6d9d0ee0-d1bb-4c10-baa1-d5552add82a0",
        "execution_millis": 1435,
        "execution_start": 1731557701710,
        "source_hash": "5e533095"
      },
      "outputs": [],
      "source": [
        "# Mengonversi kolom 'timestamp' menjadi datetime jika belum\n",
        "datacuaca['timestamp'] = pd.to_datetime(datacuaca['timestamp'])\n",
        "\n",
        "# Filter data untuk bulan Tertentu\n",
        "datacuaca_month = datacuaca[(datacuaca['timestamp'].dt.year == pilih_tahun) & (datacuaca['timestamp'].dt.month == pilih_bulan)]\n",
        "\n",
        "# Mengurutkan data berdasarkan 'timestamp'\n",
        "datacuaca_month = datacuaca_month.sort_values(by='timestamp')\n",
        "\n",
        "# Menambahkan kolom 'day' dan 'hour' dari 'timestamp'\n",
        "datacuaca_month['day'] = datacuaca_month['timestamp'].dt.day\n",
        "datacuaca_month['hour'] = datacuaca_month['timestamp'].dt.hour\n",
        "\n",
        "# Mengelompokkan data berdasarkan 'day' dan 'hour', dan menghitung rata-rata suhu\n",
        "datacuaca_grouped = datacuaca_month.groupby(['day', 'hour']).agg({'temperature': 'mean'}).reset_index()\n",
        "\n",
        "# Pivot dataframe untuk membuat format yang sesuai dengan heatmap\n",
        "temperature_pivot = datacuaca_grouped.pivot(index='day', columns='hour', values='temperature')\n",
        "\n",
        "# Visualisasi heatmap menggunakan seaborn\n",
        "sns.set_theme()\n",
        "\n",
        "# Mengatur ukuran grafik\n",
        "f, ax = plt.subplots(figsize=(24, 16))\n",
        "\n",
        "# Membuat heatmap dengan anotasi nilai di setiap sel\n",
        "sns.heatmap(temperature_pivot, annot=True, fmt=\".1f\", linewidths=.5, ax=ax, cmap=\"coolwarm\")\n",
        "\n",
        "# Memberi label pada sumbu\n",
        "ax.set_xlabel('Hour of Day (UTC+7)')\n",
        "ax.set_ylabel('Day of Month')\n",
        "\n",
        "# Menampilkan heatmap\n",
        "plt.savefig(\"Temp_month.jpg\")\n",
        "plt.show()\n",
        "\n"
      ]
    },
    {
      "cell_type": "code",
      "execution_count": 20,
      "metadata": {
        "cell_id": "ccb124a7114c4b278b33bebd032a6147",
        "deepnote_app_block_visible": true,
        "deepnote_cell_type": "code",
        "deepnote_to_be_reexecuted": true,
        "execution_context_id": "6d9d0ee0-d1bb-4c10-baa1-d5552add82a0",
        "execution_millis": 784,
        "execution_start": 1731557703198,
        "source_hash": "b409fb2e"
      },
      "outputs": [],
      "source": [
        "# Mengonversi kolom 'timestamp' menjadi datetime jika belum\n",
        "datacuaca['timestamp'] = pd.to_datetime(datacuaca['timestamp'])\n",
        "\n",
        "# Filter data untuk bulan Tertentu\n",
        "datacuaca_month = datacuaca[(datacuaca['timestamp'].dt.year == pilih_tahun) & (datacuaca['timestamp'].dt.month == pilih_bulan)]\n",
        "\n",
        "# Mengurutkan data berdasarkan 'timestamp'\n",
        "datacuaca_month = datacuaca_month.sort_values(by='timestamp')\n",
        "\n",
        "# Menambahkan kolom 'day' dan 'hour' dari 'timestamp'\n",
        "datacuaca_month['day'] = datacuaca_month['timestamp'].dt.day\n",
        "datacuaca_month['hour'] = datacuaca_month['timestamp'].dt.hour\n",
        "\n",
        "# Mengelompokkan data berdasarkan 'day' dan 'hour', dan menghitung rata-rata suhu\n",
        "datacuaca_grouped = datacuaca_month.groupby(['day', 'hour']).agg({'humidity': 'mean'}).reset_index()\n",
        "\n",
        "# Pivot dataframe untuk membuat format yang sesuai dengan heatmap\n",
        "humidity_pivot = datacuaca_grouped.pivot(index='day', columns='hour', values='humidity')\n",
        "\n",
        "# Visualisasi heatmap menggunakan seaborn\n",
        "sns.set_theme()\n",
        "\n",
        "# Mengatur ukuran grafik\n",
        "f, ax = plt.subplots(figsize=(24, 16))\n",
        "\n",
        "# Membuat heatmap dengan anotasi nilai di setiap sel\n",
        "sns.heatmap(humidity_pivot, annot=True, fmt=\".1f\", linewidths=.5, ax=ax, cmap=\"Blues\")\n",
        "\n",
        "# Memberi label pada sumbu\n",
        "ax.set_xlabel('Hour of Day (UTC+7)')\n",
        "ax.set_ylabel('Day of Month')\n",
        "\n",
        "# Menampilkan heatmap\n",
        "plt.show()"
      ]
    },
    {
      "cell_type": "code",
      "execution_count": 21,
      "metadata": {
        "cell_id": "d3b58d89a33b4854adfd5f8eab66c633",
        "deepnote_app_block_visible": true,
        "deepnote_cell_type": "code",
        "deepnote_to_be_reexecuted": true,
        "execution_context_id": "6d9d0ee0-d1bb-4c10-baa1-d5552add82a0",
        "execution_millis": 235,
        "execution_start": 1731557704026,
        "source_hash": "f802a86e"
      },
      "outputs": [],
      "source": [
        "# Mengonversi kolom 'timestamp' menjadi datetime jika belum\n",
        "datacuaca['timestamp'] = pd.to_datetime(datacuaca['timestamp'])\n",
        "\n",
        "# Filter data untuk bulan Tertentu\n",
        "datacuaca_month = datacuaca[(datacuaca['timestamp'].dt.year == pilih_tahun) & (datacuaca['timestamp'].dt.month == pilih_bulan)]\n",
        "\n",
        "# Mengurutkan data berdasarkan 'timestamp'\n",
        "datacuaca_month = datacuaca_month.sort_values(by='timestamp')\n",
        "\n",
        "# Menambahkan kolom 'day' dan 'hour' dari 'timestamp'\n",
        "datacuaca_month['day'] = datacuaca_month['timestamp'].dt.day\n",
        "datacuaca_month['hour'] = datacuaca_month['timestamp'].dt.hour\n",
        "\n",
        "# Mengelompokkan data berdasarkan 'day' dan 'hour', dan menghitung rata-rata suhu\n",
        "datacuaca_grouped = datacuaca_month.groupby(['day', 'hour']).agg({'pressure': 'mean'}).reset_index()\n",
        "\n",
        "# Pivot dataframe untuk membuat format yang sesuai dengan heatmap\n",
        "pressure_pivot = datacuaca_grouped.pivot(index='day', columns='hour', values='pressure')\n",
        "\n",
        "# Visualisasi heatmap menggunakan seaborn\n",
        "sns.set_theme()\n",
        "\n",
        "# Mengatur ukuran grafik\n",
        "f, ax = plt.subplots(figsize=(24, 16))\n",
        "\n",
        "# Membuat heatmap dengan anotasi nilai di setiap sel\n",
        "sns.heatmap(pressure_pivot, annot=True, fmt=\".1f\", linewidths=.5, ax=ax, cmap=\"viridis\")\n",
        "\n",
        "# Memberi label pada sumbu\n",
        "ax.set_xlabel('Hour of Day (UTC+7)')\n",
        "ax.set_ylabel('Day of Month')\n",
        "\n",
        "# Menampilkan heatmap"
      ]
    },
    {
      "cell_type": "code",
      "execution_count": 22,
      "metadata": {
        "cell_id": "49ca7217fc3c4ed6a83cbce6dbccdc3e",
        "deepnote_app_block_visible": true,
        "deepnote_cell_type": "code",
        "deepnote_to_be_reexecuted": true,
        "execution_context_id": "6d9d0ee0-d1bb-4c10-baa1-d5552add82a0",
        "execution_millis": 287,
        "execution_start": 1731557705039,
        "source_hash": "4f0d213c"
      },
      "outputs": [],
      "source": [
        "# Mengonversi kolom 'timestamp' menjadi datetime jika belum\n",
        "datacuaca['timestamp'] = pd.to_datetime(datacuaca['timestamp'])\n",
        "\n",
        "# Filter data untuk bulan Tertentu\n",
        "datacuaca_month = datacuaca[(datacuaca['timestamp'].dt.year == pilih_tahun) & (datacuaca['timestamp'].dt.month == pilih_bulan)]\n",
        "\n",
        "# Mengurutkan data berdasarkan 'timestamp'\n",
        "datacuaca_month = datacuaca_month.sort_values(by='timestamp')\n",
        "\n",
        "# Menambahkan kolom 'day' dan 'hour' dari 'timestamp'\n",
        "datacuaca_month['day'] = datacuaca_month['timestamp'].dt.day\n",
        "datacuaca_month['hour'] = datacuaca_month['timestamp'].dt.hour\n",
        "\n",
        "# Mengelompokkan data berdasarkan 'day' dan 'hour', dan menghitung rata-rata suhu\n",
        "datacuaca_grouped = datacuaca_month.groupby(['day', 'hour']).agg({'dew': 'mean'}).reset_index()\n",
        "\n",
        "# Pivot dataframe untuk membuat format yang sesuai dengan heatmap\n",
        "dew_pivot = datacuaca_grouped.pivot(index='day', columns='hour', values='dew')\n",
        "\n",
        "# Visualisasi heatmap menggunakan seaborn\n",
        "sns.set_theme()\n",
        "\n",
        "# Mengatur ukuran grafik\n",
        "f, ax = plt.subplots(figsize=(24, 16))\n",
        "\n",
        "# Membuat heatmap dengan anotasi nilai di setiap sel\n",
        "sns.heatmap(dew_pivot, annot=True, fmt=\".1f\", linewidths=.5, ax=ax, cmap=\"coolwarm\")\n",
        "\n",
        "# Memberi label pada sumbu\n",
        "ax.set_xlabel('Hour of Day (UTC+7)')\n",
        "ax.set_ylabel('Day of Month')\n",
        "\n",
        "# Menampilkan heatmap"
      ]
    },
    {
      "cell_type": "markdown",
      "metadata": {
        "created_in_deepnote_cell": true,
        "deepnote_cell_type": "markdown"
      },
      "source": [
        "<a style='text-decoration:none;line-height:16px;display:flex;color:#5B5B62;padding:10px;justify-content:end;' href='https://deepnote.com?utm_source=created-in-deepnote-cell&projectId=200afad5-8991-4e20-8a55-8751c7aff3b5' target=\"_blank\">\n",
        "<img alt='Created in deepnote.com' style='display:inline;max-height:16px;margin:0px;margin-right:7.5px;' src='data:image/svg+xml;base64,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' > </img>\n",
        "Created in <span style='font-weight:600;margin-left:4px;'>Deepnote</span></a>"
      ]
    }
  ],
  "metadata": {
    "deepnote_app_layout": "powerful-article",
    "deepnote_app_reactivity_enabled": true,
    "deepnote_app_run_on_load_enabled": true,
    "deepnote_notebook_id": "ede4852b83f449199ffb2b4fe4be281e",
    "deepnote_persisted_session": {
      "createdAt": "2024-11-18T10:20:19.641Z"
    },
    "kernelspec": {
      "display_name": "panel",
      "language": "python",
      "name": "python3"
    },
    "language_info": {
      "codemirror_mode": {
        "name": "ipython",
        "version": 3
      },
      "file_extension": ".py",
      "mimetype": "text/x-python",
      "name": "python",
      "nbconvert_exporter": "python",
      "pygments_lexer": "ipython3",
      "version": "3.13.2"
    }
  },
  "nbformat": 4,
  "nbformat_minor": 0
}
