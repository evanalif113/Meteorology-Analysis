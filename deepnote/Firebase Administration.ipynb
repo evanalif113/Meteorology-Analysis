{
  "cells": [
    {
      "cell_type": "markdown",
      "metadata": {
        "formattedRanges": [],
        "cell_id": "1cc7f553c57d4f39b761d3b293acc1c4",
        "deepnote_cell_type": "text-cell-p"
      },
      "source": "",
      "block_group": "e5fc2176884f492a894e91157ab7c62f"
    },
    {
      "cell_type": "code",
      "metadata": {
        "source_hash": "4b414174",
        "execution_start": 1731246790890,
        "execution_millis": 4223,
        "execution_context_id": "88af0c41-9c99-4a0e-bcd8-586617c76d1f",
        "deepnote_app_block_visible": true,
        "cell_id": "561f2ebf823d4e85b53bdf7cad36afd7",
        "deepnote_cell_type": "code"
      },
      "source": "!pip install firebase-admin\nimport firebase_admin\nfrom firebase_admin import credentials, db\nfrom datetime import datetime  # Untuk konversi timestamp ke human-readable",
      "block_group": "f5848471b3b84c1fb90d3ceb28889cca",
      "execution_count": 1,
      "outputs": [],
      "outputs_reference": null,
      "content_dependencies": null
    },
    {
      "cell_type": "code",
      "metadata": {
        "source_hash": "231ef031",
        "execution_start": 1731246818591,
        "execution_millis": 132,
        "execution_context_id": "88af0c41-9c99-4a0e-bcd8-586617c76d1f",
        "deepnote_app_block_visible": true,
        "cell_id": "57f32af2575a46a6bd43fc254e1b6e43",
        "deepnote_cell_type": "code"
      },
      "source": "# Inisialisasi Firebase Admin SDK\ncred = credentials.Certificate('/work/database-sensor-iklim-litbang-firebase-admin.json')  # Sesuaikan dengan path file JSON\nfirebase_admin.initialize_app(cred, {\n    'databaseURL': 'https://database-sensor-iklim-litbang-default-rtdb.asia-southeast1.firebasedatabase.app/'  # Ganti dengan URL Firebase RTDB kamu\n})",
      "block_group": "61796429274747ccb7c96c40d229f11d",
      "execution_count": 2,
      "outputs": [],
      "outputs_reference": null,
      "content_dependencies": null
    },
    {
      "cell_type": "code",
      "metadata": {
        "source_hash": "189bc59b",
        "execution_start": 1731210639698,
        "execution_millis": 213,
        "execution_context_id": "c3e5d6bc-e442-4d0e-adc3-c611a39d3474",
        "deepnote_app_block_visible": true,
        "cell_id": "a06276369ee84db7a89aa7a82c06cf34",
        "deepnote_cell_type": "code"
      },
      "source": "# Referensi ke Firebase RTDB\nref = db.reference('auto_weather_stat/id-02/metadata')\n\n# Data yang akan ditambahkan ke metadata\nnew_metadata = {\n    'name': 'Stasiun Iklim Lumbu',\n    'location': 'Lumbu, Kutowinangun, Kebumen, Indonesia',\n    'description': 'Stasiun penelitian',\n    'sensor_type': 'SHT40',\n    'installation_date': '2023-01-15'\n}\n\n# Tambahkan data metadata ke Firebase\nref.update(new_metadata)\nprint(\"Metadata berhasil ditambahkan.\")\n",
      "block_group": "7f900ceeb04949da9db6bc80622d21f8",
      "execution_count": 12,
      "outputs": [],
      "outputs_reference": null,
      "content_dependencies": null
    },
    {
      "cell_type": "code",
      "metadata": {
        "deepnote_app_block_visible": true,
        "cell_id": "e5f9ad0f00974c7687b624e0332f9f13",
        "deepnote_cell_type": "code"
      },
      "source": "!pip install firebase-admin\nimport firebase_admin\nfrom firebase_admin import credentials, db\nfrom datetime import datetime  # Untuk konversi timestamp ke human-readable",
      "block_group": "50bec3bedf0c4d5ba2eb6ff344d623f8",
      "execution_count": null,
      "outputs": [],
      "outputs_reference": null,
      "content_dependencies": null
    },
    {
      "cell_type": "code",
      "metadata": {
        "deepnote_app_block_visible": true,
        "cell_id": "9b0fee56503e4288aacd2cffd86cb49c",
        "deepnote_cell_type": "code"
      },
      "source": "# Inisialisasi Firebase Admin SDK\ncred = credentials.Certificate('/work/staklimjerukagung-firebase-admin.json')  # Sesuaikan dengan path file JSON\nfirebase_admin.initialize_app(cred, {\n    'databaseURL': 'https://staklimjerukagung-default-rtdb.asia-southeast1.firebasedatabase.app/'  # Ganti dengan URL Firebase RTDB kamu\n})",
      "block_group": "454f9619cd324391a05bc4f52e4ff4bf",
      "execution_count": null,
      "outputs": [],
      "outputs_reference": null,
      "content_dependencies": null
    },
    {
      "cell_type": "code",
      "metadata": {
        "source_hash": "b092ad6",
        "execution_start": 1731248632414,
        "execution_millis": 28940,
        "execution_context_id": "88af0c41-9c99-4a0e-bcd8-586617c76d1f",
        "deepnote_app_block_visible": true,
        "cell_id": "10fb1f451d704cc090250b9696c3afe2",
        "deepnote_cell_type": "code"
      },
      "source": "# Ambil input tanggal dan waktu dari pengguna dalam format YYYY-MM-DD HH:MM:SS\ntanggal_waktu = input(\"Masukkan tanggal dan waktu (format: YYYY-MM-DD HH:MM:SS): \")\n\n# Ubah input menjadi objek datetime\ndt_obj = datetime.strptime(tanggal_waktu, '%Y-%m-%d %H:%M:%S')\n\n# Konversi ke timestamp\ntimestamp = dt_obj.timestamp()\n\n# Referensi ke Firebase RTDB menggunakan timestamp sebagai key\nref = db.reference('auto_weather_stat/id-04/data/' + str(int(timestamp)))\n\n# Data yang akan ditambahkan\nnew_data = {\n    \"dew\": 26.99206,\n    \"humidity\": 97.75,\n    \"pressure\": 1012.29,\n    \"temperature\": 27.38,\n    \"timestamp\": timestamp,\n    \"volt\": 4.06\n}\n\n# Tambahkan data ke Firebase\nref.update(new_data)\nprint(\"Data berhasil ditambahkan.\")",
      "block_group": "fad5c74b89354e838f2e416141f5c76a",
      "execution_count": 18,
      "outputs": [],
      "outputs_reference": null,
      "content_dependencies": null
    },
    {
      "cell_type": "markdown",
      "source": "<a style='text-decoration:none;line-height:16px;display:flex;color:#5B5B62;padding:10px;justify-content:end;' href='https://deepnote.com?utm_source=created-in-deepnote-cell&projectId=200afad5-8991-4e20-8a55-8751c7aff3b5' target=\"_blank\">\n<img alt='Created in deepnote.com' style='display:inline;max-height:16px;margin:0px;margin-right:7.5px;' src='data:image/svg+xml;base64,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' > </img>\nCreated in <span style='font-weight:600;margin-left:4px;'>Deepnote</span></a>",
      "metadata": {
        "created_in_deepnote_cell": true,
        "deepnote_cell_type": "markdown"
      }
    }
  ],
  "nbformat": 4,
  "nbformat_minor": 0,
  "metadata": {
    "deepnote_app_layout": "powerful-article",
    "deepnote_app_reactivity_enabled": true,
    "deepnote_notebook_id": "deb1dce7320e4dddaa343bb146dc6c91"
  }
}